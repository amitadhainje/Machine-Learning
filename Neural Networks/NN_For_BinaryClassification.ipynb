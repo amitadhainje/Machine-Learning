{
  "cells": [
    {
      "metadata": {
        "_uuid": "aaa3d13ab0060bc1183f337259b62af3bee415b1"
      },
      "cell_type": "markdown",
      "source": "### Using Pima Indians Diabetes dataset to implement Neural Networks for Classification. Also using K-Fold Cross Validation for the same."
    },
    {
      "metadata": {
        "_uuid": "8f2839f25d086af736a60e9eeb907d3b93b6e0e5",
        "_cell_guid": "b1076dfc-b9ad-4769-8c92-a6c4dae69d19",
        "trusted": true
      },
      "cell_type": "code",
      "source": "import numpy as np\nimport pandas as pd\nfrom keras.models import Sequential\nfrom keras.layers import Dense\nfrom sklearn.model_selection import StratifiedKFold\n\ndataframe =  pd.read_csv('../input/pima-indians-diabetes-database/diabetes.csv')\ndataset =  dataframe.values\nX = dataset[:,0:8]\nY = dataset[:,8]\nnp.random.seed(7)\nkfold = StratifiedKFold(n_splits=10, shuffle=True, random_state=7)\ncvscores = []\nfor train, test in kfold.split(X, Y):\n    # create model\n    model = Sequential()\n    model.add(Dense(12, input_dim=8, activation='relu'))\n    model.add(Dense(8, activation='relu'))\n    model.add(Dense(1, activation='sigmoid'))\n    # Compile model\n    model.compile(loss='binary_crossentropy', optimizer='adam', metrics=['accuracy'])\n    # Fit the model\n    model.fit(X[train], Y[train], epochs=30, batch_size=10, verbose=0)\n    # evaluate the model\n    scores = model.evaluate(X[test], Y[test], verbose=0)\n    print(\"Individual Fold %s: %.2f%%\" % (model.metrics_names[1], scores[1]*100))\n    cvscores.append(scores[1] * 100)\nprint(\"Final Result - %.2f%% (+/- %.2f%%)\" % (np.mean(cvscores), np.std(cvscores)))\n",
      "execution_count": 2,
      "outputs": [
        {
          "output_type": "stream",
          "text": "Individual Fold acc: 64.94%\nIndividual Fold acc: 72.73%\nIndividual Fold acc: 67.53%\nIndividual Fold acc: 70.13%\nIndividual Fold acc: 66.23%\nIndividual Fold acc: 76.62%\nIndividual Fold acc: 66.23%\nIndividual Fold acc: 35.06%\nIndividual Fold acc: 71.05%\nIndividual Fold acc: 71.05%\nFinal Result - 66.16% (+/- 10.89%)\n",
          "name": "stdout"
        }
      ]
    },
    {
      "metadata": {
        "trusted": true,
        "collapsed": true,
        "_uuid": "0a931778fde7383bdbdfb02608983f51ad914c5e"
      },
      "cell_type": "code",
      "source": "",
      "execution_count": null,
      "outputs": []
    }
  ],
  "metadata": {
    "language_info": {
      "name": "python",
      "version": "3.6.5",
      "mimetype": "text/x-python",
      "codemirror_mode": {
        "name": "ipython",
        "version": 3
      },
      "pygments_lexer": "ipython3",
      "nbconvert_exporter": "python",
      "file_extension": ".py"
    },
    "kernelspec": {
      "display_name": "Python 3",
      "language": "python",
      "name": "python3"
    }
  },
  "nbformat": 4,
  "nbformat_minor": 1
}