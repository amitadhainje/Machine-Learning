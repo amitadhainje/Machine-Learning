{
  "cells": [
    {
      "metadata": {
        "_uuid": "8f2839f25d086af736a60e9eeb907d3b93b6e0e5",
        "_cell_guid": "b1076dfc-b9ad-4769-8c92-a6c4dae69d19",
        "trusted": true,
        "collapsed": true
      },
      "cell_type": "code",
      "source": "import numpy as np\nimport pandas as pd\nimport matplotlib.pyplot as plt\nimport nltk\nfrom nltk import word_tokenize, sent_tokenize\nfrom nltk.corpus import stopwords\nfrom nltk.stem.porter import PorterStemmer\nfrom sklearn.feature_extraction.text import CountVectorizer\nfrom nltk.probability import FreqDist\n\ndataset = pd.read_csv('../input/kindle_reviews.csv', na_filter=False)\nnewdf = dataset[:10000]",
      "execution_count": 1,
      "outputs": []
    },
    {
      "metadata": {
        "_cell_guid": "79c7e3d0-c299-4dcb-8224-4455121ee9b0",
        "collapsed": true,
        "_uuid": "d629ff2d2480ee46fbb7e2d37f6b5fab8052498a",
        "trusted": false
      },
      "cell_type": "markdown",
      "source": "### Lets Review the data "
    },
    {
      "metadata": {
        "trusted": true,
        "_uuid": "ccd6d52e2b7184e04ff36cd399b0a85de9a973fa"
      },
      "cell_type": "code",
      "source": "newdf.head()",
      "execution_count": 2,
      "outputs": [
        {
          "output_type": "execute_result",
          "execution_count": 2,
          "data": {
            "text/plain": "   Unnamed: 0        asin       ...                   summary  unixReviewTime\n0           0  B000F83SZQ       ...        Nice vintage story      1399248000\n1           1  B000F83SZQ       ...              Different...      1388966400\n2           2  B000F83SZQ       ...                     Oldie      1396569600\n3           3  B000F83SZQ       ...        I really liked it.      1392768000\n4           4  B000F83SZQ       ...            Period Mystery      1395187200\n\n[5 rows x 10 columns]",
            "text/html": "<div>\n<style scoped>\n    .dataframe tbody tr th:only-of-type {\n        vertical-align: middle;\n    }\n\n    .dataframe tbody tr th {\n        vertical-align: top;\n    }\n\n    .dataframe thead th {\n        text-align: right;\n    }\n</style>\n<table border=\"1\" class=\"dataframe\">\n  <thead>\n    <tr style=\"text-align: right;\">\n      <th></th>\n      <th>Unnamed: 0</th>\n      <th>asin</th>\n      <th>helpful</th>\n      <th>overall</th>\n      <th>reviewText</th>\n      <th>reviewTime</th>\n      <th>reviewerID</th>\n      <th>reviewerName</th>\n      <th>summary</th>\n      <th>unixReviewTime</th>\n    </tr>\n  </thead>\n  <tbody>\n    <tr>\n      <th>0</th>\n      <td>0</td>\n      <td>B000F83SZQ</td>\n      <td>[0, 0]</td>\n      <td>5</td>\n      <td>I enjoy vintage books and movies so I enjoyed ...</td>\n      <td>05 5, 2014</td>\n      <td>A1F6404F1VG29J</td>\n      <td>Avidreader</td>\n      <td>Nice vintage story</td>\n      <td>1399248000</td>\n    </tr>\n    <tr>\n      <th>1</th>\n      <td>1</td>\n      <td>B000F83SZQ</td>\n      <td>[2, 2]</td>\n      <td>4</td>\n      <td>This book is a reissue of an old one; the auth...</td>\n      <td>01 6, 2014</td>\n      <td>AN0N05A9LIJEQ</td>\n      <td>critters</td>\n      <td>Different...</td>\n      <td>1388966400</td>\n    </tr>\n    <tr>\n      <th>2</th>\n      <td>2</td>\n      <td>B000F83SZQ</td>\n      <td>[2, 2]</td>\n      <td>4</td>\n      <td>This was a fairly interesting read.  It had ol...</td>\n      <td>04 4, 2014</td>\n      <td>A795DMNCJILA6</td>\n      <td>dot</td>\n      <td>Oldie</td>\n      <td>1396569600</td>\n    </tr>\n    <tr>\n      <th>3</th>\n      <td>3</td>\n      <td>B000F83SZQ</td>\n      <td>[1, 1]</td>\n      <td>5</td>\n      <td>I'd never read any of the Amy Brewster mysteri...</td>\n      <td>02 19, 2014</td>\n      <td>A1FV0SX13TWVXQ</td>\n      <td>Elaine H. Turley \"Montana Songbird\"</td>\n      <td>I really liked it.</td>\n      <td>1392768000</td>\n    </tr>\n    <tr>\n      <th>4</th>\n      <td>4</td>\n      <td>B000F83SZQ</td>\n      <td>[0, 1]</td>\n      <td>4</td>\n      <td>If you like period pieces - clothing, lingo, y...</td>\n      <td>03 19, 2014</td>\n      <td>A3SPTOKDG7WBLN</td>\n      <td>Father Dowling Fan</td>\n      <td>Period Mystery</td>\n      <td>1395187200</td>\n    </tr>\n  </tbody>\n</table>\n</div>"
          },
          "metadata": {}
        }
      ]
    },
    {
      "metadata": {
        "trusted": true,
        "_uuid": "b00e04c07881de76017b4e9f328529a0cd2b7568"
      },
      "cell_type": "code",
      "source": "newdf.columns",
      "execution_count": 3,
      "outputs": [
        {
          "output_type": "execute_result",
          "execution_count": 3,
          "data": {
            "text/plain": "Index(['Unnamed: 0', 'asin', 'helpful', 'overall', 'reviewText', 'reviewTime',\n       'reviewerID', 'reviewerName', 'summary', 'unixReviewTime'],\n      dtype='object')"
          },
          "metadata": {}
        }
      ]
    },
    {
      "metadata": {
        "trusted": true,
        "_uuid": "280b68b8ff810135a176e270471a8ada79253236"
      },
      "cell_type": "code",
      "source": "newdf.dtypes",
      "execution_count": 4,
      "outputs": [
        {
          "output_type": "execute_result",
          "execution_count": 4,
          "data": {
            "text/plain": "Unnamed: 0         int64\nasin              object\nhelpful           object\noverall            int64\nreviewText        object\nreviewTime        object\nreviewerID        object\nreviewerName      object\nsummary           object\nunixReviewTime     int64\ndtype: object"
          },
          "metadata": {}
        }
      ]
    },
    {
      "metadata": {
        "trusted": true,
        "_uuid": "88a8e41a5a69999317d49920769b483a47ada9e7"
      },
      "cell_type": "code",
      "source": "print (\"Shape of the dataset - \", newdf.shape)\n#check for the missing values\nnewdf.apply(lambda x: sum(x.isnull()))",
      "execution_count": 5,
      "outputs": [
        {
          "output_type": "stream",
          "text": "Shape of the dataset -  (10000, 10)\n",
          "name": "stdout"
        },
        {
          "output_type": "execute_result",
          "execution_count": 5,
          "data": {
            "text/plain": "Unnamed: 0        0\nasin              0\nhelpful           0\noverall           0\nreviewText        0\nreviewTime        0\nreviewerID        0\nreviewerName      0\nsummary           0\nunixReviewTime    0\ndtype: int64"
          },
          "metadata": {}
        }
      ]
    },
    {
      "metadata": {
        "_uuid": "9b0d3dc1cd977c5c3539b768cd0e65371ea732df"
      },
      "cell_type": "markdown",
      "source": "###  We have reviews in the range of [1-5]. Lets consider \"3\" as the neutral review, we can summarize the following points:\n*  More than 6000 reviews are positive and hence around 90% reviews are positive"
    },
    {
      "metadata": {
        "trusted": true,
        "_uuid": "31adc9bdf21a12869955acaad0eb2848f48dbafb"
      },
      "cell_type": "code",
      "source": "newdf['overall'].value_counts()",
      "execution_count": 7,
      "outputs": [
        {
          "output_type": "execute_result",
          "execution_count": 7,
          "data": {
            "text/plain": "5    4631\n4    2963\n3    1403\n2     578\n1     425\nName: overall, dtype: int64"
          },
          "metadata": {}
        }
      ]
    },
    {
      "metadata": {
        "_uuid": "d1bfe015fa1bc42f8e8f6d05e62f27a938352fa5"
      },
      "cell_type": "markdown",
      "source": "### Lets label all the reviews as \"negative review\" where rating = 1 or 2 and else as \"Postive reviews\""
    },
    {
      "metadata": {
        "trusted": true,
        "collapsed": true,
        "_uuid": "37e5dd6c31826272354c786b80813678a0d39445"
      },
      "cell_type": "code",
      "source": "# Remove neutral rated\nnewdf = newdf[newdf['overall'] != 3]\nnewdf['Positively Rated'] = np.where(newdf['overall'] > 3, 1, 0)\n\n# 22 rows from reviewText are blank. Lets add sample review for it\n#newdf['reviewText']=newdf['reviewText'].fillna(\"No Review\", inplace=True)\n#newdf = newdf.replace(np.nan, '', regex=True)\n#newdf.apply(lambda x: sum(x.isnull()))\n#print (newdf['reviewText'].head(10))",
      "execution_count": 8,
      "outputs": []
    },
    {
      "metadata": {
        "trusted": true,
        "_uuid": "4044ec93f78e11279b3c671784baf331d64dc42e"
      },
      "cell_type": "code",
      "source": "# Number of rating which are positively rated \nnewdf['Positively Rated'].mean()",
      "execution_count": 9,
      "outputs": [
        {
          "output_type": "execute_result",
          "execution_count": 9,
          "data": {
            "text/plain": "0.8833313946725602"
          },
          "metadata": {}
        }
      ]
    },
    {
      "metadata": {
        "_kg_hide-input": true,
        "_kg_hide-output": true,
        "_uuid": "7290c94b3461b7f52f99907b296ffa4fd6e57049"
      },
      "cell_type": "markdown",
      "source": " ### Let's split the data in train and test datasets and apply Logistic Regression model."
    },
    {
      "metadata": {
        "trusted": true,
        "_uuid": "f565ac5c53a823104694a2ae4ea07385ce4044ec"
      },
      "cell_type": "code",
      "source": "from  sklearn.model_selection import train_test_split\n\n# Split data into training and test sets\nX_train, X_test, y_train, y_test = train_test_split(newdf['reviewText'],newdf['Positively Rated'], random_state=0)\nprint('X_train first entry: ', X_train.iloc[1])\nprint('\\nX_train shape: ', X_train.shape)",
      "execution_count": 15,
      "outputs": [
        {
          "output_type": "stream",
          "text": "X_train first entry:  There's a lot of misspellings & it takes a while for the book to really get started. The book gets pretty good about 30% in & it has a decent ending. Its worth the read.\n\nX_train shape:  (6447,)\n",
          "name": "stdout"
        }
      ]
    },
    {
      "metadata": {
        "trusted": true,
        "_uuid": "b3f1c77582403063d4e2befd073b5e5c3c686c2b"
      },
      "cell_type": "code",
      "source": "from  sklearn.feature_extraction.text import CountVectorizer\nfrom sklearn.linear_model import LogisticRegression\nfrom  sklearn.metrics import roc_auc_score\n\n# Fit the CountVectorizer to the training data\nvect = CountVectorizer().fit(X_train)\n# transform the documents in the training data to a document-term matrix\nX_train_vectorized = vect.transform(X_train)\n# Train the model\nmodel = LogisticRegression()\nmodel.fit(X_train_vectorized, y_train)\n# Predict the transformed test documents\npredictions = model.predict(vect.transform(X_test))\nprint('AUC: ', roc_auc_score(y_test, predictions))\n# get the feature names as numpy array\nfeature_names = np.array(vect.get_feature_names())\n# Sort the coefficients from the model\nsorted_coef_index = model.coef_[0].argsort()\n# Find the 10 smallest and 10 largest coefficients\n# The 10 largest coefficients are being indexed using [:-11:-1] \n# so the list returned is in order of largest to smallest\nprint('Smallest Coefs:\\n{}\\n'.format(feature_names[sorted_coef_index[:10]]))\nprint('Largest Coefs: \\n{}'.format(feature_names[sorted_coef_index[:-11:-1]]))",
      "execution_count": 22,
      "outputs": [
        {
          "output_type": "stream",
          "text": "AUC:  0.759676658469\nSmallest Coefs:\n['idea' 'waste' 'delete' 'weak' 'deleted' 'not' 'pay' 'whole' 'violent'\n 'nothing']\n\nLargest Coefs: \n['enjoyed' 'loved' 'fun' 'wait' 'overall' 'well' 'hot' 'mind' 'erotic'\n 'good']\n",
          "name": "stdout"
        }
      ]
    },
    {
      "metadata": {
        "trusted": true,
        "_uuid": "4c63d777fd631cbd41b66c4efab495a12a85a7dc"
      },
      "cell_type": "code",
      "source": "df = newdf.groupby('asin', as_index=False).agg({'Positively Rated': 'sum'})\n#df.sort_values(by=['Positively Rated'], ascending=False)\nprint (\"PRODUCT HAVING THE LARGEST POSTIVE RATING - \",df.loc[df['Positively Rated'].idxmax()][0])",
      "execution_count": 34,
      "outputs": [
        {
          "output_type": "stream",
          "text": "PRODUCT HAVING THE LARGEST POSTIVE RATING -  B000JMLBHU\n",
          "name": "stdout"
        }
      ]
    },
    {
      "metadata": {
        "trusted": true,
        "collapsed": true,
        "_uuid": "9604e0c846044bc262e7603602f5e428a3b71cb0"
      },
      "cell_type": "code",
      "source": "",
      "execution_count": null,
      "outputs": []
    }
  ],
  "metadata": {
    "kernelspec": {
      "display_name": "Python 3",
      "language": "python",
      "name": "python3"
    },
    "language_info": {
      "name": "python",
      "version": "3.6.5",
      "mimetype": "text/x-python",
      "codemirror_mode": {
        "name": "ipython",
        "version": 3
      },
      "pygments_lexer": "ipython3",
      "nbconvert_exporter": "python",
      "file_extension": ".py"
    }
  },
  "nbformat": 4,
  "nbformat_minor": 1
}