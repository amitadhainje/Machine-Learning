{
 "cells": [
  {
   "cell_type": "code",
   "execution_count": 190,
   "metadata": {
    "scrolled": false
   },
   "outputs": [
    {
     "name": "stdout",
     "output_type": "stream",
     "text": [
      "         Category                                             Resume\n",
      "0  Data Scientist  Skills * Programming Languages: Python (pandas...\n",
      "1  Data Scientist  Education Details \\nMay 2013 to May 2017 B.E  ...\n",
      "2  Data Scientist  Areas of Interest Deep Learning, Control Syste...\n",
      "3  Data Scientist  Skills â¢ R â¢ Python â¢ SAP HANA â¢ Table...\n",
      "4  Data Scientist  Education Details \\n MCA   YMCAUST,  Faridabad...\n",
      "5  Data Scientist  SKILLS C Basics, IOT, Python, MATLAB, Data Sci...\n",
      "6  Data Scientist  Skills â¢ Python â¢ Tableau â¢ Data Visuali...\n",
      "7  Data Scientist  Education Details \\n B.Tech   Rayat and Bahra ...\n",
      "8  Data Scientist  Personal Skills â¢ Ability to quickly grasp t...\n",
      "9  Data Scientist  Expertise â Data and Quantitative Analysis â...\n"
     ]
    }
   ],
   "source": [
    "from bs4 import BeautifulSoup\n",
    "import urllib3\n",
    "import re\n",
    "import pandas as pd\n",
    "import warnings\n",
    "warnings.filterwarnings('ignore')\n",
    "\n",
    "http = urllib3.PoolManager()\n",
    "\n",
    "urls = [\"https://resumes.indeed.com/resume/19936d88d452cba8?s=l%3D%26q%3DData%2520Science%26searchFields%3Djt\",\n",
    "        \"https://resumes.indeed.com/resume/fc69b971ab0f7feb?s=l%3D%26q%3DData%2520Science%26searchFields%3Djt\",\n",
    "       \"https://resumes.indeed.com/resume/e7a80d47fd3b870a?s=l%3D%26q%3DData%2520Science%26searchFields%3Djt\",\n",
    "       \"https://resumes.indeed.com/resume/a0e2efc28ffe7076?s=l%3D%26q%3DData%2520Science%26searchFields%3Djt\",\n",
    "       \"https://resumes.indeed.com/resume/4416a22a685fe75f?s=l%3D%26q%3DData%2520Science%26searchFields%3Djt\",\n",
    "       \"https://resumes.indeed.com/resume/a7ac5303fd482fbb?s=l%3D%26q%3DData%2520Science%26searchFields%3Djt\",\n",
    "       \"https://resumes.indeed.com/resume/01303e67a9a9f907?s=l%3D%26q%3DData%2520Science%26searchFields%3Djt\",\n",
    "       \"https://resumes.indeed.com/resume/adf5c0dcf7fb32c1?s=l%3D%26q%3DData%2520Science%26searchFields%3Djt\",\n",
    "       \"https://resumes.indeed.com/resume/0dcb97d5e222ff21?s=l%3D%26q%3DData%2520Science%26searchFields%3Djt\",\n",
    "       \"https://resumes.indeed.com/resume/e8aaa1f939a0a899?s=l%3D%26q%3DData%2520Science%26searchFields%3Djt\"]\n",
    "\n",
    "\n",
    "newDict = {}\n",
    "newDict['Category'] = \"Data Scientist\"\n",
    "newDict['Resume'] = []\n",
    "counter = 0\n",
    "for x in range(0,len(urls)):\n",
    "    response = http.request('GET', urls[x])\n",
    "    soup = BeautifulSoup(response.data,'html.parser',  from_encoding=\"utf-8\")\n",
    "    reqText = soup.find_all('script')[2].text\n",
    "    newText  = re.findall(r\"\\'(.*?)\\'\",reqText)\n",
    "    resumeText = GetRequiredResumeDetails(newText)\n",
    "    str1 = ''.join(resumeText)\n",
    "    \n",
    "    newDict['Resume'].append(str1)\n",
    "df= pd.DataFrame(newDict)\n",
    "print (df)"
   ]
  },
  {
   "cell_type": "code",
   "execution_count": 151,
   "metadata": {
    "scrolled": false
   },
   "outputs": [],
   "source": [
    "import json\n",
    "from pprint import pprint\n",
    "\n",
    "def GetRequiredResumeDetails(ScrapedText):\n",
    "    value = newText[0]\n",
    "    extractedJSONStr = value.encode('utf8').decode('unicode_escape')\n",
    "    jsonObj = json.loads(extractedJSONStr)\n",
    "    #pprint(jsonObj['resumeModel'])\n",
    "    requiredTags = ['fullName','headline','education','additionalInformation','workExperience', 'headline','skills']\n",
    "    educationRequiredString = []\n",
    "    skillsRequiredString = []\n",
    "    companyDetails = []\n",
    "    counter = 0\n",
    "    resumeText = []\n",
    "    totalDataDict = {}\n",
    "    for j in jsonObj['resumeModel']:\n",
    "        if(j in requiredTags):\n",
    "            if(j == 'additionalInformation'):\n",
    "                reqText = re.sub(r'\\s+',' ',jsonObj['resumeModel'][j])\n",
    "                #print (reqText)\n",
    "                resumeText.append(reqText)\n",
    "            if(j == 'education'):\n",
    "                for x in range(0,len(jsonObj['resumeModel'][j])):\n",
    "                    reqStr = jsonObj['resumeModel'][j][x]['dateRange']+\" \"+jsonObj['resumeModel'][j][x]['degree']+\" \"+jsonObj['resumeModel'][j][x]['field']+\" \"+jsonObj['resumeModel'][j][x]['location']+\" \"+jsonObj['resumeModel'][j][x]['university']\n",
    "                    educationRequiredString.append(reqStr)\n",
    "                educationDetails = \"Education Details \\n\"\n",
    "                educationDetails += \"\\n\".join(educationRequiredString)\n",
    "                resumeText.append(educationDetails)\n",
    "            if(j == 'fullName'):\n",
    "                #print (jsonObj['resumeModel'][j])\n",
    "                resumeText.append(jsonObj['resumeModel'][j])\n",
    "\n",
    "            if(j == 'headline'):\n",
    "                #print (jsonObj['resumeModel'][j])\n",
    "                resumeText.append(jsonObj['resumeModel'][j])\n",
    "\n",
    "            if(j == 'skills'):\n",
    "                #print  (len(jsonObj['resumeModel'][j]))\n",
    "                for a in range(0,len(jsonObj['resumeModel'][j])):\n",
    "                    monthsOfExperience = \"\"\n",
    "                    if(jsonObj['resumeModel'][j][a]['monthsOfExperience'] == 0):\n",
    "                        monthsOfExperience = \"Less than 1 year\"\n",
    "                    else:\n",
    "                        monthsOfExperience = jsonObj['resumeModel'][j][a]['monthsOfExperience']\n",
    "                    string = jsonObj['resumeModel'][j][a]['skill']+\"- Exprience - \"+str(monthsOfExperience)+\" months\"\n",
    "                    skillsRequiredString.append(string)\n",
    "\n",
    "                skillDetails = \"Skill Details \\n\"\n",
    "                skillDetails += \"\\n\".join(skillsRequiredString)\n",
    "                #print (skillDetails)\n",
    "                resumeText.append(skillDetails)\n",
    "\n",
    "            if(j == \"workExperience\"):\n",
    "                for b in range(0,len(jsonObj['resumeModel'][j])):\n",
    "                    for tag in ['company','description']:\n",
    "                        wkString = tag+\" - \"+jsonObj['resumeModel'][j][b][tag]\n",
    "                        companyDetails.append(wkString)\n",
    "\n",
    "                compDetails = \"Company Details \\n\"\n",
    "                compDetails += \"\\n\".join(companyDetails)\n",
    "                #print (compDetails)\n",
    "                resumeText.append(compDetails)\n",
    "    return resumeText"
   ]
  },
  {
   "cell_type": "code",
   "execution_count": null,
   "metadata": {},
   "outputs": [],
   "source": []
  }
 ],
 "metadata": {
  "kernelspec": {
   "display_name": "Python 3",
   "language": "python",
   "name": "python3"
  },
  "language_info": {
   "codemirror_mode": {
    "name": "ipython",
    "version": 3
   },
   "file_extension": ".py",
   "mimetype": "text/x-python",
   "name": "python",
   "nbconvert_exporter": "python",
   "pygments_lexer": "ipython3",
   "version": "3.6.5"
  }
 },
 "nbformat": 4,
 "nbformat_minor": 2
}
