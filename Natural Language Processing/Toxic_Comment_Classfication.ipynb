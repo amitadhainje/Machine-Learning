{
 "cells": [
  {
   "cell_type": "code",
   "execution_count": 2,
   "metadata": {
    "_uuid": "aaf6eaf5e3c8a35621be1c42512a6c8685dd343b",
    "scrolled": false
   },
   "outputs": [
    {
     "name": "stdout",
     "output_type": "stream",
     "text": [
      "(159571, 8)\n",
      "(153164, 2)\n",
      "Index(['id', 'comment_text', 'toxic', 'severe_toxic', 'obscene', 'threat',\n",
      "       'insult', 'identity_hate'],\n",
      "      dtype='object')\n"
     ]
    },
    {
     "data": {
      "text/html": [
       "<div>\n",
       "<style scoped>\n",
       "    .dataframe tbody tr th:only-of-type {\n",
       "        vertical-align: middle;\n",
       "    }\n",
       "\n",
       "    .dataframe tbody tr th {\n",
       "        vertical-align: top;\n",
       "    }\n",
       "\n",
       "    .dataframe thead th {\n",
       "        text-align: right;\n",
       "    }\n",
       "</style>\n",
       "<table border=\"1\" class=\"dataframe\">\n",
       "  <thead>\n",
       "    <tr style=\"text-align: right;\">\n",
       "      <th></th>\n",
       "      <th>id</th>\n",
       "      <th>comment_text</th>\n",
       "      <th>toxic</th>\n",
       "      <th>severe_toxic</th>\n",
       "      <th>obscene</th>\n",
       "      <th>threat</th>\n",
       "      <th>insult</th>\n",
       "      <th>identity_hate</th>\n",
       "    </tr>\n",
       "  </thead>\n",
       "  <tbody>\n",
       "    <tr>\n",
       "      <th>159566</th>\n",
       "      <td>ffe987279560d7ff</td>\n",
       "      <td>\":::::And for the second time of asking, when ...</td>\n",
       "      <td>0</td>\n",
       "      <td>0</td>\n",
       "      <td>0</td>\n",
       "      <td>0</td>\n",
       "      <td>0</td>\n",
       "      <td>0</td>\n",
       "    </tr>\n",
       "    <tr>\n",
       "      <th>159567</th>\n",
       "      <td>ffea4adeee384e90</td>\n",
       "      <td>You should be ashamed of yourself \\n\\nThat is ...</td>\n",
       "      <td>0</td>\n",
       "      <td>0</td>\n",
       "      <td>0</td>\n",
       "      <td>0</td>\n",
       "      <td>0</td>\n",
       "      <td>0</td>\n",
       "    </tr>\n",
       "    <tr>\n",
       "      <th>159568</th>\n",
       "      <td>ffee36eab5c267c9</td>\n",
       "      <td>Spitzer \\n\\nUmm, theres no actual article for ...</td>\n",
       "      <td>0</td>\n",
       "      <td>0</td>\n",
       "      <td>0</td>\n",
       "      <td>0</td>\n",
       "      <td>0</td>\n",
       "      <td>0</td>\n",
       "    </tr>\n",
       "    <tr>\n",
       "      <th>159569</th>\n",
       "      <td>fff125370e4aaaf3</td>\n",
       "      <td>And it looks like it was actually you who put ...</td>\n",
       "      <td>0</td>\n",
       "      <td>0</td>\n",
       "      <td>0</td>\n",
       "      <td>0</td>\n",
       "      <td>0</td>\n",
       "      <td>0</td>\n",
       "    </tr>\n",
       "    <tr>\n",
       "      <th>159570</th>\n",
       "      <td>fff46fc426af1f9a</td>\n",
       "      <td>\"\\nAnd ... I really don't think you understand...</td>\n",
       "      <td>0</td>\n",
       "      <td>0</td>\n",
       "      <td>0</td>\n",
       "      <td>0</td>\n",
       "      <td>0</td>\n",
       "      <td>0</td>\n",
       "    </tr>\n",
       "  </tbody>\n",
       "</table>\n",
       "</div>"
      ],
      "text/plain": [
       "                      id                                       comment_text  \\\n",
       "159566  ffe987279560d7ff  \":::::And for the second time of asking, when ...   \n",
       "159567  ffea4adeee384e90  You should be ashamed of yourself \\n\\nThat is ...   \n",
       "159568  ffee36eab5c267c9  Spitzer \\n\\nUmm, theres no actual article for ...   \n",
       "159569  fff125370e4aaaf3  And it looks like it was actually you who put ...   \n",
       "159570  fff46fc426af1f9a  \"\\nAnd ... I really don't think you understand...   \n",
       "\n",
       "        toxic  severe_toxic  obscene  threat  insult  identity_hate  \n",
       "159566      0             0        0       0       0              0  \n",
       "159567      0             0        0       0       0              0  \n",
       "159568      0             0        0       0       0              0  \n",
       "159569      0             0        0       0       0              0  \n",
       "159570      0             0        0       0       0              0  "
      ]
     },
     "execution_count": 2,
     "metadata": {},
     "output_type": "execute_result"
    }
   ],
   "source": [
    "import numpy as np\n",
    "import pandas as pd\n",
    "import nltk\n",
    "from nltk.corpus import stopwords\n",
    "import numpy as np\n",
    "import pandas as pd\n",
    "\n",
    "from sklearn.feature_extraction.text import TfidfVectorizer\n",
    "from sklearn.linear_model import LogisticRegression\n",
    "from sklearn.model_selection import cross_val_score\n",
    "from scipy.sparse import hstack\n",
    "\n",
    "trainDataSet = pd.read_csv('train.csv')\n",
    "testDataSet = pd.read_csv('test.csv')\n",
    "trainDataSet.head\n",
    "class_names = ['toxic', 'severe_toxic', 'obscene', 'threat', 'insult', 'identity_hate']\n",
    "print (trainDataSet.shape)\n",
    "print (testDataSet.shape)\n",
    "print (trainDataSet.columns)\n",
    "trainDataSet.tail()"
   ]
  },
  {
   "cell_type": "code",
   "execution_count": 3,
   "metadata": {
    "_uuid": "66e7e58d606e54aee1f026efaec5df63ef4d7de3"
   },
   "outputs": [],
   "source": [
    "def cleanText(text):\n",
    "    text = text.lower()\n",
    "    text = re.sub(r\"what's\", \"what is \", text)\n",
    "    text = re.sub(r\"\\'s\", \" \", text)\n",
    "    text = re.sub(r\"\\'ve\", \" have \", text)\n",
    "    text = re.sub(r\"can't\", \"can not \", text)\n",
    "    text = re.sub(r\"n't\", \" not \", text)\n",
    "    text = re.sub(r\"i'm\", \"i am \", text)\n",
    "    text = re.sub(r\"\\'re\", \" are \", text)\n",
    "    text = re.sub(r\"\\'d\", \" would \", text)\n",
    "    text = re.sub(r\"\\'ll\", \" will \", text)\n",
    "    text = re.sub(r\"\\'scuse\", \" excuse \", text)\n",
    "    text = re.sub('\\W', ' ', text)\n",
    "    text = re.sub('\\s+', ' ', text)\n",
    "    text = re.sub('\\d+', ' ', text)\n",
    "    text = text.strip(' ')\n",
    "    return text"
   ]
  },
  {
   "cell_type": "code",
   "execution_count": 4,
   "metadata": {
    "_uuid": "f514a1d46af6853578c1a2d56b105e1b8a6c4f57"
   },
   "outputs": [
    {
     "name": "stdout",
     "output_type": "stream",
     "text": [
      "0    144277\n",
      "1     15294\n",
      "Name: toxic, dtype: int64\n",
      "0    157976\n",
      "1      1595\n",
      "Name: severe_toxic, dtype: int64\n",
      "0    151122\n",
      "1      8449\n",
      "Name: obscene, dtype: int64\n",
      "0    159093\n",
      "1       478\n",
      "Name: threat, dtype: int64\n",
      "0    151694\n",
      "1      7877\n",
      "Name: insult, dtype: int64\n",
      "0    158166\n",
      "1      1405\n",
      "Name: identity_hate, dtype: int64\n"
     ]
    }
   ],
   "source": [
    "for className in class_names:\n",
    "    print (trainDataSet[className].value_counts())"
   ]
  },
  {
   "cell_type": "code",
   "execution_count": 5,
   "metadata": {
    "_uuid": "0dd65fc070634028eba546468f8d0f0abb1f030e"
   },
   "outputs": [
    {
     "name": "stdout",
     "output_type": "stream",
     "text": [
      "Percentage of comments that are not labelled:\n",
      "0.8983211235124177\n"
     ]
    }
   ],
   "source": [
    "print('Percentage of comments that are not labelled:')\n",
    "print(len(trainDataSet[(trainDataSet['toxic']==0) & \n",
    "             (trainDataSet['severe_toxic']==0) & \n",
    "             (trainDataSet['obscene']==0) & \n",
    "             (trainDataSet['threat']== 0) & \n",
    "             (trainDataSet['insult']==0) &\n",
    "             (trainDataSet['identity_hate']==0)]) / len(trainDataSet))"
   ]
  },
  {
   "cell_type": "code",
   "execution_count": 6,
   "metadata": {
    "_uuid": "9b1115e0219deef5da54ae9e228b1c90edc9293a"
   },
   "outputs": [
    {
     "name": "stdout",
     "output_type": "stream",
     "text": [
      "(2, 8)\n",
      "(1, 2)\n"
     ]
    }
   ],
   "source": [
    "tempToxicDataSet = trainDataSet[trainDataSet['toxic'] == 0][0:1]\n",
    "tempInsultDataSet = trainDataSet[trainDataSet['toxic'] == 1][0:1]\n",
    "frames = [tempToxicDataSet, tempInsultDataSet]\n",
    "tempTrainDataSet = pd.concat(frames)\n",
    "print (tempTrainDataSet.shape)\n",
    "\n",
    "tempTestDataSet = testDataSet[0:1]\n",
    "print (tempTestDataSet.shape)"
   ]
  },
  {
   "cell_type": "code",
   "execution_count": 7,
   "metadata": {
    "_uuid": "ce390e67966423ccb2e061937a595bbf785c4f93",
    "scrolled": true
   },
   "outputs": [
    {
     "data": {
      "text/plain": [
       "\"Explanation\\nWhy the edits made under my username Hardcore Metallica Fan were reverted? They weren't vandalisms, just closure on some GAs after I voted at New York Dolls FAC. And please don't remove the template from the talk page since I'm retired now.89.205.38.27COCKSUCKER BEFORE YOU PISS AROUND ON MY WORKYo bitch Ja Rule is more succesful then you'll ever be whats up with you and hating you sad mofuckas...i should bitch slap ur pethedic white faces and get you to kiss my ass you guys sicken me. Ja rule is about pride in da music man. dont diss that shit on him. and nothin is wrong bein like tupac he was a brother too...fuckin white boys get things right next time.,\""
      ]
     },
     "execution_count": 7,
     "metadata": {},
     "output_type": "execute_result"
    }
   ],
   "source": [
    "train_text = tempTrainDataSet['comment_text']\n",
    "train_target = tempTrainDataSet.loc[:, class_names]\n",
    "test_text = tempTestDataSet['comment_text']\n",
    "all_text = pd.concat([train_text, test_text])\n",
    "StringData = \"\"\n",
    "for i in all_text:\n",
    "    StringData += i\n",
    "StringData"
   ]
  },
  {
   "cell_type": "markdown",
   "metadata": {
    "_uuid": "90df9ca5c29dece156af5816b6f200084e6da55c"
   },
   "source": [
    "|### SENT TOKENIZE - Convert the paragraph into sentences\n",
    "### WORD TOKENIZE - Convert a sentence or paragraph into words"
   ]
  },
  {
   "cell_type": "code",
   "execution_count": 8,
   "metadata": {
    "_uuid": "b27a6b96084c6da45cb09763cb51b5838eaf6329"
   },
   "outputs": [
    {
     "name": "stdout",
     "output_type": "stream",
     "text": [
      "Original Text -  Explanation\n",
      "Why the edits made under my username Hardcore Metallica Fan were reverted? They weren't vandalisms, just closure on some GAs after I voted at New York Dolls FAC. And please don't remove the template from the talk page since I'm retired now.89.205.38.27COCKSUCKER BEFORE YOU PISS AROUND ON MY WORKYo bitch Ja Rule is more succesful then you'll ever be whats up with you and hating you sad mofuckas...i should bitch slap ur pethedic white faces and get you to kiss my ass you guys sicken me. Ja rule is about pride in da music man. dont diss that shit on him. and nothin is wrong bein like tupac he was a brother too...fuckin white boys get things right next time., \n",
      "\n",
      "6\n"
     ]
    },
    {
     "data": {
      "text/plain": [
       "['Explanation\\nWhy the edits made under my username Hardcore Metallica Fan were reverted?',\n",
       " \"They weren't vandalisms, just closure on some GAs after I voted at New York Dolls FAC.\",\n",
       " \"And please don't remove the template from the talk page since I'm retired now.89.205.38.27COCKSUCKER BEFORE YOU PISS AROUND ON MY WORKYo bitch Ja Rule is more succesful then you'll ever be whats up with you and hating you sad mofuckas...i should bitch slap ur pethedic white faces and get you to kiss my ass you guys sicken me.\",\n",
       " 'Ja rule is about pride in da music man.',\n",
       " 'dont diss that shit on him.',\n",
       " 'and nothin is wrong bein like tupac he was a brother too...fuckin white boys get things right next time.,']"
      ]
     },
     "execution_count": 8,
     "metadata": {},
     "output_type": "execute_result"
    }
   ],
   "source": [
    "print (\"Original Text - \",StringData,\"\\n\")\n",
    "sentences = nltk.sent_tokenize(StringData)\n",
    "print (len(sentences))\n",
    "sentences"
   ]
  },
  {
   "cell_type": "code",
   "execution_count": 9,
   "metadata": {
    "_uuid": "609c0b03398f7a47c42ead4243d9cdb99c385524"
   },
   "outputs": [
    {
     "name": "stdout",
     "output_type": "stream",
     "text": [
      "136\n"
     ]
    },
    {
     "data": {
      "text/plain": [
       "['Explanation',\n",
       " 'Why',\n",
       " 'the',\n",
       " 'edits',\n",
       " 'made',\n",
       " 'under',\n",
       " 'my',\n",
       " 'username',\n",
       " 'Hardcore',\n",
       " 'Metallica',\n",
       " 'Fan',\n",
       " 'were',\n",
       " 'reverted',\n",
       " '?',\n",
       " 'They',\n",
       " 'were',\n",
       " \"n't\",\n",
       " 'vandalisms',\n",
       " ',',\n",
       " 'just',\n",
       " 'closure',\n",
       " 'on',\n",
       " 'some',\n",
       " 'GAs',\n",
       " 'after',\n",
       " 'I',\n",
       " 'voted',\n",
       " 'at',\n",
       " 'New',\n",
       " 'York',\n",
       " 'Dolls',\n",
       " 'FAC',\n",
       " '.',\n",
       " 'And',\n",
       " 'please',\n",
       " 'do',\n",
       " \"n't\",\n",
       " 'remove',\n",
       " 'the',\n",
       " 'template',\n",
       " 'from',\n",
       " 'the',\n",
       " 'talk',\n",
       " 'page',\n",
       " 'since',\n",
       " 'I',\n",
       " \"'m\",\n",
       " 'retired',\n",
       " 'now.89.205.38.27COCKSUCKER',\n",
       " 'BEFORE',\n",
       " 'YOU',\n",
       " 'PISS',\n",
       " 'AROUND',\n",
       " 'ON',\n",
       " 'MY',\n",
       " 'WORKYo',\n",
       " 'bitch',\n",
       " 'Ja',\n",
       " 'Rule',\n",
       " 'is',\n",
       " 'more',\n",
       " 'succesful',\n",
       " 'then',\n",
       " 'you',\n",
       " \"'ll\",\n",
       " 'ever',\n",
       " 'be',\n",
       " 'whats',\n",
       " 'up',\n",
       " 'with',\n",
       " 'you',\n",
       " 'and',\n",
       " 'hating',\n",
       " 'you',\n",
       " 'sad',\n",
       " 'mofuckas',\n",
       " '...',\n",
       " 'i',\n",
       " 'should',\n",
       " 'bitch',\n",
       " 'slap',\n",
       " 'ur',\n",
       " 'pethedic',\n",
       " 'white',\n",
       " 'faces',\n",
       " 'and',\n",
       " 'get',\n",
       " 'you',\n",
       " 'to',\n",
       " 'kiss',\n",
       " 'my',\n",
       " 'ass',\n",
       " 'you',\n",
       " 'guys',\n",
       " 'sicken',\n",
       " 'me',\n",
       " '.',\n",
       " 'Ja',\n",
       " 'rule',\n",
       " 'is',\n",
       " 'about',\n",
       " 'pride',\n",
       " 'in',\n",
       " 'da',\n",
       " 'music',\n",
       " 'man',\n",
       " '.',\n",
       " 'dont',\n",
       " 'diss',\n",
       " 'that',\n",
       " 'shit',\n",
       " 'on',\n",
       " 'him',\n",
       " '.',\n",
       " 'and',\n",
       " 'nothin',\n",
       " 'is',\n",
       " 'wrong',\n",
       " 'bein',\n",
       " 'like',\n",
       " 'tupac',\n",
       " 'he',\n",
       " 'was',\n",
       " 'a',\n",
       " 'brother',\n",
       " 'too',\n",
       " '...',\n",
       " 'fuckin',\n",
       " 'white',\n",
       " 'boys',\n",
       " 'get',\n",
       " 'things',\n",
       " 'right',\n",
       " 'next',\n",
       " 'time.',\n",
       " ',']"
      ]
     },
     "execution_count": 9,
     "metadata": {},
     "output_type": "execute_result"
    }
   ],
   "source": [
    "words = nltk.word_tokenize(StringData)\n",
    "print (len(words))\n",
    "words"
   ]
  },
  {
   "cell_type": "markdown",
   "metadata": {
    "_uuid": "b70fdb042d41dbf3f1ae983d43ea2f942a13783c"
   },
   "source": [
    "#### STEMMING - Stemming is the process of reducing a word to its word stem that affixes to suffixes and prefixes or to the roots of words known as a lemma. Stemming is important in natural language understanding (NLU) and natural language processing (NLP).\n",
    "#### Example - (Intelligence or Intelligently => Intelligen)\n",
    "#### Problem - Produced intermediate representation of the word may not have any meaning \n",
    "#### LEMMATIZATION - Same as stemming but the intermediate representation has a meaning\n",
    "#### Example - (Intelligence or Intelligently => Intelligent)"
   ]
  },
  {
   "cell_type": "code",
   "execution_count": 10,
   "metadata": {
    "_uuid": "86fc9f3275f0c346202b1cbe890d052ae10e2fdd"
   },
   "outputs": [
    {
     "name": "stdout",
     "output_type": "stream",
     "text": [
      "Actual Sentence -  Explanation\n",
      "Why the edits made under my username Hardcore Metallica Fan were reverted? \n",
      "\n",
      "Stemmed Words - \n",
      "\n",
      "['explan', 'whi', 'the', 'edit', 'made', 'under', 'my', 'usernam', 'hardcor', 'metallica', 'fan', 'were', 'revert', '?']\n",
      "Lemmatized Words - \n",
      "\n",
      "['Explanation', 'Why', 'the', 'edits', 'made', 'under', 'my', 'username', 'Hardcore', 'Metallica', 'Fan', 'were', 'reverted', '?']\n",
      "____________________________________________\n",
      "Actual Sentence -  They weren't vandalisms, just closure on some GAs after I voted at New York Dolls FAC. \n",
      "\n",
      "Stemmed Words - \n",
      "\n",
      "['they', 'were', \"n't\", 'vandal', ',', 'just', 'closur', 'on', 'some', 'ga', 'after', 'I', 'vote', 'at', 'new', 'york', 'doll', 'fac', '.']\n",
      "Lemmatized Words - \n",
      "\n",
      "['They', 'were', \"n't\", 'vandalism', ',', 'just', 'closure', 'on', 'some', 'GAs', 'after', 'I', 'voted', 'at', 'New', 'York', 'Dolls', 'FAC', '.']\n",
      "____________________________________________\n",
      "Actual Sentence -  And please don't remove the template from the talk page since I'm retired now.89.205.38.27COCKSUCKER BEFORE YOU PISS AROUND ON MY WORKYo bitch Ja Rule is more succesful then you'll ever be whats up with you and hating you sad mofuckas...i should bitch slap ur pethedic white faces and get you to kiss my ass you guys sicken me. \n",
      "\n",
      "Stemmed Words - \n",
      "\n",
      "['and', 'pleas', 'do', \"n't\", 'remov', 'the', 'templat', 'from', 'the', 'talk', 'page', 'sinc', 'I', \"'m\", 'retir', 'now.89.205.38.27cocksuck', 'befor', 'you', 'piss', 'around', 'ON', 'MY', 'workyo', 'bitch', 'Ja', 'rule', 'is', 'more', 'succes', 'then', 'you', \"'ll\", 'ever', 'be', 'what', 'up', 'with', 'you', 'and', 'hate', 'you', 'sad', 'mofucka', '...', 'i', 'should', 'bitch', 'slap', 'ur', 'pethed', 'white', 'face', 'and', 'get', 'you', 'to', 'kiss', 'my', 'ass', 'you', 'guy', 'sicken', 'me', '.']\n",
      "Lemmatized Words - \n",
      "\n",
      "['And', 'please', 'do', \"n't\", 'remove', 'the', 'template', 'from', 'the', 'talk', 'page', 'since', 'I', \"'m\", 'retired', 'now.89.205.38.27COCKSUCKER', 'BEFORE', 'YOU', 'PISS', 'AROUND', 'ON', 'MY', 'WORKYo', 'bitch', 'Ja', 'Rule', 'is', 'more', 'succesful', 'then', 'you', \"'ll\", 'ever', 'be', 'whats', 'up', 'with', 'you', 'and', 'hating', 'you', 'sad', 'mofuckas', '...', 'i', 'should', 'bitch', 'slap', 'ur', 'pethedic', 'white', 'face', 'and', 'get', 'you', 'to', 'kiss', 'my', 'as', 'you', 'guy', 'sicken', 'me', '.']\n",
      "____________________________________________\n",
      "Actual Sentence -  Ja rule is about pride in da music man. \n",
      "\n",
      "Stemmed Words - \n",
      "\n",
      "['Ja', 'rule', 'is', 'about', 'pride', 'in', 'da', 'music', 'man', '.']\n",
      "Lemmatized Words - \n",
      "\n",
      "['Ja', 'rule', 'is', 'about', 'pride', 'in', 'da', 'music', 'man', '.']\n",
      "____________________________________________\n",
      "Actual Sentence -  dont diss that shit on him. \n",
      "\n",
      "Stemmed Words - \n",
      "\n",
      "['dont', 'diss', 'that', 'shit', 'on', 'him', '.']\n",
      "Lemmatized Words - \n",
      "\n",
      "['dont', 'dis', 'that', 'shit', 'on', 'him', '.']\n",
      "____________________________________________\n",
      "Actual Sentence -  and nothin is wrong bein like tupac he was a brother too...fuckin white boys get things right next time., \n",
      "\n",
      "Stemmed Words - \n",
      "\n",
      "['and', 'nothin', 'is', 'wrong', 'bein', 'like', 'tupac', 'he', 'wa', 'a', 'brother', 'too', '...', 'fuckin', 'white', 'boy', 'get', 'thing', 'right', 'next', 'time.', ',']\n",
      "Lemmatized Words - \n",
      "\n",
      "['and', 'nothin', 'is', 'wrong', 'bein', 'like', 'tupac', 'he', 'wa', 'a', 'brother', 'too', '...', 'fuckin', 'white', 'boy', 'get', 'thing', 'right', 'next', 'time.', ',']\n",
      "____________________________________________\n"
     ]
    }
   ],
   "source": [
    "from nltk.stem import PorterStemmer\n",
    "from nltk.stem import WordNetLemmatizer\n",
    "\n",
    "stemmer = PorterStemmer()\n",
    "lemmatizer = WordNetLemmatizer()\n",
    "for i in range(len(sentences)):\n",
    "    print (\"Actual Sentence - \",sentences[i],\"\\n\")\n",
    "    stemmingWords = nltk.word_tokenize(sentences[i])\n",
    "    lemmatizingWords = nltk.word_tokenize(sentences[i])\n",
    "    stemmedWords = [stemmer.stem(word) for word in stemmingWords]\n",
    "    lemmatizedWords = [lemmatizer.lemmatize(word) for word in lemmatizingWords]\n",
    "    print (\"Stemmed Words - \\n\")\n",
    "    print (stemmedWords)\n",
    "    print (\"Lemmatized Words - \\n\")\n",
    "    print (lemmatizedWords)\n",
    "    print (\"____________________________________________\")"
   ]
  },
  {
   "cell_type": "markdown",
   "metadata": {
    "_uuid": "19f53c4659245fb5e6f7e37900c5a3acb7b568a8"
   },
   "source": [
    "### REMOVAL OF STOP WORDS\n",
    "### Example - (to, be etc....)\n",
    "### Stopwords are not required while doing sentiment analysis and we need to carry out this step for better performance"
   ]
  },
  {
   "cell_type": "code",
   "execution_count": 11,
   "metadata": {
    "_uuid": "09ef363aea8732711b955d91f908a15789d44221",
    "scrolled": true
   },
   "outputs": [
    {
     "name": "stdout",
     "output_type": "stream",
     "text": [
      "Actual Sentence -  Explanation\n",
      "Why the edits made under my username Hardcore Metallica Fan were reverted? \n",
      "\n",
      "['Explanation', 'Why', 'edits', 'made', 'username', 'Hardcore', 'Metallica', 'Fan', 'reverted', '?']\n",
      "____________________________________________\n",
      "Actual Sentence -  They weren't vandalisms, just closure on some GAs after I voted at New York Dolls FAC. \n",
      "\n",
      "['They', \"n't\", 'vandalisms', ',', 'closure', 'GAs', 'I', 'voted', 'New', 'York', 'Dolls', 'FAC', '.']\n",
      "____________________________________________\n",
      "Actual Sentence -  And please don't remove the template from the talk page since I'm retired now.89.205.38.27COCKSUCKER BEFORE YOU PISS AROUND ON MY WORKYo bitch Ja Rule is more succesful then you'll ever be whats up with you and hating you sad mofuckas...i should bitch slap ur pethedic white faces and get you to kiss my ass you guys sicken me. \n",
      "\n",
      "['And', 'please', \"n't\", 'remove', 'template', 'talk', 'page', 'since', 'I', \"'m\", 'retired', 'now.89.205.38.27COCKSUCKER', 'BEFORE', 'YOU', 'PISS', 'AROUND', 'ON', 'MY', 'WORKYo', 'bitch', 'Ja', 'Rule', 'succesful', \"'ll\", 'ever', 'whats', 'hating', 'sad', 'mofuckas', '...', 'bitch', 'slap', 'ur', 'pethedic', 'white', 'faces', 'get', 'kiss', 'ass', 'guys', 'sicken', '.']\n",
      "____________________________________________\n",
      "Actual Sentence -  Ja rule is about pride in da music man. \n",
      "\n",
      "['Ja', 'rule', 'pride', 'da', 'music', 'man', '.']\n",
      "____________________________________________\n",
      "Actual Sentence -  dont diss that shit on him. \n",
      "\n",
      "['dont', 'diss', 'shit', '.']\n",
      "____________________________________________\n",
      "Actual Sentence -  and nothin is wrong bein like tupac he was a brother too...fuckin white boys get things right next time., \n",
      "\n",
      "['nothin', 'wrong', 'bein', 'like', 'tupac', 'brother', '...', 'fuckin', 'white', 'boys', 'get', 'things', 'right', 'next', 'time.', ',']\n",
      "____________________________________________\n"
     ]
    }
   ],
   "source": [
    "from nltk.corpus import stopwords\n",
    "\n",
    "for i in range(len(sentences)):\n",
    "    print (\"Actual Sentence - \",sentences[i],\"\\n\")\n",
    "    words = nltk.word_tokenize(sentences[i])\n",
    "    newwords = [word for word in words if word not in stopwords.words('english')]\n",
    "    print (newwords)\n",
    "    print (\"____________________________________________\")"
   ]
  },
  {
   "cell_type": "markdown",
   "metadata": {
    "_uuid": "b6f2ea5800a9027a383a5e35a8dcb22d8dfb1ae2"
   },
   "source": [
    "### PARTS OF SPEECH TAGGING"
   ]
  },
  {
   "cell_type": "code",
   "execution_count": 12,
   "metadata": {
    "_uuid": "7abe677a8a9e13d97b8c59ba469004a85862b8a5",
    "scrolled": false
   },
   "outputs": [
    {
     "name": "stdout",
     "output_type": "stream",
     "text": [
      "['Explanation_NN', 'Why_WRB', 'the_DT', 'edits_NNS', 'made_VBN', 'under_IN', 'my_PRP$', 'username_JJ', 'Hardcore_NNP', 'Metallica_NNP', 'Fan_NNP', 'were_VBD', 'reverted_VBN', '?_.', 'They_PRP', 'were_VBD', \"n't_RB\", 'vandalisms_JJ', ',_,', 'just_RB', 'closure_NN', 'on_IN', 'some_DT', 'GAs_NNP', 'after_IN', 'I_PRP', 'voted_VBD', 'at_IN', 'New_NNP', 'York_NNP', 'Dolls_NNP', 'FAC_NNP', '._.', 'And_CC', 'please_VB', 'do_VBP', \"n't_RB\", 'remove_VB', 'the_DT', 'template_NN', 'from_IN', 'the_DT', 'talk_NN', 'page_NN', 'since_IN', 'I_PRP', \"'m_VBP\", 'retired_JJ', 'now.89.205.38.27COCKSUCKER_NN', 'BEFORE_IN', 'YOU_NNP', 'PISS_NNP', 'AROUND_NNP', 'ON_NNP', 'MY_NNP', 'WORKYo_NNP', 'bitch_NN', 'Ja_NNP', 'Rule_NNP', 'is_VBZ', 'more_RBR', 'succesful_JJ', 'then_RB', 'you_PRP', \"'ll_MD\", 'ever_RB', 'be_VB', 'whats_VBN', 'up_RP', 'with_IN', 'you_PRP', 'and_CC', 'hating_VBG', 'you_PRP', 'sad_JJ', 'mofuckas_NNS', '..._:', 'i_NN', 'should_MD', 'bitch_VB', 'slap_NN', 'ur_JJ', 'pethedic_JJ', 'white_JJ', 'faces_VBZ', 'and_CC', 'get_VB', 'you_PRP', 'to_TO', 'kiss_VB', 'my_PRP$', 'ass_NN', 'you_PRP', 'guys_VBP', 'sicken_VB', 'me_PRP', '._.', 'Ja_NNP', 'rule_NN', 'is_VBZ', 'about_IN', 'pride_NN', 'in_IN', 'da_NN', 'music_NN', 'man_NN', '._.', 'dont_JJ', 'diss_NN', 'that_WDT', 'shit_VBD', 'on_IN', 'him_PRP', '._.', 'and_CC', 'nothin_JJ', 'is_VBZ', 'wrong_JJ', 'bein_NNS', 'like_IN', 'tupac_NN', 'he_PRP', 'was_VBD', 'a_DT', 'brother_NN', 'too_RB', '..._:', 'fuckin_JJ', 'white_JJ', 'boys_NNS', 'get_VBP', 'things_NNS', 'right_RB', 'next_JJ', 'time._NN', ',_,']\n"
     ]
    }
   ],
   "source": [
    "words = nltk.word_tokenize(StringData)\n",
    "tagged_words = nltk.pos_tag(words)\n",
    "words_tags = []\n",
    "for tw in tagged_words:\n",
    "    words_tags.append(tw[0]+\"_\"+tw[1])\n",
    "print (words_tags)"
   ]
  },
  {
   "cell_type": "markdown",
   "metadata": {
    "_uuid": "b12387449942b2107971c6e0fa3d353f542a1e91"
   },
   "source": [
    "### NAMED ENTITY RECOGNITION"
   ]
  },
  {
   "cell_type": "code",
   "execution_count": 13,
   "metadata": {
    "_uuid": "4cddb69a8fae91709b6f43e4086f20ed7f525b8e",
    "scrolled": false
   },
   "outputs": [
    {
     "name": "stdout",
     "output_type": "stream",
     "text": [
      "(S\n",
      "  (GPE Explanation/NN)\n",
      "  Why/WRB\n",
      "  the/DT\n",
      "  edits/NNS\n",
      "  made/VBN\n",
      "  under/IN\n",
      "  my/PRP$\n",
      "  username/JJ\n",
      "  (ORGANIZATION Hardcore/NNP)\n",
      "  (ORGANIZATION Metallica/NNP)\n",
      "  Fan/NNP\n",
      "  were/VBD\n",
      "  reverted/VBN\n",
      "  ?/.\n",
      "  They/PRP\n",
      "  were/VBD\n",
      "  n't/RB\n",
      "  vandalisms/JJ\n",
      "  ,/,\n",
      "  just/RB\n",
      "  closure/NN\n",
      "  on/IN\n",
      "  some/DT\n",
      "  GAs/NNP\n",
      "  after/IN\n",
      "  I/PRP\n",
      "  voted/VBD\n",
      "  at/IN\n",
      "  (GPE New/NNP York/NNP)\n",
      "  (PERSON Dolls/NNP FAC/NNP)\n",
      "  ./.\n",
      "  And/CC\n",
      "  please/VB\n",
      "  do/VBP\n",
      "  n't/RB\n",
      "  remove/VB\n",
      "  the/DT\n",
      "  template/NN\n",
      "  from/IN\n",
      "  the/DT\n",
      "  talk/NN\n",
      "  page/NN\n",
      "  since/IN\n",
      "  I/PRP\n",
      "  'm/VBP\n",
      "  retired/JJ\n",
      "  now.89.205.38.27COCKSUCKER/NN\n",
      "  BEFORE/IN\n",
      "  (ORGANIZATION YOU/NNP)\n",
      "  PISS/NNP\n",
      "  AROUND/NNP\n",
      "  ON/NNP\n",
      "  MY/NNP\n",
      "  WORKYo/NNP\n",
      "  bitch/NN\n",
      "  Ja/NNP\n",
      "  Rule/NNP\n",
      "  is/VBZ\n",
      "  more/RBR\n",
      "  succesful/JJ\n",
      "  then/RB\n",
      "  you/PRP\n",
      "  'll/MD\n",
      "  ever/RB\n",
      "  be/VB\n",
      "  whats/VBN\n",
      "  up/RP\n",
      "  with/IN\n",
      "  you/PRP\n",
      "  and/CC\n",
      "  hating/VBG\n",
      "  you/PRP\n",
      "  sad/JJ\n",
      "  mofuckas/NNS\n",
      "  .../:\n",
      "  i/NN\n",
      "  should/MD\n",
      "  bitch/VB\n",
      "  slap/NN\n",
      "  ur/JJ\n",
      "  pethedic/JJ\n",
      "  white/JJ\n",
      "  faces/VBZ\n",
      "  and/CC\n",
      "  get/VB\n",
      "  you/PRP\n",
      "  to/TO\n",
      "  kiss/VB\n",
      "  my/PRP$\n",
      "  ass/NN\n",
      "  you/PRP\n",
      "  guys/VBP\n",
      "  sicken/VB\n",
      "  me/PRP\n",
      "  ./.\n",
      "  Ja/NNP\n",
      "  rule/NN\n",
      "  is/VBZ\n",
      "  about/IN\n",
      "  pride/NN\n",
      "  in/IN\n",
      "  da/NN\n",
      "  music/NN\n",
      "  man/NN\n",
      "  ./.\n",
      "  dont/JJ\n",
      "  diss/NN\n",
      "  that/WDT\n",
      "  shit/VBD\n",
      "  on/IN\n",
      "  him/PRP\n",
      "  ./.\n",
      "  and/CC\n",
      "  nothin/JJ\n",
      "  is/VBZ\n",
      "  wrong/JJ\n",
      "  bein/NNS\n",
      "  like/IN\n",
      "  tupac/NN\n",
      "  he/PRP\n",
      "  was/VBD\n",
      "  a/DT\n",
      "  brother/NN\n",
      "  too/RB\n",
      "  .../:\n",
      "  fuckin/JJ\n",
      "  white/JJ\n",
      "  boys/NNS\n",
      "  get/VBP\n",
      "  things/NNS\n",
      "  right/RB\n",
      "  next/JJ\n",
      "  time./NN\n",
      "  ,/,)\n"
     ]
    }
   ],
   "source": [
    "import matplotlib\n",
    "\n",
    "words = nltk.word_tokenize(StringData)\n",
    "tagged_words = nltk.pos_tag(words)\n",
    "namedEntity = nltk.ne_chunk(tagged_words)\n",
    "print (namedEntity)"
   ]
  },
  {
   "cell_type": "markdown",
   "metadata": {
    "_uuid": "43e563368e3b0f60be63c16b4a9c1ee3379eacbd"
   },
   "source": [
    "\n",
    "### BAG OF WORDS MODEL\n",
    "### The bag-of-words model is a way of representing text data when modeling text with machine learning algorithms.\n",
    "### Study Link  - https://machinelearningmastery.com/gentle-introduction-bag-words-model/\n"
   ]
  },
  {
   "cell_type": "markdown",
   "metadata": {
    "_uuid": "dfe4a942bf8954a7f1f6c970e2a11e335a691c53"
   },
   "source": [
    "1. Convert all letters to lower case\n",
    "1. Remove all special characters\n",
    "1. Remove all extra spaces"
   ]
  },
  {
   "cell_type": "code",
   "execution_count": 14,
   "metadata": {
    "_uuid": "175dec7f3a2e75908082e7b7ef13721c466ce334"
   },
   "outputs": [
    {
     "data": {
      "text/plain": [
       "['explanation why the edits made under my username hardcore metallica fan were reverted ',\n",
       " 'they weren t vandalisms just closure on some gas after i voted at new york dolls fac ',\n",
       " 'and please don t remove the template from the talk page since i m retired now 89 205 38 27cocksucker before you piss around on my workyo bitch ja rule is more succesful then you ll ever be whats up with you and hating you sad mofuckas i should bitch slap ur pethedic white faces and get you to kiss my ass you guys sicken me ',\n",
       " 'ja rule is about pride in da music man ',\n",
       " 'dont diss that shit on him ',\n",
       " 'and nothin is wrong bein like tupac he was a brother too fuckin white boys get things right next time ']"
      ]
     },
     "execution_count": 14,
     "metadata": {},
     "output_type": "execute_result"
    }
   ],
   "source": [
    "import re\n",
    "\n",
    "sentences = nltk.sent_tokenize(StringData)\n",
    "for i in range(len(sentences)):\n",
    "    sentences[i] = sentences[i].lower()\n",
    "    sentences[i] = re.sub(r'\\W',' ',sentences[i])\n",
    "    sentences[i] = re.sub(r'\\s+',' ',sentences[i])\n",
    "sentences"
   ]
  },
  {
   "cell_type": "markdown",
   "metadata": {
    "_uuid": "ffd109a35ff8fe2eb53cfd3c07c26b86abde906b"
   },
   "source": [
    "### 1. Create the word count dictionary\n",
    "### 2. Get the first 5 frequently occuring words."
   ]
  },
  {
   "cell_type": "code",
   "execution_count": 15,
   "metadata": {
    "_uuid": "6ad742ffb8b0d7978062495fa41ce1496e019849"
   },
   "outputs": [
    {
     "data": {
      "text/plain": [
       "['you',\n",
       " 'and',\n",
       " 'the',\n",
       " 'my',\n",
       " 'on',\n",
       " 'i',\n",
       " 'is',\n",
       " 't',\n",
       " 'bitch',\n",
       " 'ja',\n",
       " 'rule',\n",
       " 'white',\n",
       " 'get',\n",
       " 'explanation',\n",
       " 'why',\n",
       " 'edits',\n",
       " 'made',\n",
       " 'under',\n",
       " 'username',\n",
       " 'hardcore',\n",
       " 'metallica',\n",
       " 'fan',\n",
       " 'were',\n",
       " 'reverted',\n",
       " 'they',\n",
       " 'weren',\n",
       " 'vandalisms',\n",
       " 'just',\n",
       " 'closure',\n",
       " 'some']"
      ]
     },
     "execution_count": 15,
     "metadata": {},
     "output_type": "execute_result"
    }
   ],
   "source": [
    "word2count = {}\n",
    "for data in sentences:\n",
    "    words = nltk.word_tokenize(data)\n",
    "    for word in words:\n",
    "        if word not in word2count.keys():\n",
    "            word2count[word] = 1\n",
    "        else:\n",
    "            word2count[word] += 1\n",
    "import heapq\n",
    "freq_words = heapq.nlargest(30, word2count, key=word2count.get)\n",
    "freq_words"
   ]
  },
  {
   "cell_type": "markdown",
   "metadata": {
    "_uuid": "a36b520e68184738f8baa6d357a852901c87babb"
   },
   "source": [
    "### Create the bag of words model"
   ]
  },
  {
   "cell_type": "code",
   "execution_count": 16,
   "metadata": {
    "_uuid": "d024ecdb1d766de7b9e309a1449d5310e179fb17"
   },
   "outputs": [
    {
     "data": {
      "text/plain": [
       "array([[0, 0, 1, 1, 0, 0, 0, 0, 0, 0, 0, 0, 0, 1, 1, 1, 1, 1, 1, 1, 1, 1,\n",
       "        1, 1, 0, 0, 0, 0, 0, 0],\n",
       "       [0, 0, 0, 0, 1, 1, 0, 1, 0, 0, 0, 0, 0, 0, 0, 0, 0, 0, 0, 0, 0, 0,\n",
       "        0, 0, 1, 1, 1, 1, 1, 1],\n",
       "       [1, 1, 1, 1, 1, 1, 1, 1, 1, 1, 1, 1, 1, 0, 0, 0, 0, 0, 0, 0, 0, 0,\n",
       "        0, 0, 0, 0, 0, 0, 0, 0],\n",
       "       [0, 0, 0, 0, 0, 0, 1, 0, 0, 1, 1, 0, 0, 0, 0, 0, 0, 0, 0, 0, 0, 0,\n",
       "        0, 0, 0, 0, 0, 0, 0, 0],\n",
       "       [0, 0, 0, 0, 1, 0, 0, 0, 0, 0, 0, 0, 0, 0, 0, 0, 0, 0, 0, 0, 0, 0,\n",
       "        0, 0, 0, 0, 0, 0, 0, 0],\n",
       "       [0, 1, 0, 0, 0, 0, 1, 0, 0, 0, 0, 1, 1, 0, 0, 0, 0, 0, 0, 0, 0, 0,\n",
       "        0, 0, 0, 0, 0, 0, 0, 0]])"
      ]
     },
     "execution_count": 16,
     "metadata": {},
     "output_type": "execute_result"
    }
   ],
   "source": [
    "bagOfWords = []\n",
    "for data in sentences:\n",
    "    vector = []\n",
    "    for word in freq_words:\n",
    "        if word in nltk.word_tokenize(data):\n",
    "            vector.append(1)\n",
    "        else:\n",
    "            vector.append(0)\n",
    "    bagOfWords.append(vector)\n",
    "bagOfWords = np.asarray(bagOfWords)\n",
    "bagOfWords"
   ]
  },
  {
   "cell_type": "markdown",
   "metadata": {
    "_uuid": "1da64fc97a441da1be0f4217d29884b5a22ef714"
   },
   "source": [
    "### Drawbacks of Bag Of Words model -\n",
    "### 1.  All words have same importance. \n",
    "### 2. No semantic information is preserved\n",
    "### Solution to the above problems is - TF-IDF model (Term Frequency - Inverse Document Frequency )\n",
    "### TF-IDF = (Number of occurences of word in the document / Total Number of words in a document)\n"
   ]
  },
  {
   "cell_type": "code",
   "execution_count": 17,
   "metadata": {
    "_uuid": "2e862461013d083c0afee7eaac0d759d89b5f222"
   },
   "outputs": [
    {
     "data": {
      "text/plain": [
       "{'you': 1.9459101490553132,\n",
       " 'and': 1.3862943611198906,\n",
       " 'the': 1.3862943611198906,\n",
       " 'my': 1.3862943611198906,\n",
       " 'on': 1.0986122886681098,\n",
       " 'i': 1.3862943611198906,\n",
       " 'is': 1.0986122886681098,\n",
       " 't': 1.3862943611198906,\n",
       " 'bitch': 1.9459101490553132,\n",
       " 'ja': 1.3862943611198906,\n",
       " 'rule': 1.3862943611198906,\n",
       " 'white': 1.3862943611198906,\n",
       " 'get': 1.3862943611198906,\n",
       " 'explanation': 1.9459101490553132,\n",
       " 'why': 1.9459101490553132,\n",
       " 'edits': 1.9459101490553132,\n",
       " 'made': 1.9459101490553132,\n",
       " 'under': 1.9459101490553132,\n",
       " 'username': 1.9459101490553132,\n",
       " 'hardcore': 1.9459101490553132,\n",
       " 'metallica': 1.9459101490553132,\n",
       " 'fan': 1.9459101490553132,\n",
       " 'were': 1.9459101490553132,\n",
       " 'reverted': 1.9459101490553132,\n",
       " 'they': 1.9459101490553132,\n",
       " 'weren': 1.9459101490553132,\n",
       " 'vandalisms': 1.9459101490553132,\n",
       " 'just': 1.9459101490553132,\n",
       " 'closure': 1.9459101490553132,\n",
       " 'some': 1.9459101490553132}"
      ]
     },
     "execution_count": 17,
     "metadata": {},
     "output_type": "execute_result"
    }
   ],
   "source": [
    "# IDF Matrix\n",
    "word_idfs = {}\n",
    "for word in freq_words:\n",
    "    document_count = 0\n",
    "    for data in sentences:\n",
    "        if word in nltk.word_tokenize(data):\n",
    "            document_count += 1\n",
    "    word_idfs[word] = np.log((len(sentences)/document_count)+1) # +1 is the bias and standard way of calulating TF-IDF\n",
    "word_idfs"
   ]
  },
  {
   "cell_type": "code",
   "execution_count": 18,
   "metadata": {
    "_uuid": "4783a79bf0c6cc029a7295a267e88e3d3f24527c"
   },
   "outputs": [],
   "source": [
    "# TF Matrix\n",
    "tf_matrix = {}\n",
    "for word in freq_words:\n",
    "    doc_tf = []\n",
    "    for data in sentences:\n",
    "        frequency = 0\n",
    "        for w in nltk.word_tokenize(data):\n",
    "            if w == word:\n",
    "                frequency += 1\n",
    "        tf_word = frequency/len(nltk.word_tokenize(data))\n",
    "        doc_tf.append(tf_word)\n",
    "    tf_matrix[word] = doc_tf\n",
    "# tf_matrix"
   ]
  },
  {
   "cell_type": "code",
   "execution_count": 19,
   "metadata": {
    "_uuid": "3f3cc7a65b8dd1fece125bccf0766e89694455ee"
   },
   "outputs": [
    {
     "data": {
      "text/plain": [
       "[[0.0, 0.0, 0.17690092264139212, 0.0, 0.0, 0.0],\n",
       " [0.0, 0.0, 0.06301338005090412, 0.0, 0.0, 0.06931471805599453],\n",
       " [0.10663802777845313, 0.0, 0.04200892003393608, 0.0, 0.0, 0.0],\n",
       " [0.10663802777845313, 0.0, 0.04200892003393608, 0.0, 0.0, 0.0],\n",
       " [0.0,\n",
       "  0.06462425227459469,\n",
       "  0.016645640737395603,\n",
       "  0.0,\n",
       "  0.1831020481113516,\n",
       "  0.0],\n",
       " [0.0, 0.08154672712469944, 0.04200892003393608, 0.0, 0.0, 0.0],\n",
       " [0.0,\n",
       "  0.0,\n",
       "  0.016645640737395603,\n",
       "  0.12206803207423442,\n",
       "  0.0,\n",
       "  0.054930614433405495],\n",
       " [0.0, 0.08154672712469944, 0.02100446001696804, 0.0, 0.0, 0.0],\n",
       " [0.0, 0.0, 0.058966974213797374, 0.0, 0.0, 0.0],\n",
       " [0.0, 0.0, 0.02100446001696804, 0.15403270679109896, 0.0, 0.0],\n",
       " [0.0, 0.0, 0.02100446001696804, 0.15403270679109896, 0.0, 0.0],\n",
       " [0.0, 0.0, 0.02100446001696804, 0.0, 0.0, 0.06931471805599453],\n",
       " [0.0, 0.0, 0.02100446001696804, 0.0, 0.0, 0.06931471805599453],\n",
       " [0.14968539608117795, 0.0, 0.0, 0.0, 0.0, 0.0],\n",
       " [0.14968539608117795, 0.0, 0.0, 0.0, 0.0, 0.0],\n",
       " [0.14968539608117795, 0.0, 0.0, 0.0, 0.0, 0.0],\n",
       " [0.14968539608117795, 0.0, 0.0, 0.0, 0.0, 0.0],\n",
       " [0.14968539608117795, 0.0, 0.0, 0.0, 0.0, 0.0],\n",
       " [0.14968539608117795, 0.0, 0.0, 0.0, 0.0, 0.0],\n",
       " [0.14968539608117795, 0.0, 0.0, 0.0, 0.0, 0.0],\n",
       " [0.14968539608117795, 0.0, 0.0, 0.0, 0.0, 0.0],\n",
       " [0.14968539608117795, 0.0, 0.0, 0.0, 0.0, 0.0],\n",
       " [0.14968539608117795, 0.0, 0.0, 0.0, 0.0, 0.0],\n",
       " [0.14968539608117795, 0.0, 0.0, 0.0, 0.0, 0.0],\n",
       " [0.0, 0.11446530288560666, 0.0, 0.0, 0.0, 0.0],\n",
       " [0.0, 0.11446530288560666, 0.0, 0.0, 0.0, 0.0],\n",
       " [0.0, 0.11446530288560666, 0.0, 0.0, 0.0, 0.0],\n",
       " [0.0, 0.11446530288560666, 0.0, 0.0, 0.0, 0.0],\n",
       " [0.0, 0.11446530288560666, 0.0, 0.0, 0.0, 0.0],\n",
       " [0.0, 0.11446530288560666, 0.0, 0.0, 0.0, 0.0]]"
      ]
     },
     "execution_count": 19,
     "metadata": {},
     "output_type": "execute_result"
    }
   ],
   "source": [
    "# TF_IDF MATRIX\n",
    "tfidf_matrix = []\n",
    "for word in tf_matrix.keys():\n",
    "    tfidf = []\n",
    "    for value in tf_matrix[word]:\n",
    "        score = value * word_idfs[word]\n",
    "        tfidf.append(score)\n",
    "    tfidf_matrix.append(tfidf)\n",
    "tfidf_matrix"
   ]
  },
  {
   "cell_type": "code",
   "execution_count": 20,
   "metadata": {
    "_uuid": "c273ea0863e8e692f61027b4631a797043177d4b"
   },
   "outputs": [
    {
     "data": {
      "text/plain": [
       "(6, 30)"
      ]
     },
     "execution_count": 20,
     "metadata": {},
     "output_type": "execute_result"
    }
   ],
   "source": [
    "X = np.asarray(tfidf_matrix)\n",
    "X = np.transpose(X)\n",
    "X.shape"
   ]
  },
  {
   "cell_type": "markdown",
   "metadata": {
    "_uuid": "e8c8a428dcfb25499834e240fc40ee652c1d403a"
   },
   "source": [
    "####  N-GRAM MODEL - Need to know the Markov chains.  An n-gram is a contiguous sequence of n items from a given sample of text or speech. N-grams of texts are extensively used in text mining and natural language processing tasks. They are basically a set of co-occuring words within a given window and when computing the n-grams you typically move one word forward (although you can move X words forward in more advanced scenarios). For example, for the sentence \"The cow jumps over the moon\". If N=2 (known as bigrams), then the ngrams would be:\n",
    "* the cow\n",
    "* cow jumps\n",
    "* jumps over\n",
    "* over the\n",
    "* the moon\n",
    "\n",
    "#### Generating a word n-gram in the given code"
   ]
  },
  {
   "cell_type": "code",
   "execution_count": 21,
   "metadata": {
    "_uuid": "d247db8e58459d1ded0ec31da1c938a3bd684f01"
   },
   "outputs": [
    {
     "name": "stdout",
     "output_type": "stream",
     "text": [
      "Explanation\n",
      "Why the edits made under my username Hardcore Metallica Fan were reverted? They weren't vandalisms, just closure on some GAs after I voted at New York Dolls FAC. And please don't remove the template from the talk page since I'm retired now.89.205.38.27\n",
      "\n",
      "\n",
      "{'Explanation Why the': ['edits'], 'Why the edits': ['made'], 'the edits made': ['under'], 'edits made under': ['my'], 'made under my': ['username'], 'under my username': ['Hardcore'], 'my username Hardcore': ['Metallica'], 'username Hardcore Metallica': ['Fan'], 'Hardcore Metallica Fan': ['were'], 'Metallica Fan were': ['reverted'], 'Fan were reverted': ['?'], 'were reverted ?': ['They'], 'reverted ? They': ['were'], '? They were': [\"n't\"], \"They were n't\": ['vandalisms'], \"were n't vandalisms\": [','], \"n't vandalisms ,\": ['just'], 'vandalisms , just': ['closure'], ', just closure': ['on'], 'just closure on': ['some'], 'closure on some': ['GAs'], 'on some GAs': ['after'], 'some GAs after': ['I'], 'GAs after I': ['voted'], 'after I voted': ['at'], 'I voted at': ['New'], 'voted at New': ['York'], 'at New York': ['Dolls'], 'New York Dolls': ['FAC'], 'York Dolls FAC': ['.'], 'Dolls FAC .': ['And'], 'FAC . And': ['please'], '. And please': ['do'], 'And please do': [\"n't\"], \"please do n't\": ['remove'], \"do n't remove\": ['the'], \"n't remove the\": ['template'], 'remove the template': ['from'], 'the template from': ['the'], 'template from the': ['talk'], 'from the talk': ['page'], 'the talk page': ['since'], 'talk page since': ['I'], 'page since I': [\"'m\"], \"since I 'm\": ['retired'], \"I 'm retired\": ['now.89.205.38.27']}\n"
     ]
    }
   ],
   "source": [
    "import random\n",
    "\n",
    "text = train_text[0]\n",
    "words = nltk.word_tokenize(text)\n",
    "print (text)\n",
    "print (\"\\n\")\n",
    "ngrams = {}\n",
    "n = 3\n",
    "for i in range(len(words) - n):\n",
    "    gram = ' '.join(words[i:i+n])\n",
    "    if gram not in ngrams.keys():\n",
    "        ngrams[gram] = []\n",
    "    ngrams[gram].append(words[i+n])\n",
    "\n",
    "currentgram = ' '.join(words[0:n])\n",
    "result = currentgram\n",
    "for i in range(10):\n",
    "    if currentgram not in ngrams.keys():\n",
    "        break\n",
    "    possibilities = ngrams[currentgram]\n",
    "    nextItem = possibilities[random.randrange(len(possibilities))]\n",
    "    result  += ' '+nextItem\n",
    "    rwords = nltk.word_tokenize(result)\n",
    "    currentGram = ' '.join(rwords[len(rwords)-n:len(rwords)])\n",
    "    \n",
    "print (ngrams)"
   ]
  },
  {
   "cell_type": "markdown",
   "metadata": {
    "_uuid": "84ba05392dba0ce04f08ee91ad066d5ed7e746ff"
   },
   "source": [
    "## LATENT SYMANTIC ANALYSIS (LSA) - Latent Semantic Analysis is a technique for creating a vector representation of a document. Having a vector representation of a document gives you a way to compare documents for their similarity by calculating the distance between the vectors. This in turn means you can do handy things like classifying documents to determine which of a set of known topics they most likely belong to.\n",
    "#### We need to build SVD model . SVD - Singular Value Decomposition. Refer to the link for more information - https://machinelearningmastery.com/singular-value-decomposition-for-machine-learning/\n",
    "#### LSA  is used for following applications:\n",
    "#### 1.  Article Bucketing in websites\n",
    "#### 2. Finding relationships between articles/words\n",
    "#### 3. Page indexing in search engines"
   ]
  },
  {
   "cell_type": "code",
   "execution_count": 22,
   "metadata": {
    "_uuid": "aa749741cd52c137d1e2fe2cd2850e0ad412b557"
   },
   "outputs": [
    {
     "name": "stdout",
     "output_type": "stream",
     "text": [
      "\n",
      "Concept 0\n",
      "\n",
      "1.0845533846505304\n",
      "1.4149255370850633\n",
      "0\n",
      "0.18758805859317684\n",
      "1.245764829907757\n",
      "1.5582745459910927\n",
      "0\n",
      "\n",
      "Concept 1\n",
      "\n",
      "0\n",
      "0\n",
      "1.8337467336425444\n",
      "0\n",
      "0\n",
      "0\n",
      "1.2850142324187057\n",
      "\n",
      "Concept 2\n",
      "\n",
      "1.4095117867129112\n",
      "0\n",
      "0\n",
      "1.7814528740758675\n",
      "0.32831802736015747\n",
      "0\n",
      "0\n",
      "\n",
      "Concept 3\n",
      "\n",
      "2.1306513775604543\n",
      "0\n",
      "0\n",
      "0\n",
      "0.1303202816189605\n",
      "0.6110485555266367\n",
      "0\n"
     ]
    }
   ],
   "source": [
    "from sklearn.decomposition import TruncatedSVD\n",
    "\n",
    "dataset = [\"The amount of population is increasing day by day\",\n",
    "           \"The concert was great\",\n",
    "           \"I love to see Gordan Ramsay cook\",\n",
    "           \"Google is introducing a new technology\",\n",
    "           \"AI Robots are the example of great technology present today\",\n",
    "           \"All of us were singing in the concert\",\n",
    "           \"We have launch campaigns to stop pollution and global warming\"\n",
    "          ]\n",
    "dataset = [line.lower() for line in dataset]\n",
    "vectorizer = TfidfVectorizer()\n",
    "X = vectorizer.fit_transform(dataset)\n",
    "#print (X[0]) # (documentNumber , position) tfidf value\n",
    "\n",
    "lsa = TruncatedSVD(n_components = 4, n_iter = 100) # n_components are the number of concepts that you want to find from the data\n",
    "lsa.fit(X)\n",
    "#print (lsa.components_[3])\n",
    "terms = vectorizer.get_feature_names()\n",
    "concept_words = {}\n",
    "for i,comp in enumerate(lsa.components_):\n",
    "    componentTerms = zip(terms,comp)\n",
    "    sortedTerms = sorted(componentTerms, key=lambda x:x[1], reverse=True)\n",
    "    sortedTerms =  sortedTerms[:10]\n",
    "    concept_words[\"Concept \"+str(i)] = sortedTerms\n",
    "\n",
    "for key in concept_words.keys():\n",
    "    sentence_scores = []\n",
    "    for sentence in dataset:\n",
    "        words = nltk.word_tokenize(sentence)\n",
    "        score = 0\n",
    "        for word in words:\n",
    "            for word_with_score in concept_words[key]:\n",
    "                if word == word_with_score[0]:\n",
    "                    score += word_with_score[1]\n",
    "        sentence_scores.append(score)\n",
    "    print(\"\\n\"+key+\"\\n\")\n",
    "    for sent_score in sentence_scores:\n",
    "        print (sent_score)"
   ]
  },
  {
   "cell_type": "markdown",
   "metadata": {
    "_uuid": "eadcaa7fd5ec987b43946e385452bb1c376aaa04"
   },
   "source": [
    "#### Find the synonyms and antonyms for words - Refer to link - https://wordnet.princeton.edu/"
   ]
  },
  {
   "cell_type": "code",
   "execution_count": 25,
   "metadata": {
    "_uuid": "b3c512fe0fe8210ef8a3d90ea6f0b2633c729a4b"
   },
   "outputs": [
    {
     "data": {
      "text/plain": [
       "'\\nimport matplotlib.pyplot as plt\\nfrom wordcloud import WordCloud\\n\\nwc = WordCloud().generate(StringData)\\nplt.figure(figsize=(15,15))\\nplt.imshow(wc, interpolation=\\'bilinear\\')\\nplt.axis(\"off\")\\nplt.show()\\n'"
      ]
     },
     "execution_count": 25,
     "metadata": {},
     "output_type": "execute_result"
    }
   ],
   "source": [
    "'''\n",
    "import matplotlib.pyplot as plt\n",
    "from wordcloud import WordCloud\n",
    "\n",
    "wc = WordCloud().generate(StringData)\n",
    "plt.figure(figsize=(15,15))\n",
    "plt.imshow(wc, interpolation='bilinear')\n",
    "plt.axis(\"off\")\n",
    "plt.show()\n",
    "'''"
   ]
  },
  {
   "cell_type": "code",
   "execution_count": 26,
   "metadata": {
    "_uuid": "e4b86ef76156c8a90f88ab98e84816a61c7dafbc"
   },
   "outputs": [
    {
     "name": "stdout",
     "output_type": "stream",
     "text": [
      "{'badness', 'evilness', 'ill', 'bad', 'evil'}\n",
      "{'just', 'sound', 'commodity', 'dear', 'upright', 'salutary', 'thoroughly', 'skillful', 'honest', 'right', 'proficient', 'respectable', 'secure', 'honorable', 'good', 'near', 'safe', 'undecomposed', 'well', 'beneficial', 'unspoilt', 'expert', 'in_force', 'adept', 'effective', 'dependable', 'in_effect', 'goodness', 'trade_good', 'estimable', 'ripe', 'full', 'unspoiled', 'skilful', 'practiced', 'serious', 'soundly'}\n"
     ]
    }
   ],
   "source": [
    "from nltk.corpus import wordnet\n",
    "\n",
    "synonyms = []\n",
    "antonyms = []\n",
    "\n",
    "for syn in wordnet.synsets(\"good\"):\n",
    "    for s in syn.lemmas():\n",
    "        synonyms.append(s.name())\n",
    "        for a in s.antonyms():\n",
    "            antonyms.append(a.name())\n",
    "print (set(antonyms))\n",
    "print (set(synonyms))"
   ]
  },
  {
   "cell_type": "code",
   "execution_count": 27,
   "metadata": {
    "_uuid": "f4a99d7b699015ae322ee79be93057c7f206f6bd"
   },
   "outputs": [
    {
     "name": "stdout",
     "output_type": "stream",
     "text": [
      "[('article', 3538), ('page', 2964), ('wikipedia', 2868), ('would', 2356), ('talk', 2240), ('one', 1902), ('like', 1855), ('please', 1774), ('see', 1380), ('also', 1312), ('know', 1230), ('think', 1218), ('edit', 1164), ('people', 1133), ('use', 1073), ('time', 993), ('fuck', 969), ('articles', 967), ('may', 942), ('user', 926), ('thanks', 889), ('go', 873), ('get', 861), ('even', 854), ('balls', 850), ('could', 846), ('make', 821), ('good', 808), ('information', 802), ('well', 784), ('ass', 759), ('sex', 740), ('deletion', 734), ('wp', 718), ('want', 708), ('first', 704), ('image', 699), ('way', 699), ('sources', 696), ('made', 687), ('name', 677), ('going', 674), ('new', 672), ('say', 668), ('pages', 663), ('source', 645), ('hate', 629), ('used', 628), ('really', 626), ('section', 625)]\n"
     ]
    },
    {
     "data": {
      "text/plain": [
       "'\\nwc = WordCloud().generate(cleanedSentences)\\nplt.figure(figsize=(15,15))\\nplt.imshow(wc, interpolation=\\'bilinear\\')\\nplt.axis(\"off\")\\nplt.show()\\n'"
      ]
     },
     "execution_count": 27,
     "metadata": {},
     "output_type": "execute_result"
    }
   ],
   "source": [
    "from nltk.corpus import stopwords\n",
    "import string\n",
    "import re\n",
    "\n",
    "oneSetOfStopWords = set(stopwords.words('english')+['``',\"''\"])\n",
    "totalWords =[]\n",
    "Sentences = trainDataSet['comment_text'].values\n",
    "cleanedSentences = \"\"\n",
    "for i in range(0,10000):\n",
    "    cleanedText = cleanText(Sentences[i])\n",
    "    cleanedSentences += cleanedText\n",
    "    requiredWords = nltk.word_tokenize(cleanedText)\n",
    "    for word in requiredWords:\n",
    "        if word not in oneSetOfStopWords and word not in string.punctuation:\n",
    "            totalWords.append(word)\n",
    "    \n",
    "wordfreqdist = nltk.FreqDist(totalWords)\n",
    "mostcommon = wordfreqdist.most_common(50)\n",
    "print(mostcommon)\n",
    "\n",
    "'''\n",
    "wc = WordCloud().generate(cleanedSentences)\n",
    "plt.figure(figsize=(15,15))\n",
    "plt.imshow(wc, interpolation='bilinear')\n",
    "plt.axis(\"off\")\n",
    "plt.show()\n",
    "'''"
   ]
  },
  {
   "cell_type": "code",
   "execution_count": 28,
   "metadata": {
    "_uuid": "bb8e478f5740b7ac3a7d540fe2454d6275fa6a40"
   },
   "outputs": [
    {
     "name": "stdout",
     "output_type": "stream",
     "text": [
      "!\"#$%&'()*+,-./:;<=>?@[\\]^_`{|}~\n"
     ]
    }
   ],
   "source": [
    "import string\n",
    "print (string.punctuation)"
   ]
  },
  {
   "cell_type": "code",
   "execution_count": 29,
   "metadata": {
    "_uuid": "67eb10bcd90d137bff6c363035e870772748e3fe"
   },
   "outputs": [
    {
     "name": "stdout",
     "output_type": "stream",
     "text": [
      "Index(['id', 'comment_text', 'toxic', 'severe_toxic', 'obscene', 'threat',\n",
      "       'insult', 'identity_hate'],\n",
      "      dtype='object')\n",
      "(1, 2)\n"
     ]
    },
    {
     "name": "stderr",
     "output_type": "stream",
     "text": [
      "C:\\ProgramData\\Anaconda3\\lib\\site-packages\\ipykernel_launcher.py:31: SettingWithCopyWarning: \n",
      "A value is trying to be set on a copy of a slice from a DataFrame.\n",
      "Try using .loc[row_indexer,col_indexer] = value instead\n",
      "\n",
      "See the caveats in the documentation: http://pandas.pydata.org/pandas-docs/stable/indexing.html#indexing-view-versus-copy\n"
     ]
    }
   ],
   "source": [
    "tempNonToxicDataSet = trainDataSet[trainDataSet['toxic'] == 0][0:1000]\n",
    "tempToxicDataSet = trainDataSet[trainDataSet['toxic'] == 1][0:1000]\n",
    "\n",
    "tempNonSevereToxicDataSet = trainDataSet[trainDataSet['severe_toxic'] == 0][0:1000]\n",
    "tempSevereToxicDataSet = trainDataSet[trainDataSet['severe_toxic'] == 1][0:1000]\n",
    "\n",
    "tempNonObsceneDataSet = trainDataSet[trainDataSet['obscene'] == 0][0:1000]\n",
    "tempObsceneDataSet = trainDataSet[trainDataSet['obscene'] == 1][0:1000]\n",
    "\n",
    "tempNonThreadDataSet = trainDataSet[trainDataSet['threat'] == 0][0:1000]\n",
    "tempThreadDataSet = trainDataSet[trainDataSet['threat'] == 1][0:1000]\n",
    "\n",
    "tempNonInsultDataSet = trainDataSet[trainDataSet['insult'] == 0][0:1000]\n",
    "tempInsultDataSet = trainDataSet[trainDataSet['insult'] == 1][0:1000]\n",
    "\n",
    "tempNonIdentityHateDataSet = trainDataSet[trainDataSet['identity_hate'] == 0][0:1000]\n",
    "tempIdentityHateDataSet = trainDataSet[trainDataSet['identity_hate'] == 1][0:1000]\n",
    "\n",
    "frames = [tempNonToxicDataSet, tempToxicDataSet, \n",
    "          tempNonSevereToxicDataSet, tempSevereToxicDataSet, \n",
    "          tempNonObsceneDataSet, tempObsceneDataSet,\n",
    "         tempNonThreadDataSet, tempThreadDataSet,\n",
    "         tempNonInsultDataSet,tempInsultDataSet,\n",
    "         tempNonIdentityHateDataSet , tempIdentityHateDataSet]\n",
    "tempTrainDataSet = pd.concat(frames)\n",
    "print (tempTrainDataSet.columns)\n",
    "\n",
    "tempTestDataSet = testDataSet[0:1]\n",
    "print (tempTestDataSet.shape)\n",
    "tempTrainDataSet['comment_text'] = tempTrainDataSet['comment_text'].map(lambda com : cleanText(com))\n",
    "tempTestDataSet['comment_text'] = tempTestDataSet['comment_text'].map(lambda com : cleanText(com))"
   ]
  },
  {
   "cell_type": "code",
   "execution_count": 31,
   "metadata": {},
   "outputs": [
    {
     "name": "stdout",
     "output_type": "stream",
     "text": [
      "(9182,)\n",
      "(2296,)\n",
      "(1,)\n"
     ]
    }
   ],
   "source": [
    "from sklearn.model_selection import train_test_split\n",
    "train, test = train_test_split(tempTrainDataSet, random_state=42, test_size=0.2, shuffle=True)\n",
    "X_train = train.comment_text\n",
    "X_test = test.comment_text\n",
    "testDataSet = tempTestDataSet.comment_text\n",
    "print(X_train.shape)\n",
    "print(X_test.shape)\n",
    "print (testDataSet.shape)"
   ]
  },
  {
   "cell_type": "code",
   "execution_count": 34,
   "metadata": {
    "scrolled": false
   },
   "outputs": [
    {
     "name": "stdout",
     "output_type": "stream",
     "text": [
      "Processing for -- toxic\n",
      "Following is the Classification report - \n",
      "             precision    recall  f1-score   support\n",
      "\n",
      "          0       0.94      0.97      0.95      1173\n",
      "          1       0.97      0.93      0.95      1123\n",
      "\n",
      "avg / total       0.95      0.95      0.95      2296\n",
      "\n",
      "Testing Comment ---  yo bitch ja rule is more succesful then you will ever be whats up with you and hating you sad mofuckas i should bitch slap ur pethedic white faces and get you to kiss my ass you guys sicken me ja rule is about pride in da music man dont diss that shit on him and nothin is wrong bein like tupac he was a brother too fuckin white boys get things right next time\n",
      "The above testing comment is  99.40781159991113 % toxic\n"
     ]
    },
    {
     "data": {
      "image/png": "[encoded data removed]",
      "text/plain": [
       "<Figure size 432x288 with 1 Axes>"
      ]
     },
     "metadata": {},
     "output_type": "display_data"
    },
    {
     "name": "stdout",
     "output_type": "stream",
     "text": [
      "___________________________________________\n",
      "\n",
      "\n",
      "Processing for -- severe_toxic\n",
      "Following is the Classification report - \n",
      "             precision    recall  f1-score   support\n",
      "\n",
      "          0       0.87      0.99      0.93      1916\n",
      "          1       0.90      0.23      0.37       380\n",
      "\n",
      "avg / total       0.87      0.87      0.83      2296\n",
      "\n",
      "Testing Comment ---  yo bitch ja rule is more succesful then you will ever be whats up with you and hating you sad mofuckas i should bitch slap ur pethedic white faces and get you to kiss my ass you guys sicken me ja rule is about pride in da music man dont diss that shit on him and nothin is wrong bein like tupac he was a brother too fuckin white boys get things right next time\n",
      "The above testing comment is  9.955103281403648 % severe_toxic\n"
     ]
    },
    {
     "data": {
      "image/png": "[encoded data removed]",
      "text/plain": [
       "<Figure size 432x288 with 1 Axes>"
      ]
     },
     "metadata": {},
     "output_type": "display_data"
    },
    {
     "name": "stdout",
     "output_type": "stream",
     "text": [
      "___________________________________________\n",
      "\n",
      "\n",
      "Processing for -- obscene\n",
      "Following is the Classification report - \n",
      "             precision    recall  f1-score   support\n",
      "\n",
      "          0       0.93      0.95      0.94      1429\n",
      "          1       0.92      0.88      0.90       867\n",
      "\n",
      "avg / total       0.93      0.93      0.93      2296\n",
      "\n",
      "Testing Comment ---  yo bitch ja rule is more succesful then you will ever be whats up with you and hating you sad mofuckas i should bitch slap ur pethedic white faces and get you to kiss my ass you guys sicken me ja rule is about pride in da music man dont diss that shit on him and nothin is wrong bein like tupac he was a brother too fuckin white boys get things right next time\n",
      "The above testing comment is  98.14610411391762 % obscene\n"
     ]
    },
    {
     "data": {
      "image/png": "[encoded data removed]",
      "text/plain": [
       "<Figure size 432x288 with 1 Axes>"
      ]
     },
     "metadata": {},
     "output_type": "display_data"
    },
    {
     "name": "stdout",
     "output_type": "stream",
     "text": [
      "___________________________________________\n",
      "\n",
      "\n",
      "Processing for -- threat\n",
      "Following is the Classification report - \n",
      "             precision    recall  f1-score   support\n",
      "\n",
      "          0       0.95      1.00      0.97      2172\n",
      "          1       0.00      0.00      0.00       124\n",
      "\n",
      "avg / total       0.89      0.95      0.92      2296\n",
      "\n",
      "Testing Comment ---  yo bitch ja rule is more succesful then you will ever be whats up with you and hating you sad mofuckas i should bitch slap ur pethedic white faces and get you to kiss my ass you guys sicken me ja rule is about pride in da music man dont diss that shit on him and nothin is wrong bein like tupac he was a brother too fuckin white boys get things right next time\n",
      "The above testing comment is  0.6760695841889963 % threat\n"
     ]
    },
    {
     "name": "stderr",
     "output_type": "stream",
     "text": [
      "C:\\ProgramData\\Anaconda3\\lib\\site-packages\\sklearn\\metrics\\classification.py:1135: UndefinedMetricWarning: Precision and F-score are ill-defined and being set to 0.0 in labels with no predicted samples.\n",
      "  'precision', 'predicted', average, warn_for)\n",
      "C:\\ProgramData\\Anaconda3\\lib\\site-packages\\sklearn\\metrics\\ranking.py:571: UndefinedMetricWarning: No positive samples in y_true, true positive value should be meaningless\n",
      "  UndefinedMetricWarning)\n"
     ]
    },
    {
     "data": {
      "image/png": "[encoded data removed]",
      "text/plain": [
       "<Figure size 432x288 with 1 Axes>"
      ]
     },
     "metadata": {},
     "output_type": "display_data"
    },
    {
     "name": "stdout",
     "output_type": "stream",
     "text": [
      "___________________________________________\n",
      "\n",
      "\n",
      "Processing for -- insult\n",
      "Following is the Classification report - \n",
      "             precision    recall  f1-score   support\n",
      "\n",
      "          0       0.91      0.93      0.92      1428\n",
      "          1       0.88      0.84      0.86       868\n",
      "\n",
      "avg / total       0.89      0.89      0.89      2296\n",
      "\n",
      "Testing Comment ---  yo bitch ja rule is more succesful then you will ever be whats up with you and hating you sad mofuckas i should bitch slap ur pethedic white faces and get you to kiss my ass you guys sicken me ja rule is about pride in da music man dont diss that shit on him and nothin is wrong bein like tupac he was a brother too fuckin white boys get things right next time\n",
      "The above testing comment is  96.84143004906598 % insult\n"
     ]
    },
    {
     "data": {
      "image/png": "[encoded data removed]",
      "text/plain": [
       "<Figure size 432x288 with 1 Axes>"
      ]
     },
     "metadata": {},
     "output_type": "display_data"
    },
    {
     "name": "stdout",
     "output_type": "stream",
     "text": [
      "___________________________________________\n",
      "\n",
      "\n",
      "Processing for -- identity_hate\n",
      "Following is the Classification report - \n",
      "             precision    recall  f1-score   support\n",
      "\n",
      "          0       0.89      1.00      0.94      1982\n",
      "          1       0.97      0.23      0.37       314\n",
      "\n",
      "avg / total       0.90      0.89      0.86      2296\n",
      "\n",
      "Testing Comment ---  yo bitch ja rule is more succesful then you will ever be whats up with you and hating you sad mofuckas i should bitch slap ur pethedic white faces and get you to kiss my ass you guys sicken me ja rule is about pride in da music man dont diss that shit on him and nothin is wrong bein like tupac he was a brother too fuckin white boys get things right next time\n",
      "The above testing comment is  26.569925863963157 % identity_hate\n"
     ]
    },
    {
     "data": {
      "image/png": "[encoded data removed]",
      "text/plain": [
       "<Figure size 432x288 with 1 Axes>"
      ]
     },
     "metadata": {},
     "output_type": "display_data"
    },
    {
     "name": "stdout",
     "output_type": "stream",
     "text": [
      "___________________________________________\n",
      "\n",
      "\n"
     ]
    }
   ],
   "source": [
    "from sklearn.model_selection import train_test_split\n",
    "from sklearn.feature_extraction.text import TfidfVectorizer\n",
    "from sklearn.naive_bayes import MultinomialNB\n",
    "from sklearn.metrics import accuracy_score, classification_report, roc_curve, auc\n",
    "from sklearn.multiclass import OneVsRestClassifier\n",
    "from sklearn.tree import DecisionTreeClassifier\n",
    "from nltk.corpus import stopwords\n",
    "stop_words = set(stopwords.words('english'))\n",
    "from sklearn.svm import LinearSVC, SVC\n",
    "from sklearn.calibration import CalibratedClassifierCV\n",
    "from sklearn.linear_model import LogisticRegression\n",
    "from sklearn.pipeline import Pipeline\n",
    "import seaborn as sns\n",
    "\n",
    "from sklearn.feature_extraction.text import TfidfVectorizer\n",
    "from sklearn.linear_model import LogisticRegression\n",
    "from sklearn.model_selection import cross_val_score\n",
    "from scipy.sparse import hstack\n",
    "\n",
    "sentenceProbabilities = {}\n",
    "# Define a pipeline combining a text feature extractor with multi lable classifier\n",
    "NB_pipeline = Pipeline([\n",
    "                ('tfidf', TfidfVectorizer(stop_words=stop_words)),\n",
    "                ('clf', OneVsRestClassifier(MultinomialNB(\n",
    "                    fit_prior=True, class_prior=None))),\n",
    "            ])\n",
    "for category in class_names:\n",
    "    print('Processing for --', category)\n",
    "    # train the model using X_dtm & y\n",
    "    NB_pipeline.fit(X_train, train[category])\n",
    "    prediction = NB_pipeline.predict(X_test)\n",
    "    print (\"Following is the Classification report - \")\n",
    "    print(classification_report(test[category], prediction))\n",
    "    probabilities = NB_pipeline.predict_proba(testDataSet)\n",
    "    print (\"Testing Comment --- \", testDataSet[0] )\n",
    "    print (\"The above testing comment is \" ,probabilities[0][1] * 100,\"%\", category)\n",
    "    fpr, tpr, thresholds = roc_curve(prediction, test[category])\n",
    "    roc_auc = auc(fpr, tpr)\n",
    "\n",
    "    plt.figure()\n",
    "    lw=1\n",
    "    plt.plot(fpr, tpr, color='darkorange', lw=1, label='ROC curve (area = %0.2f)' % roc_auc)\n",
    "    plt.plot([0, 1], [0, 1], color='navy', lw=lw, linestyle='--')\n",
    "    plt.xlim([0.0, 1.0])\n",
    "    plt.ylim([0.0, 1.05])\n",
    "    plt.xlabel('False Positive Rate')\n",
    "    plt.ylabel('True Positive Rate')\n",
    "    plt.title('Receiver operating characteristic')\n",
    "    plt.legend(loc=\"lower right\")\n",
    "    plt.show()\n",
    "    print (\"___________________________________________\")\n",
    "    print (\"\\n\")"
   ]
  },
  {
   "cell_type": "code",
   "execution_count": 35,
   "metadata": {
    "scrolled": false
   },
   "outputs": [
    {
     "name": "stdout",
     "output_type": "stream",
     "text": [
      "Processing for ----  toxic\n",
      "Following is the Classification report - \n",
      "             precision    recall  f1-score   support\n",
      "\n",
      "          0       0.97      0.98      0.98      1173\n",
      "          1       0.98      0.97      0.97      1123\n",
      "\n",
      "avg / total       0.98      0.98      0.98      2296\n",
      "\n",
      "Testing Comment ---  yo bitch ja rule is more succesful then you will ever be whats up with you and hating you sad mofuckas i should bitch slap ur pethedic white faces and get you to kiss my ass you guys sicken me ja rule is about pride in da music man dont diss that shit on him and nothin is wrong bein like tupac he was a brother too fuckin white boys get things right next time\n",
      "The above testing comment is  99.99678188650749 % toxic\n"
     ]
    },
    {
     "data": {
      "image/png": "[encoded data removed]",
      "text/plain": [
       "<Figure size 432x288 with 1 Axes>"
      ]
     },
     "metadata": {},
     "output_type": "display_data"
    },
    {
     "name": "stdout",
     "output_type": "stream",
     "text": [
      "___________________________________________\n",
      "\n",
      "\n",
      "Processing for ----  severe_toxic\n",
      "Following is the Classification report - \n",
      "             precision    recall  f1-score   support\n",
      "\n",
      "          0       0.95      0.98      0.97      1916\n",
      "          1       0.88      0.75      0.81       380\n",
      "\n",
      "avg / total       0.94      0.94      0.94      2296\n",
      "\n",
      "Testing Comment ---  yo bitch ja rule is more succesful then you will ever be whats up with you and hating you sad mofuckas i should bitch slap ur pethedic white faces and get you to kiss my ass you guys sicken me ja rule is about pride in da music man dont diss that shit on him and nothin is wrong bein like tupac he was a brother too fuckin white boys get things right next time\n",
      "The above testing comment is  12.809997950362586 % severe_toxic\n"
     ]
    },
    {
     "data": {
      "image/png": "[encoded data removed]",
      "text/plain": [
       "<Figure size 432x288 with 1 Axes>"
      ]
     },
     "metadata": {},
     "output_type": "display_data"
    },
    {
     "name": "stdout",
     "output_type": "stream",
     "text": [
      "___________________________________________\n",
      "\n",
      "\n",
      "Processing for ----  obscene\n",
      "Following is the Classification report - \n",
      "             precision    recall  f1-score   support\n",
      "\n",
      "          0       0.97      0.97      0.97      1429\n",
      "          1       0.95      0.96      0.95       867\n",
      "\n",
      "avg / total       0.97      0.97      0.97      2296\n",
      "\n",
      "Testing Comment ---  yo bitch ja rule is more succesful then you will ever be whats up with you and hating you sad mofuckas i should bitch slap ur pethedic white faces and get you to kiss my ass you guys sicken me ja rule is about pride in da music man dont diss that shit on him and nothin is wrong bein like tupac he was a brother too fuckin white boys get things right next time\n",
      "The above testing comment is  99.98696840921252 % obscene\n"
     ]
    },
    {
     "data": {
      "image/png": "[encoded data removed]",
      "text/plain": [
       "<Figure size 432x288 with 1 Axes>"
      ]
     },
     "metadata": {},
     "output_type": "display_data"
    },
    {
     "name": "stdout",
     "output_type": "stream",
     "text": [
      "___________________________________________\n",
      "\n",
      "\n",
      "Processing for ----  threat\n",
      "Following is the Classification report - \n",
      "             precision    recall  f1-score   support\n",
      "\n",
      "          0       0.99      1.00      0.99      2172\n",
      "          1       0.91      0.85      0.88       124\n",
      "\n",
      "avg / total       0.99      0.99      0.99      2296\n",
      "\n",
      "Testing Comment ---  yo bitch ja rule is more succesful then you will ever be whats up with you and hating you sad mofuckas i should bitch slap ur pethedic white faces and get you to kiss my ass you guys sicken me ja rule is about pride in da music man dont diss that shit on him and nothin is wrong bein like tupac he was a brother too fuckin white boys get things right next time\n",
      "The above testing comment is  5.271249450358238 % threat\n"
     ]
    },
    {
     "data": {
      "image/png": "[encoded data removed]",
      "text/plain": [
       "<Figure size 432x288 with 1 Axes>"
      ]
     },
     "metadata": {},
     "output_type": "display_data"
    },
    {
     "name": "stdout",
     "output_type": "stream",
     "text": [
      "___________________________________________\n",
      "\n",
      "\n",
      "Processing for ----  insult\n",
      "Following is the Classification report - \n",
      "             precision    recall  f1-score   support\n",
      "\n",
      "          0       0.95      0.95      0.95      1428\n",
      "          1       0.92      0.92      0.92       868\n",
      "\n",
      "avg / total       0.94      0.94      0.94      2296\n",
      "\n",
      "Testing Comment ---  yo bitch ja rule is more succesful then you will ever be whats up with you and hating you sad mofuckas i should bitch slap ur pethedic white faces and get you to kiss my ass you guys sicken me ja rule is about pride in da music man dont diss that shit on him and nothin is wrong bein like tupac he was a brother too fuckin white boys get things right next time\n",
      "The above testing comment is  99.36316950052574 % insult\n"
     ]
    },
    {
     "data": {
      "image/png": "[encoded data removed]",
      "text/plain": [
       "<Figure size 432x288 with 1 Axes>"
      ]
     },
     "metadata": {},
     "output_type": "display_data"
    },
    {
     "name": "stdout",
     "output_type": "stream",
     "text": [
      "___________________________________________\n",
      "\n",
      "\n",
      "Processing for ----  identity_hate\n",
      "Following is the Classification report - \n",
      "             precision    recall  f1-score   support\n",
      "\n",
      "          0       0.98      0.99      0.98      1982\n",
      "          1       0.91      0.84      0.87       314\n",
      "\n",
      "avg / total       0.97      0.97      0.97      2296\n",
      "\n",
      "Testing Comment ---  yo bitch ja rule is more succesful then you will ever be whats up with you and hating you sad mofuckas i should bitch slap ur pethedic white faces and get you to kiss my ass you guys sicken me ja rule is about pride in da music man dont diss that shit on him and nothin is wrong bein like tupac he was a brother too fuckin white boys get things right next time\n",
      "The above testing comment is  89.42320476649786 % identity_hate\n"
     ]
    },
    {
     "data": {
      "image/png": "[encoded data removed]",
      "text/plain": [
       "<Figure size 432x288 with 1 Axes>"
      ]
     },
     "metadata": {},
     "output_type": "display_data"
    },
    {
     "name": "stdout",
     "output_type": "stream",
     "text": [
      "___________________________________________\n",
      "\n",
      "\n"
     ]
    }
   ],
   "source": [
    "LinearSVC_pipeline = Pipeline([\n",
    "                ('tfidf', TfidfVectorizer(stop_words=stop_words)),\n",
    "                ('clf', OneVsRestClassifier(CalibratedClassifierCV(base_estimator=LinearSVC(penalty='l2', dual=False), cv=5), n_jobs=1)),\n",
    "            ])\n",
    "for category in class_names:\n",
    "    print('Processing for ---- ',category)\n",
    "    # train the model using X_dtm & y\n",
    "    LinearSVC_pipeline.fit(X_train, train[category])\n",
    "    prediction = LinearSVC_pipeline.predict(X_test)\n",
    "    print (\"Following is the Classification report - \")\n",
    "    print(classification_report(test[category], prediction))\n",
    "    probabilities = LinearSVC_pipeline.predict_proba(testDataSet)\n",
    "    print (\"Testing Comment --- \", testDataSet[0] )\n",
    "    print (\"The above testing comment is \" ,probabilities[0][1] * 100,\"%\", category)\n",
    "    \n",
    "    fpr, tpr, thresholds = roc_curve(prediction, test[category])\n",
    "    roc_auc = auc(fpr, tpr)\n",
    "\n",
    "    plt.figure()\n",
    "    lw=1\n",
    "    plt.plot(fpr, tpr, color='darkorange', lw=1, label='ROC curve (area = %0.2f)' % roc_auc)\n",
    "    plt.plot([0, 1], [0, 1], color='navy', lw=lw, linestyle='--')\n",
    "    plt.xlim([0.0, 1.0])\n",
    "    plt.ylim([0.0, 1.05])\n",
    "    plt.xlabel('False Positive Rate')\n",
    "    plt.ylabel('True Positive Rate')\n",
    "    plt.title('Receiver operating characteristic')\n",
    "    plt.legend(loc=\"lower right\")\n",
    "    plt.show()\n",
    "    print (\"___________________________________________\")\n",
    "    print (\"\\n\")\n",
    "    "
   ]
  },
  {
   "cell_type": "code",
   "execution_count": 36,
   "metadata": {
    "scrolled": false
   },
   "outputs": [
    {
     "name": "stdout",
     "output_type": "stream",
     "text": [
      "Processing for --- toxic\n",
      "Following is the Classification report - \n",
      "             precision    recall  f1-score   support\n",
      "\n",
      "          0       0.88      0.98      0.92      1173\n",
      "          1       0.97      0.85      0.91      1123\n",
      "\n",
      "avg / total       0.92      0.92      0.92      2296\n",
      "\n",
      "Testing Comment ---  yo bitch ja rule is more succesful then you will ever be whats up with you and hating you sad mofuckas i should bitch slap ur pethedic white faces and get you to kiss my ass you guys sicken me ja rule is about pride in da music man dont diss that shit on him and nothin is wrong bein like tupac he was a brother too fuckin white boys get things right next time\n",
      "The above testing comment is  78.70221941295426 % toxic\n"
     ]
    },
    {
     "data": {
      "image/png": "[encoded data removed]",
      "text/plain": [
       "<Figure size 432x288 with 1 Axes>"
      ]
     },
     "metadata": {},
     "output_type": "display_data"
    },
    {
     "name": "stdout",
     "output_type": "stream",
     "text": [
      "___________________________________________\n",
      "\n",
      "\n",
      "Processing for --- severe_toxic\n",
      "Following is the Classification report - \n",
      "             precision    recall  f1-score   support\n",
      "\n",
      "          0       0.86      0.99      0.92      1916\n",
      "          1       0.78      0.16      0.27       380\n",
      "\n",
      "avg / total       0.84      0.85      0.81      2296\n",
      "\n",
      "Testing Comment ---  yo bitch ja rule is more succesful then you will ever be whats up with you and hating you sad mofuckas i should bitch slap ur pethedic white faces and get you to kiss my ass you guys sicken me ja rule is about pride in da music man dont diss that shit on him and nothin is wrong bein like tupac he was a brother too fuckin white boys get things right next time\n",
      "The above testing comment is  22.750304283584406 % severe_toxic\n"
     ]
    },
    {
     "data": {
      "image/png": "[encoded data removed]",
      "text/plain": [
       "<Figure size 432x288 with 1 Axes>"
      ]
     },
     "metadata": {},
     "output_type": "display_data"
    },
    {
     "name": "stdout",
     "output_type": "stream",
     "text": [
      "___________________________________________\n",
      "\n",
      "\n",
      "Processing for --- obscene\n",
      "Following is the Classification report - \n",
      "             precision    recall  f1-score   support\n",
      "\n",
      "          0       0.82      0.99      0.90      1429\n",
      "          1       0.98      0.63      0.77       867\n",
      "\n",
      "avg / total       0.88      0.86      0.85      2296\n",
      "\n",
      "Testing Comment ---  yo bitch ja rule is more succesful then you will ever be whats up with you and hating you sad mofuckas i should bitch slap ur pethedic white faces and get you to kiss my ass you guys sicken me ja rule is about pride in da music man dont diss that shit on him and nothin is wrong bein like tupac he was a brother too fuckin white boys get things right next time\n",
      "The above testing comment is  69.44597825912618 % obscene\n"
     ]
    },
    {
     "data": {
      "image/png": "[encoded data removed]",
      "text/plain": [
       "<Figure size 432x288 with 1 Axes>"
      ]
     },
     "metadata": {},
     "output_type": "display_data"
    },
    {
     "name": "stdout",
     "output_type": "stream",
     "text": [
      "___________________________________________\n",
      "\n",
      "\n",
      "Processing for --- threat\n",
      "Following is the Classification report - \n",
      "             precision    recall  f1-score   support\n",
      "\n",
      "          0       0.95      1.00      0.97      2172\n",
      "          1       1.00      0.01      0.02       124\n",
      "\n",
      "avg / total       0.95      0.95      0.92      2296\n",
      "\n",
      "Testing Comment ---  yo bitch ja rule is more succesful then you will ever be whats up with you and hating you sad mofuckas i should bitch slap ur pethedic white faces and get you to kiss my ass you guys sicken me ja rule is about pride in da music man dont diss that shit on him and nothin is wrong bein like tupac he was a brother too fuckin white boys get things right next time\n",
      "The above testing comment is  9.031973163069464 % threat\n"
     ]
    },
    {
     "data": {
      "image/png": "[encoded data removed]",
      "text/plain": [
       "<Figure size 432x288 with 1 Axes>"
      ]
     },
     "metadata": {},
     "output_type": "display_data"
    },
    {
     "name": "stdout",
     "output_type": "stream",
     "text": [
      "___________________________________________\n",
      "\n",
      "\n",
      "Processing for --- insult\n",
      "Following is the Classification report - \n",
      "             precision    recall  f1-score   support\n",
      "\n",
      "          0       0.79      0.97      0.87      1428\n",
      "          1       0.92      0.58      0.71       868\n",
      "\n",
      "avg / total       0.84      0.82      0.81      2296\n",
      "\n",
      "Testing Comment ---  yo bitch ja rule is more succesful then you will ever be whats up with you and hating you sad mofuckas i should bitch slap ur pethedic white faces and get you to kiss my ass you guys sicken me ja rule is about pride in da music man dont diss that shit on him and nothin is wrong bein like tupac he was a brother too fuckin white boys get things right next time\n",
      "The above testing comment is  66.98371762491193 % insult\n"
     ]
    },
    {
     "data": {
      "image/png": "[encoded data removed]",
      "text/plain": [
       "<Figure size 432x288 with 1 Axes>"
      ]
     },
     "metadata": {},
     "output_type": "display_data"
    },
    {
     "name": "stdout",
     "output_type": "stream",
     "text": [
      "___________________________________________\n",
      "\n",
      "\n",
      "Processing for --- identity_hate\n",
      "Following is the Classification report - \n",
      "             precision    recall  f1-score   support\n",
      "\n",
      "          0       0.87      1.00      0.93      1982\n",
      "          1       0.95      0.07      0.12       314\n",
      "\n",
      "avg / total       0.88      0.87      0.82      2296\n",
      "\n",
      "Testing Comment ---  yo bitch ja rule is more succesful then you will ever be whats up with you and hating you sad mofuckas i should bitch slap ur pethedic white faces and get you to kiss my ass you guys sicken me ja rule is about pride in da music man dont diss that shit on him and nothin is wrong bein like tupac he was a brother too fuckin white boys get things right next time\n",
      "The above testing comment is  26.573747406865206 % identity_hate\n"
     ]
    },
    {
     "data": {
      "image/png": "[encoded data removed]",
      "text/plain": [
       "<Figure size 432x288 with 1 Axes>"
      ]
     },
     "metadata": {},
     "output_type": "display_data"
    },
    {
     "name": "stdout",
     "output_type": "stream",
     "text": [
      "___________________________________________\n",
      "\n",
      "\n"
     ]
    }
   ],
   "source": [
    "Logistic_pipeline = Pipeline([\n",
    "                ('tfidf', TfidfVectorizer(stop_words=stop_words)),\n",
    "                ('clf', OneVsRestClassifier(LogisticRegression(C=0.1, solver='sag'), n_jobs=1)),\n",
    "            ])\n",
    "fpr = dict()\n",
    "tpr = dict()\n",
    "roc_auc = dict()\n",
    "for category in class_names:\n",
    "    print(\"Processing for ---\", category)\n",
    "    Logistic_pipeline.fit(X_train, train[category])\n",
    "    # compute the testing accuracy\n",
    "    prediction = Logistic_pipeline.predict(X_test)\n",
    "    print (\"Following is the Classification report - \")\n",
    "    print(classification_report(test[category], prediction))\n",
    "    probabilities = Logistic_pipeline.predict_proba(testDataSet)\n",
    "    print (\"Testing Comment --- \", testDataSet[0] )\n",
    "    print (\"The above testing comment is \" ,probabilities[0][1] * 100,\"%\", category)\n",
    "    fpr, tpr, thresholds = roc_curve(prediction, test[category])\n",
    "    roc_auc = auc(fpr, tpr)\n",
    "\n",
    "    plt.figure()\n",
    "    lw=1\n",
    "    plt.plot(fpr, tpr, color='darkorange', lw=1, label='ROC curve (area = %0.2f)' % roc_auc)\n",
    "    plt.plot([0, 1], [0, 1], color='navy', lw=lw, linestyle='--')\n",
    "    plt.xlim([0.0, 1.0])\n",
    "    plt.ylim([0.0, 1.05])\n",
    "    plt.xlabel('False Positive Rate')\n",
    "    plt.ylabel('True Positive Rate')\n",
    "    plt.title('Receiver operating characteristic')\n",
    "    plt.legend(loc=\"lower right\")\n",
    "    plt.show()\n",
    "    print (\"___________________________________________\")\n",
    "    print (\"\\n\")\n"
   ]
  },
  {
   "cell_type": "code",
   "execution_count": null,
   "metadata": {},
   "outputs": [],
   "source": []
  }
 ],
 "metadata": {
  "kernelspec": {
   "display_name": "Python 3",
   "language": "python",
   "name": "python3"
  },
  "language_info": {
   "codemirror_mode": {
    "name": "ipython",
    "version": 3
   },
   "file_extension": ".py",
   "mimetype": "text/x-python",
   "name": "python",
   "nbconvert_exporter": "python",
   "pygments_lexer": "ipython3",
   "version": "3.6.5"
  }
 },
 "nbformat": 4,
 "nbformat_minor": 1
}
