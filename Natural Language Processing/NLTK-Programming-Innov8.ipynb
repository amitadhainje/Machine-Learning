{
 "cells": [
  {
   "cell_type": "code",
   "execution_count": 32,
   "metadata": {
    "collapsed": true
   },
   "outputs": [],
   "source": [
    "import nltk"
   ]
  },
  {
   "cell_type": "code",
   "execution_count": 33,
   "metadata": {},
   "outputs": [
    {
     "data": {
      "text/plain": [
       "\"At eight o'clock on Thursday morning and evening\\nArthur didn't feel very good.\""
      ]
     },
     "execution_count": 33,
     "metadata": {},
     "output_type": "execute_result"
    }
   ],
   "source": [
    "sentence = \"\"\"At eight o'clock on Thursday morning and evening\n",
    "... Arthur didn't feel very good.\"\"\"\n",
    "sentence"
   ]
  },
  {
   "cell_type": "code",
   "execution_count": 34,
   "metadata": {},
   "outputs": [
    {
     "data": {
      "text/plain": [
       "['At',\n",
       " 'eight',\n",
       " \"o'clock\",\n",
       " 'on',\n",
       " 'Thursday',\n",
       " 'morning',\n",
       " 'and',\n",
       " 'evening',\n",
       " 'Arthur',\n",
       " 'did',\n",
       " \"n't\",\n",
       " 'feel',\n",
       " 'very',\n",
       " 'good',\n",
       " '.']"
      ]
     },
     "execution_count": 34,
     "metadata": {},
     "output_type": "execute_result"
    }
   ],
   "source": [
    "tokens = nltk.word_tokenize(sentence)\n",
    "tokens"
   ]
  },
  {
   "cell_type": "code",
   "execution_count": 35,
   "metadata": {},
   "outputs": [],
   "source": [
    "from nltk.book import *"
   ]
  },
  {
   "cell_type": "code",
   "execution_count": 36,
   "metadata": {
    "collapsed": true
   },
   "outputs": [],
   "source": [
    "from nltk.tokenize import word_tokenize, sent_tokenize"
   ]
  },
  {
   "cell_type": "code",
   "execution_count": 37,
   "metadata": {},
   "outputs": [
    {
     "data": {
      "text/plain": [
       "['Mary had a little lamb.', 'She is likes the lamb.']"
      ]
     },
     "execution_count": 37,
     "metadata": {},
     "output_type": "execute_result"
    }
   ],
   "source": [
    "sampleText = \"Mary had a little lamb. She is likes the lamb.\"\n",
    "requiredSents = sent_tokenize(sampleText)\n",
    "requiredSents"
   ]
  },
  {
   "cell_type": "code",
   "execution_count": 38,
   "metadata": {},
   "outputs": [
    {
     "data": {
      "text/plain": [
       "['Mary',\n",
       " 'had',\n",
       " 'a',\n",
       " 'little',\n",
       " 'lamb',\n",
       " '.',\n",
       " 'She',\n",
       " 'is',\n",
       " 'likes',\n",
       " 'the',\n",
       " 'lamb',\n",
       " '.']"
      ]
     },
     "execution_count": 38,
     "metadata": {},
     "output_type": "execute_result"
    }
   ],
   "source": [
    "requiredWords = word_tokenize(sampleText)\n",
    "requiredWords"
   ]
  },
  {
   "cell_type": "code",
   "execution_count": 39,
   "metadata": {
    "collapsed": true
   },
   "outputs": [],
   "source": [
    "import os"
   ]
  },
  {
   "cell_type": "code",
   "execution_count": 40,
   "metadata": {},
   "outputs": [
    {
     "data": {
      "text/plain": [
       "'C:\\\\Users\\\\user\\\\Desktop'"
      ]
     },
     "execution_count": 40,
     "metadata": {},
     "output_type": "execute_result"
    }
   ],
   "source": [
    "os.getcwd()"
   ]
  },
  {
   "cell_type": "code",
   "execution_count": 41,
   "metadata": {
    "collapsed": true
   },
   "outputs": [],
   "source": [
    "os.chdir('C:/Users/user/Desktop')"
   ]
  },
  {
   "cell_type": "code",
   "execution_count": 42,
   "metadata": {},
   "outputs": [
    {
     "data": {
      "text/plain": [
       "'C:\\\\Users\\\\user\\\\Desktop'"
      ]
     },
     "execution_count": 42,
     "metadata": {},
     "output_type": "execute_result"
    }
   ],
   "source": [
    "os.getcwd()"
   ]
  },
  {
   "cell_type": "code",
   "execution_count": 43,
   "metadata": {},
   "outputs": [
    {
     "name": "stdout",
     "output_type": "stream",
     "text": [
      " Volume in drive C has no label.\n",
      " Volume Serial Number is DCBA-281F\n",
      "\n",
      " Directory of C:\\Users\\user\\Desktop\n",
      "\n",
      "05/26/2018  03:26 PM    <DIR>          .\n",
      "05/26/2018  03:26 PM    <DIR>          ..\n",
      "05/20/2018  11:59 AM    <DIR>          akka\n",
      "04/27/2018  03:14 PM            27,884 Amita Ashok Dhainje - UpdatedResume.docx\n",
      "05/06/2018  10:20 PM            27,868 Amita Ashok Dhainje_UpdatedResume.docx\n",
      "05/15/2018  06:20 PM            20,977 AmitaDhainje_UpdatedResume.docx\n",
      "05/23/2018  01:31 PM           192,268 AmitaDhainje-AadharCard.jpg\n",
      "05/23/2018  01:32 PM           245,066 AmitaDhainje-PanCard.jpg\n",
      "05/23/2018  01:33 PM           450,169 AmitaDhainje-PassportCopy-1.jpg\n",
      "05/23/2018  01:32 PM           311,032 AmitaDhainje-PassportCopy-2.jpg\n",
      "07/23/2017  09:35 PM             1,823 Anaconda Navigator (2).lnk\n",
      "11/14/2017  07:27 AM           343,110 BeautyPlus_20171112103754_save.jpg\n",
      "05/12/2018  03:22 PM         1,557,737 crimedata.csv\n",
      "04/26/2018  01:18 PM         5,842,217 Data Science from Scratch- First Principles with Python.pdf\n",
      "04/26/2018  01:16 PM         6,216,449 Data Science from Scratch.pdf\n",
      "05/06/2018  10:20 PM    <DIR>          DesktopData\n",
      "04/02/2018  10:34 AM             4,301 DS1.arff\n",
      "10/15/2014  09:59 AM           104,413 heart.jpg\n",
      "11/19/2017  02:33 PM         3,370,175 IMG_2184.JPG\n",
      "11/19/2017  02:33 PM         4,797,817 IMG_2193.JPG\n",
      "11/19/2017  02:36 PM         1,430,382 IMG_2199.JPG\n",
      "03/05/2018  09:44 PM    <DIR>          Loan Details\n",
      "05/12/2018  06:21 PM            11,959 ML_MiniProjects.docx\n",
      "04/28/2018  10:48 AM         4,230,442 MLSALT4-AW2-models.pdf\n",
      "05/26/2018  02:55 PM            11,138 NLTK.docx\n",
      "05/26/2018  03:20 PM               320 nltk_mumbai.py\n",
      "04/27/2018  02:56 PM    <DIR>          NPTEL\n",
      "05/26/2018  03:26 PM               338 OurText.txt\n",
      "06/06/2015  06:44 PM               363 RecentPlaces.lnk\n",
      "05/07/2018  08:34 PM         1,536,530 svfx9r4helwy.png\n",
      "11/11/2014  08:04 PM           129,629 Untitled-1 copy.jpg\n",
      "05/16/2018  08:17 PM             1,878 Zoom.lnk\n",
      "              26 File(s)     30,866,285 bytes\n",
      "               6 Dir(s)  32,030,601,216 bytes free\n"
     ]
    }
   ],
   "source": [
    "ls"
   ]
  },
  {
   "cell_type": "code",
   "execution_count": 117,
   "metadata": {},
   "outputs": [
    {
     "data": {
      "text/plain": [
       "'The obscure definition of when a village is deemed to have electricity does little but to show that most of rural India still functions without power. In a move that must be encouraged, communities, especially in remote areas, have come up with a solution - harnessing non-conventional energy sources, says BUNKER ROY.\\nNO one knows precisely how many villages have electricity even after three decades of planning. Whatever figures are available through the Rural Electrification Corporation (REC) and the State Electricity Boards (SEBs) are unreliable. The Ministry of Power claims that 5,06,916 villages out of a total of 587,258 villages have been \"electrified\" by March 2000. Since no comprehensive professional survey has been conducted, it is an in house \"guess estimate\" by the REC and SEBs combined. Providing electricity through the grid system is a vital monopoly of the REC/SEBs, no one has bothered to carry out a village level survey. The planners have left it to the technocrats to provide a magic figure. Everyone with any knowledge of \"electrified\" villages knows it has been fabricated. But the arrogance with which the authorities refuse to provide correct figures in spite of repeated requests from other Ministries (like the Ministry of Non-Conventional Energy Sources - MNES) has to be experienced to be believed. But from the Planning Commission downwards they are a pampered lot because, till now, there were no alternatives.\\nAccording to the REC/SEBs, only 80,000 villages remain to be \"electrified\". \"High-powered\" committees and countless bureaucrats/technocrats put their heads together and agreed on a \"low powered\" definition of what an \"electrified village\" is - it borders on the farcical. A village is deemed \"electrified\" \"... if electricity is used in the inhabited locality within the revenue boundary of the village for any purpose whatsoever\".\\nThis suits the technocrat because if there is lighting or a well has power that village is considered \"electrified\" (on paper). This suits the politicians/planners because they can claim that 83.6 per cent of the villages have been \"electrified\". This suits the contractors who supply diesel generating sets, transmission lines, poles, wires, transformers and construct the power stations: they will be in endless demand and make criminal profits from it. Why? Because where greed and corruption play a more important part in decision making (than service and commitment), quality always suffers. The person most affected (who cares?) is the consumer who has to pay through his nose for power that never reaches his village, house, pumpset or industry.\\nThis obscure definition of what is deemed to be an \"electrified\" village has never been shared with village panchayats or the community at large. The reason offered by responsible senior technocrats is that this is a matter that is too technical. The other reason is that if this was made public and if \"ordinary\" people in the village, municipality and hamlets had read it, not only the REC/SEBs but also the Planning Commission would have been ridiculed for having accepted such an absurd definition.\\nToday there are alternatives to providing lighting in several thousand non-electrified villages. With the 73rd amendment of the Panchayati Raj Act (the technocrats have never heard of it) the 11th schedule has identified rural electrification as one of the responsibilities of a village panchayat. They have to be involved in the new definition of what is deemed an \"electrified\" village. Technocrats are stupid and outdated if they still think a man/woman in the village has no intelligence and common sense.\\nWhat is even more critical is their involvement in the survey to be conducted on the status of electrification in this country. They need to be consulted on the options available (solar, hydel, bio-gas, wind) and they have the right to choose. Just as war is too big an issue to be left to the generals, the issue of electricity and lighting is too critical an issue to be left to engineers and bureaucrats to decide. Where the communities have been involved from the very beginning in the planning and implementation process they have performed miracles. Over the last five years, adopting the \"barefoot\" approach to reaching solar lighting to remote non-electrified villages has yielded results.\\nRemote village communities which are not likely to receive conventional grid power over to the next 20 years have selected unemployed and unemployable boys and girls, who have barely done six to 10 years of schooling, to be trained as \"barefoot\" solar engineers. In villages in Jammu and Kashmir (Ladakh), Himachal Pradesh (Lahaul and Spiti), Bihar (Champaran), Madhya Pradesh (Jhabua), Assam (Kokrajhar), Sikkim (North Sikkim), and Uttaranchal (Pithoragarh) they are to be trained on how to fabricate, install, repair and maintain fixed solar units and solar lanterns without the help and assistance of any (paper qualified) solar engineer. Where the government has failed miserably to collect any revenue for providing power (before privatisation) people have willingly paid Rs. 20 to Rs. 100 a month for solar lighting systems.\\nRemember what Mahatma Gandhi said? \"India\\'s solution for the future is not mass production but production by the masses. He was referring to village and cottage industries, but this is equally applicable as far as lighting is concerned. The future does not lie in the centralised mass production of power and distribution where the community and end users are totally dependent on the engineer. The future lies in a decentralised system right down to the household level. Since the early 1990s, more than 1,500 remote houses in Ladakh are being repaired and maintained by 19 \"barefoot\" solar engineers. Every user willingly pays for the maintenance of the systems and the amount is decided in consultation with the village committee.\\nFor the remaining \"non-electrified\" villages in mountains, deserts, islands, tribal areas and coastal regions where the distance is more than 3 kilometres in the mountains and 5 km in the plains from the nearest grid covered \"electrified\" village, the only alternative is the use and wider application of non- conventional energy. The market rate of extending the grid to electrify villages ranges from Rs. 12 lakhs to Rs. 25 lakhs/kilometre depending on whether it is in the mountains or in the plains. This is taking into account the cost of wastage, poor quality construction, losses, corruption, over-staffing, pilferage and poor management.\\nWhile the potential for cost effective non-conventional alternatives is immense, the MNES is hopelessly unprepared for this challenge. I have interacted with them for over five years: I should know. A national dialogue on this issue should have been initiated by the MNES ages ago but they were quite satisfied with modest paragraphs being mentioned in Planning Commission documents about the need to expand the use of non-conventional energy. When vision and aggressive lobbying was required by the MNES it did not feel the urgency of conveying such a crucial message. It was the outcome of some personal lobbying that finally resulted in the establishment of a working group in the Planning Commission to study the cost effectiveness of non- conventional energy for the electrification of the remaining non- electrified villages. The working group was established in November 1999. A summary of the conclusions of the draft report is to be circulated for wider discussion and reaction.\\nThe MNES lacks leadership today. It is a ministry that has been hijacked by technocrats who still believe that the answer to electrification is improved and better technology. It does not believe in demystification and handing over the control, the fabrication, the installation, the repair and the maintenance to the rural community. Where the potential for electrifying villages by solar photovoltaics is by far the greatest, the suspicion is the most against community based organisations. It is for this reason that funds are not released in time. There is mistrust and they are guilty until they prove their innocence. With a mindset like this, how can the MNES tackle the vast and exciting challenge facing it today? There are graveyards of street lighting systems all over the country that convey a sorry picture because the MNES thinks that providing technology is enough.\\nBy using the \"barefoot\" approach and following the decentralised village focussed system of providing lighting, there is a potential of providing 50,000 unemployed poor rural youth jobs - to install, repair and maintain solar home lighting systems. Each of these non-electrified villages could be self-sufficient.\\nBut the role of various stakeholders has to be fully understood. This includes the role of government, financial institutions, village panchayats and community based organisations. The thrust should be towards decentralisation in the village even at the household level as in the six States with financial support from the United Nations Development Programme (UNDP) and the European Union. With a subsidy for home lighting systems and the solar lanterns from the MNES, the combination can bring down the cost of a solar lantern to Rs. 1,800 and fixed home lighting systems to Rs. 7,000. It should be possible to buy it off the shelf with a two-year guarantee for solar lanterns and a seven-year guarantee for fixed systems. This is possible at the village level.\\nAt this cost it should be possible to replace the 100 million kerosene lamps in remote villages that use fossil fuels and pollute the environment. The marketing outlets of private entrepreneurs, business houses and cooperatives could be mobilised to achieve this. Given enough tax incentives, the possibility of franchising vast areas of non-electrified villages to organisations with the capacity to do so (community based organisations, business houses, cooperatives and trade unions) is well within our reach.\\nIt could be achieved within a decade. What needs to be done is to carve out an organisation from within an existing organisation with a mandate to carry out this task in a professional manner. There are rumours that the MNES thinks it has the capacity to carry out this task. It does not have the vision, the institutional building capacity, the skills to deal with village communities, the openness to interact with private entrepreneurs and alas, the credibility to deliver and deal with the various stakeholders it has worked with in the past.\\nObviously a political decision at a higher level needs to be taken. A meeting needs to be called with the Deputy Chairman, Planning Commission with the Ministry of Power, the Council for People\\'s Action in the Advancement of Rural Technology (CAPART), the Ministry of Rural Development, the MNES and the REC/SEBs to take a collective decision in a transparent manner. As I said it is too big an issue to be taken by bureaucrats/ technocrats alone. The community of users, (Gandhiji\\'s Last Man) must have the last word.'"
      ]
     },
     "execution_count": 117,
     "metadata": {},
     "output_type": "execute_result"
    }
   ],
   "source": [
    "requiredText = open('OurText.txt','r').read()\n",
    "requiredText"
   ]
  },
  {
   "cell_type": "code",
   "execution_count": 118,
   "metadata": {},
   "outputs": [],
   "source": [
    "reqTokens = nltk.word_tokenize(requiredText)\n",
    "reqSentences = nltk.sent_tokenize(requiredText)\n"
   ]
  },
  {
   "cell_type": "code",
   "execution_count": 119,
   "metadata": {
    "scrolled": false
   },
   "outputs": [
    {
     "name": "stdout",
     "output_type": "stream",
     "text": [
      "['The', 'obscure', 'definition', 'of', 'when', 'a', 'village', 'is', 'deemed', 'to', 'have', 'electricity', 'does', 'little', 'but', 'to', 'show', 'that', 'most', 'of', 'rural', 'India', 'still', 'functions', 'without', 'power', '.', 'In', 'a', 'move', 'that', 'must', 'be', 'encouraged', ',', 'communities', ',', 'especially', 'in', 'remote', 'areas', ',', 'have', 'come', 'up', 'with', 'a', 'solution', '-', 'harnessing', 'non-conventional', 'energy', 'sources', ',', 'says', 'BUNKER', 'ROY', '.', 'NO', 'one', 'knows', 'precisely', 'how', 'many', 'villages', 'have', 'electricity', 'even', 'after', 'three', 'decades', 'of', 'planning', '.', 'Whatever', 'figures', 'are', 'available', 'through', 'the', 'Rural', 'Electrification', 'Corporation', '(', 'REC', ')', 'and', 'the', 'State', 'Electricity', 'Boards', '(', 'SEBs', ')', 'are', 'unreliable', '.', 'The', 'Ministry', 'of', 'Power', 'claims', 'that', '5,06,916', 'villages', 'out', 'of', 'a', 'total', 'of', '587,258', 'villages', 'have', 'been', '``', 'electrified', \"''\", 'by', 'March', '2000', '.', 'Since', 'no', 'comprehensive', 'professional', 'survey', 'has', 'been', 'conducted', ',', 'it', 'is', 'an', 'in', 'house', '``', 'guess', 'estimate', \"''\", 'by', 'the', 'REC', 'and', 'SEBs', 'combined', '.', 'Providing', 'electricity', 'through', 'the', 'grid', 'system', 'is', 'a', 'vital', 'monopoly', 'of', 'the', 'REC/SEBs', ',', 'no', 'one', 'has', 'bothered', 'to', 'carry', 'out', 'a', 'village', 'level', 'survey', '.', 'The', 'planners', 'have', 'left', 'it', 'to', 'the', 'technocrats', 'to', 'provide', 'a', 'magic', 'figure', '.', 'Everyone', 'with', 'any', 'knowledge', 'of', '``', 'electrified', \"''\", 'villages', 'knows', 'it', 'has', 'been', 'fabricated', '.', 'But', 'the', 'arrogance', 'with', 'which', 'the', 'authorities', 'refuse', 'to', 'provide', 'correct', 'figures', 'in', 'spite', 'of', 'repeated', 'requests', 'from', 'other', 'Ministries', '(', 'like', 'the', 'Ministry', 'of', 'Non-Conventional', 'Energy', 'Sources', '-', 'MNES', ')', 'has', 'to', 'be', 'experienced', 'to', 'be', 'believed', '.', 'But', 'from', 'the', 'Planning', 'Commission', 'downwards', 'they', 'are', 'a', 'pampered', 'lot', 'because', ',', 'till', 'now', ',', 'there', 'were', 'no', 'alternatives', '.', 'According', 'to', 'the', 'REC/SEBs', ',', 'only', '80,000', 'villages', 'remain', 'to', 'be', '``', 'electrified', \"''\", '.', '``', 'High-powered', \"''\", 'committees', 'and', 'countless', 'bureaucrats/technocrats', 'put', 'their', 'heads', 'together', 'and', 'agreed', 'on', 'a', '``', 'low', 'powered', \"''\", 'definition', 'of', 'what', 'an', '``', 'electrified', 'village', \"''\", 'is', '-', 'it', 'borders', 'on', 'the', 'farcical', '.', 'A', 'village', 'is', 'deemed', '``', 'electrified', \"''\", '``', '...', 'if', 'electricity', 'is', 'used', 'in', 'the', 'inhabited', 'locality', 'within', 'the', 'revenue', 'boundary', 'of', 'the', 'village', 'for', 'any', 'purpose', 'whatsoever', \"''\", '.', 'This', 'suits', 'the', 'technocrat', 'because', 'if', 'there', 'is', 'lighting', 'or', 'a', 'well', 'has', 'power', 'that', 'village', 'is', 'considered', '``', 'electrified', \"''\", '(', 'on', 'paper', ')', '.', 'This', 'suits', 'the', 'politicians/planners', 'because', 'they', 'can', 'claim', 'that', '83.6', 'per', 'cent', 'of', 'the', 'villages', 'have', 'been', '``', 'electrified', \"''\", '.', 'This', 'suits', 'the', 'contractors', 'who', 'supply', 'diesel', 'generating', 'sets', ',', 'transmission', 'lines', ',', 'poles', ',', 'wires', ',', 'transformers', 'and', 'construct', 'the', 'power', 'stations', ':', 'they', 'will', 'be', 'in', 'endless', 'demand', 'and', 'make', 'criminal', 'profits', 'from', 'it', '.', 'Why', '?', 'Because', 'where', 'greed', 'and', 'corruption', 'play', 'a', 'more', 'important', 'part', 'in', 'decision', 'making', '(', 'than', 'service', 'and', 'commitment', ')', ',', 'quality', 'always', 'suffers', '.', 'The', 'person', 'most', 'affected', '(', 'who', 'cares', '?', ')', 'is', 'the', 'consumer', 'who', 'has', 'to', 'pay', 'through', 'his', 'nose', 'for', 'power', 'that', 'never', 'reaches', 'his', 'village', ',', 'house', ',', 'pumpset', 'or', 'industry', '.', 'This', 'obscure', 'definition', 'of', 'what', 'is', 'deemed', 'to', 'be', 'an', '``', 'electrified', \"''\", 'village', 'has', 'never', 'been', 'shared', 'with', 'village', 'panchayats', 'or', 'the', 'community', 'at', 'large', '.', 'The', 'reason', 'offered', 'by', 'responsible', 'senior', 'technocrats', 'is', 'that', 'this', 'is', 'a', 'matter', 'that', 'is', 'too', 'technical', '.', 'The', 'other', 'reason', 'is', 'that', 'if', 'this', 'was', 'made', 'public', 'and', 'if', '``', 'ordinary', \"''\", 'people', 'in', 'the', 'village', ',', 'municipality', 'and', 'hamlets', 'had', 'read', 'it', ',', 'not', 'only', 'the', 'REC/SEBs', 'but', 'also', 'the', 'Planning', 'Commission', 'would', 'have', 'been', 'ridiculed', 'for', 'having', 'accepted', 'such', 'an', 'absurd', 'definition', '.', 'Today', 'there', 'are', 'alternatives', 'to', 'providing', 'lighting', 'in', 'several', 'thousand', 'non-electrified', 'villages', '.', 'With', 'the', '73rd', 'amendment', 'of', 'the', 'Panchayati', 'Raj', 'Act', '(', 'the', 'technocrats', 'have', 'never', 'heard', 'of', 'it', ')', 'the', '11th', 'schedule', 'has', 'identified', 'rural', 'electrification', 'as', 'one', 'of', 'the', 'responsibilities', 'of', 'a', 'village', 'panchayat', '.', 'They', 'have', 'to', 'be', 'involved', 'in', 'the', 'new', 'definition', 'of', 'what', 'is', 'deemed', 'an', '``', 'electrified', \"''\", 'village', '.', 'Technocrats', 'are', 'stupid', 'and', 'outdated', 'if', 'they', 'still', 'think', 'a', 'man/woman', 'in', 'the', 'village', 'has', 'no', 'intelligence', 'and', 'common', 'sense', '.', 'What', 'is', 'even', 'more', 'critical', 'is', 'their', 'involvement', 'in', 'the', 'survey', 'to', 'be', 'conducted', 'on', 'the', 'status', 'of', 'electrification', 'in', 'this', 'country', '.', 'They', 'need', 'to', 'be', 'consulted', 'on', 'the', 'options', 'available', '(', 'solar', ',', 'hydel', ',', 'bio-gas', ',', 'wind', ')', 'and', 'they', 'have', 'the', 'right', 'to', 'choose', '.', 'Just', 'as', 'war', 'is', 'too', 'big', 'an', 'issue', 'to', 'be', 'left', 'to', 'the', 'generals', ',', 'the', 'issue', 'of', 'electricity', 'and', 'lighting', 'is', 'too', 'critical', 'an', 'issue', 'to', 'be', 'left', 'to', 'engineers', 'and', 'bureaucrats', 'to', 'decide', '.', 'Where', 'the', 'communities', 'have', 'been', 'involved', 'from', 'the', 'very', 'beginning', 'in', 'the', 'planning', 'and', 'implementation', 'process', 'they', 'have', 'performed', 'miracles', '.', 'Over', 'the', 'last', 'five', 'years', ',', 'adopting', 'the', '``', 'barefoot', \"''\", 'approach', 'to', 'reaching', 'solar', 'lighting', 'to', 'remote', 'non-electrified', 'villages', 'has', 'yielded', 'results', '.', 'Remote', 'village', 'communities', 'which', 'are', 'not', 'likely', 'to', 'receive', 'conventional', 'grid', 'power', 'over', 'to', 'the', 'next', '20', 'years', 'have', 'selected', 'unemployed', 'and', 'unemployable', 'boys', 'and', 'girls', ',', 'who', 'have', 'barely', 'done', 'six', 'to', '10', 'years', 'of', 'schooling', ',', 'to', 'be', 'trained', 'as', '``', 'barefoot', \"''\", 'solar', 'engineers', '.', 'In', 'villages', 'in', 'Jammu', 'and', 'Kashmir', '(', 'Ladakh', ')', ',', 'Himachal', 'Pradesh', '(', 'Lahaul', 'and', 'Spiti', ')', ',', 'Bihar', '(', 'Champaran', ')', ',', 'Madhya', 'Pradesh', '(', 'Jhabua', ')', ',', 'Assam', '(', 'Kokrajhar', ')', ',', 'Sikkim', '(', 'North', 'Sikkim', ')', ',', 'and', 'Uttaranchal', '(', 'Pithoragarh', ')', 'they', 'are', 'to', 'be', 'trained', 'on', 'how', 'to', 'fabricate', ',', 'install', ',', 'repair', 'and', 'maintain', 'fixed', 'solar', 'units', 'and', 'solar', 'lanterns', 'without', 'the', 'help', 'and', 'assistance', 'of', 'any', '(', 'paper', 'qualified', ')', 'solar', 'engineer', '.', 'Where', 'the', 'government', 'has', 'failed', 'miserably', 'to', 'collect', 'any', 'revenue', 'for', 'providing', 'power', '(', 'before', 'privatisation', ')', 'people', 'have', 'willingly', 'paid', 'Rs', '.', '20', 'to', 'Rs', '.', '100', 'a', 'month', 'for', 'solar', 'lighting', 'systems', '.', 'Remember', 'what', 'Mahatma', 'Gandhi', 'said', '?', '``', 'India', \"'s\", 'solution', 'for', 'the', 'future', 'is', 'not', 'mass', 'production', 'but', 'production', 'by', 'the', 'masses', '.', 'He', 'was', 'referring', 'to', 'village', 'and', 'cottage', 'industries', ',', 'but', 'this', 'is', 'equally', 'applicable', 'as', 'far', 'as', 'lighting', 'is', 'concerned', '.', 'The', 'future', 'does', 'not', 'lie', 'in', 'the', 'centralised', 'mass', 'production', 'of', 'power', 'and', 'distribution', 'where', 'the', 'community', 'and', 'end', 'users', 'are', 'totally', 'dependent', 'on', 'the', 'engineer', '.', 'The', 'future', 'lies', 'in', 'a', 'decentralised', 'system', 'right', 'down', 'to', 'the', 'household', 'level', '.', 'Since', 'the', 'early', '1990s', ',', 'more', 'than', '1,500', 'remote', 'houses', 'in', 'Ladakh', 'are', 'being', 'repaired', 'and', 'maintained', 'by', '19', '``', 'barefoot', \"''\", 'solar', 'engineers', '.', 'Every', 'user', 'willingly', 'pays', 'for', 'the', 'maintenance', 'of', 'the', 'systems', 'and', 'the', 'amount', 'is', 'decided', 'in', 'consultation', 'with', 'the', 'village', 'committee', '.', 'For', 'the', 'remaining', '``', 'non-electrified', \"''\", 'villages', 'in', 'mountains', ',', 'deserts', ',', 'islands', ',', 'tribal', 'areas', 'and', 'coastal', 'regions', 'where', 'the', 'distance', 'is', 'more', 'than', '3', 'kilometres', 'in', 'the', 'mountains', 'and', '5', 'km', 'in', 'the', 'plains', 'from', 'the', 'nearest', 'grid', 'covered', '``', 'electrified', \"''\", 'village', ',', 'the', 'only', 'alternative', 'is', 'the', 'use', 'and', 'wider', 'application', 'of', 'non-', 'conventional', 'energy', '.', 'The', 'market', 'rate', 'of', 'extending', 'the', 'grid', 'to', 'electrify', 'villages', 'ranges', 'from', 'Rs', '.', '12', 'lakhs', 'to', 'Rs', '.', '25', 'lakhs/kilometre', 'depending', 'on', 'whether', 'it', 'is', 'in', 'the', 'mountains', 'or', 'in', 'the', 'plains', '.', 'This', 'is', 'taking', 'into', 'account', 'the', 'cost', 'of', 'wastage', ',', 'poor', 'quality', 'construction', ',', 'losses', ',', 'corruption', ',', 'over-staffing', ',', 'pilferage', 'and', 'poor', 'management', '.', 'While', 'the', 'potential', 'for', 'cost', 'effective', 'non-conventional', 'alternatives', 'is', 'immense', ',', 'the', 'MNES', 'is', 'hopelessly', 'unprepared', 'for', 'this', 'challenge', '.', 'I', 'have', 'interacted', 'with', 'them', 'for', 'over', 'five', 'years', ':', 'I', 'should', 'know', '.', 'A', 'national', 'dialogue', 'on', 'this', 'issue', 'should', 'have', 'been', 'initiated', 'by', 'the', 'MNES', 'ages', 'ago', 'but', 'they', 'were', 'quite', 'satisfied', 'with', 'modest', 'paragraphs', 'being', 'mentioned', 'in', 'Planning', 'Commission', 'documents', 'about', 'the', 'need', 'to', 'expand', 'the', 'use', 'of', 'non-conventional', 'energy', '.', 'When', 'vision', 'and', 'aggressive', 'lobbying', 'was', 'required', 'by', 'the', 'MNES', 'it', 'did', 'not', 'feel', 'the', 'urgency', 'of', 'conveying', 'such', 'a', 'crucial', 'message', '.', 'It', 'was', 'the', 'outcome', 'of', 'some', 'personal', 'lobbying', 'that', 'finally', 'resulted', 'in', 'the', 'establishment', 'of', 'a', 'working', 'group', 'in', 'the', 'Planning', 'Commission', 'to', 'study', 'the', 'cost', 'effectiveness', 'of', 'non-', 'conventional', 'energy', 'for', 'the', 'electrification', 'of', 'the', 'remaining', 'non-', 'electrified', 'villages', '.', 'The', 'working', 'group', 'was', 'established', 'in', 'November', '1999', '.', 'A', 'summary', 'of', 'the', 'conclusions', 'of', 'the', 'draft', 'report', 'is', 'to', 'be', 'circulated', 'for', 'wider', 'discussion', 'and', 'reaction', '.', 'The', 'MNES', 'lacks', 'leadership', 'today', '.', 'It', 'is', 'a', 'ministry', 'that', 'has', 'been', 'hijacked', 'by', 'technocrats', 'who', 'still', 'believe', 'that', 'the', 'answer', 'to', 'electrification', 'is', 'improved', 'and', 'better', 'technology', '.', 'It', 'does', 'not', 'believe', 'in', 'demystification', 'and', 'handing', 'over', 'the', 'control', ',', 'the', 'fabrication', ',', 'the', 'installation', ',', 'the', 'repair', 'and', 'the', 'maintenance', 'to', 'the', 'rural', 'community', '.', 'Where', 'the', 'potential', 'for', 'electrifying', 'villages', 'by', 'solar', 'photovoltaics', 'is', 'by', 'far', 'the', 'greatest', ',', 'the', 'suspicion', 'is', 'the', 'most', 'against', 'community', 'based', 'organisations', '.', 'It', 'is', 'for', 'this', 'reason', 'that', 'funds', 'are', 'not', 'released', 'in', 'time', '.', 'There', 'is', 'mistrust', 'and', 'they', 'are', 'guilty', 'until', 'they', 'prove', 'their', 'innocence', '.', 'With', 'a', 'mindset', 'like', 'this', ',', 'how', 'can', 'the', 'MNES', 'tackle', 'the', 'vast', 'and', 'exciting', 'challenge', 'facing', 'it', 'today', '?', 'There', 'are', 'graveyards', 'of', 'street', 'lighting', 'systems', 'all', 'over', 'the', 'country', 'that', 'convey', 'a', 'sorry', 'picture', 'because', 'the', 'MNES', 'thinks', 'that', 'providing', 'technology', 'is', 'enough', '.', 'By', 'using', 'the', '``', 'barefoot', \"''\", 'approach', 'and', 'following', 'the', 'decentralised', 'village', 'focussed', 'system', 'of', 'providing', 'lighting', ',', 'there', 'is', 'a', 'potential', 'of', 'providing', '50,000', 'unemployed', 'poor', 'rural', 'youth', 'jobs', '-', 'to', 'install', ',', 'repair', 'and', 'maintain', 'solar', 'home', 'lighting', 'systems', '.', 'Each', 'of', 'these', 'non-electrified', 'villages', 'could', 'be', 'self-sufficient', '.', 'But', 'the', 'role', 'of', 'various', 'stakeholders', 'has', 'to', 'be', 'fully', 'understood', '.', 'This', 'includes', 'the', 'role', 'of', 'government', ',', 'financial', 'institutions', ',', 'village', 'panchayats', 'and', 'community', 'based', 'organisations', '.', 'The', 'thrust', 'should', 'be', 'towards', 'decentralisation', 'in', 'the', 'village', 'even', 'at', 'the', 'household', 'level', 'as', 'in', 'the', 'six', 'States', 'with', 'financial', 'support', 'from', 'the', 'United', 'Nations', 'Development', 'Programme', '(', 'UNDP', ')', 'and', 'the', 'European', 'Union', '.', 'With', 'a', 'subsidy', 'for', 'home', 'lighting', 'systems', 'and', 'the', 'solar', 'lanterns', 'from', 'the', 'MNES', ',', 'the', 'combination', 'can', 'bring', 'down', 'the', 'cost', 'of', 'a', 'solar', 'lantern', 'to', 'Rs', '.', '1,800', 'and', 'fixed', 'home', 'lighting', 'systems', 'to', 'Rs', '.', '7,000', '.', 'It', 'should', 'be', 'possible', 'to', 'buy', 'it', 'off', 'the', 'shelf', 'with', 'a', 'two-year', 'guarantee', 'for', 'solar', 'lanterns', 'and', 'a', 'seven-year', 'guarantee', 'for', 'fixed', 'systems', '.', 'This', 'is', 'possible', 'at', 'the', 'village', 'level', '.', 'At', 'this', 'cost', 'it', 'should', 'be', 'possible', 'to', 'replace', 'the', '100', 'million', 'kerosene', 'lamps', 'in', 'remote', 'villages', 'that', 'use', 'fossil', 'fuels', 'and', 'pollute', 'the', 'environment', '.', 'The', 'marketing', 'outlets', 'of', 'private', 'entrepreneurs', ',', 'business', 'houses', 'and', 'cooperatives', 'could', 'be', 'mobilised', 'to', 'achieve', 'this', '.', 'Given', 'enough', 'tax', 'incentives', ',', 'the', 'possibility', 'of', 'franchising', 'vast', 'areas', 'of', 'non-electrified', 'villages', 'to', 'organisations', 'with', 'the', 'capacity', 'to', 'do', 'so', '(', 'community', 'based', 'organisations', ',', 'business', 'houses', ',', 'cooperatives', 'and', 'trade', 'unions', ')', 'is', 'well', 'within', 'our', 'reach', '.', 'It', 'could', 'be', 'achieved', 'within', 'a', 'decade', '.', 'What', 'needs', 'to', 'be', 'done', 'is', 'to', 'carve', 'out', 'an', 'organisation', 'from', 'within', 'an', 'existing', 'organisation', 'with', 'a', 'mandate', 'to', 'carry', 'out', 'this', 'task', 'in', 'a', 'professional', 'manner', '.', 'There', 'are', 'rumours', 'that', 'the', 'MNES', 'thinks', 'it', 'has', 'the', 'capacity', 'to', 'carry', 'out', 'this', 'task', '.', 'It', 'does', 'not', 'have', 'the', 'vision', ',', 'the', 'institutional', 'building', 'capacity', ',', 'the', 'skills', 'to', 'deal', 'with', 'village', 'communities', ',', 'the', 'openness', 'to', 'interact', 'with', 'private', 'entrepreneurs', 'and', 'alas', ',', 'the', 'credibility', 'to', 'deliver', 'and', 'deal', 'with', 'the', 'various', 'stakeholders', 'it', 'has', 'worked', 'with', 'in', 'the', 'past', '.', 'Obviously', 'a', 'political', 'decision', 'at', 'a', 'higher', 'level', 'needs', 'to', 'be', 'taken', '.', 'A', 'meeting', 'needs', 'to', 'be', 'called', 'with', 'the', 'Deputy', 'Chairman', ',', 'Planning', 'Commission', 'with', 'the', 'Ministry', 'of', 'Power', ',', 'the', 'Council', 'for', 'People', \"'s\", 'Action', 'in', 'the', 'Advancement', 'of', 'Rural', 'Technology', '(', 'CAPART', ')', ',', 'the', 'Ministry', 'of', 'Rural', 'Development', ',', 'the', 'MNES', 'and', 'the', 'REC/SEBs', 'to', 'take', 'a', 'collective', 'decision', 'in', 'a', 'transparent', 'manner', '.', 'As', 'I', 'said', 'it', 'is', 'too', 'big', 'an', 'issue', 'to', 'be', 'taken', 'by', 'bureaucrats/', 'technocrats', 'alone', '.', 'The', 'community', 'of', 'users', ',', '(', 'Gandhiji', \"'s\", 'Last', 'Man', ')', 'must', 'have', 'the', 'last', 'word', '.']\n",
      "['The obscure definition of when a village is deemed to have electricity does little but to show that most of rural India still functions without power.', 'In a move that must be encouraged, communities, especially in remote areas, have come up with a solution - harnessing non-conventional energy sources, says BUNKER ROY.', 'NO one knows precisely how many villages have electricity even after three decades of planning.', 'Whatever figures are available through the Rural Electrification Corporation (REC) and the State Electricity Boards (SEBs) are unreliable.', 'The Ministry of Power claims that 5,06,916 villages out of a total of 587,258 villages have been \"electrified\" by March 2000.', 'Since no comprehensive professional survey has been conducted, it is an in house \"guess estimate\" by the REC and SEBs combined.', 'Providing electricity through the grid system is a vital monopoly of the REC/SEBs, no one has bothered to carry out a village level survey.', 'The planners have left it to the technocrats to provide a magic figure.', 'Everyone with any knowledge of \"electrified\" villages knows it has been fabricated.', 'But the arrogance with which the authorities refuse to provide correct figures in spite of repeated requests from other Ministries (like the Ministry of Non-Conventional Energy Sources - MNES) has to be experienced to be believed.', 'But from the Planning Commission downwards they are a pampered lot because, till now, there were no alternatives.', 'According to the REC/SEBs, only 80,000 villages remain to be \"electrified\".', '\"High-powered\" committees and countless bureaucrats/technocrats put their heads together and agreed on a \"low powered\" definition of what an \"electrified village\" is - it borders on the farcical.', 'A village is deemed \"electrified\" \"... if electricity is used in the inhabited locality within the revenue boundary of the village for any purpose whatsoever\".', 'This suits the technocrat because if there is lighting or a well has power that village is considered \"electrified\" (on paper).', 'This suits the politicians/planners because they can claim that 83.6 per cent of the villages have been \"electrified\".', 'This suits the contractors who supply diesel generating sets, transmission lines, poles, wires, transformers and construct the power stations: they will be in endless demand and make criminal profits from it.', 'Why?', 'Because where greed and corruption play a more important part in decision making (than service and commitment), quality always suffers.', 'The person most affected (who cares?)', 'is the consumer who has to pay through his nose for power that never reaches his village, house, pumpset or industry.', 'This obscure definition of what is deemed to be an \"electrified\" village has never been shared with village panchayats or the community at large.', 'The reason offered by responsible senior technocrats is that this is a matter that is too technical.', 'The other reason is that if this was made public and if \"ordinary\" people in the village, municipality and hamlets had read it, not only the REC/SEBs but also the Planning Commission would have been ridiculed for having accepted such an absurd definition.', 'Today there are alternatives to providing lighting in several thousand non-electrified villages.', 'With the 73rd amendment of the Panchayati Raj Act (the technocrats have never heard of it) the 11th schedule has identified rural electrification as one of the responsibilities of a village panchayat.', 'They have to be involved in the new definition of what is deemed an \"electrified\" village.', 'Technocrats are stupid and outdated if they still think a man/woman in the village has no intelligence and common sense.', 'What is even more critical is their involvement in the survey to be conducted on the status of electrification in this country.', 'They need to be consulted on the options available (solar, hydel, bio-gas, wind) and they have the right to choose.', 'Just as war is too big an issue to be left to the generals, the issue of electricity and lighting is too critical an issue to be left to engineers and bureaucrats to decide.', 'Where the communities have been involved from the very beginning in the planning and implementation process they have performed miracles.', 'Over the last five years, adopting the \"barefoot\" approach to reaching solar lighting to remote non-electrified villages has yielded results.', 'Remote village communities which are not likely to receive conventional grid power over to the next 20 years have selected unemployed and unemployable boys and girls, who have barely done six to 10 years of schooling, to be trained as \"barefoot\" solar engineers.', 'In villages in Jammu and Kashmir (Ladakh), Himachal Pradesh (Lahaul and Spiti), Bihar (Champaran), Madhya Pradesh (Jhabua), Assam (Kokrajhar), Sikkim (North Sikkim), and Uttaranchal (Pithoragarh) they are to be trained on how to fabricate, install, repair and maintain fixed solar units and solar lanterns without the help and assistance of any (paper qualified) solar engineer.', 'Where the government has failed miserably to collect any revenue for providing power (before privatisation) people have willingly paid Rs.', '20 to Rs.', '100 a month for solar lighting systems.', 'Remember what Mahatma Gandhi said?', '\"India\\'s solution for the future is not mass production but production by the masses.', 'He was referring to village and cottage industries, but this is equally applicable as far as lighting is concerned.', 'The future does not lie in the centralised mass production of power and distribution where the community and end users are totally dependent on the engineer.', 'The future lies in a decentralised system right down to the household level.', 'Since the early 1990s, more than 1,500 remote houses in Ladakh are being repaired and maintained by 19 \"barefoot\" solar engineers.', 'Every user willingly pays for the maintenance of the systems and the amount is decided in consultation with the village committee.', 'For the remaining \"non-electrified\" villages in mountains, deserts, islands, tribal areas and coastal regions where the distance is more than 3 kilometres in the mountains and 5 km in the plains from the nearest grid covered \"electrified\" village, the only alternative is the use and wider application of non- conventional energy.', 'The market rate of extending the grid to electrify villages ranges from Rs.', '12 lakhs to Rs.', '25 lakhs/kilometre depending on whether it is in the mountains or in the plains.', 'This is taking into account the cost of wastage, poor quality construction, losses, corruption, over-staffing, pilferage and poor management.', 'While the potential for cost effective non-conventional alternatives is immense, the MNES is hopelessly unprepared for this challenge.', 'I have interacted with them for over five years: I should know.', 'A national dialogue on this issue should have been initiated by the MNES ages ago but they were quite satisfied with modest paragraphs being mentioned in Planning Commission documents about the need to expand the use of non-conventional energy.', 'When vision and aggressive lobbying was required by the MNES it did not feel the urgency of conveying such a crucial message.', 'It was the outcome of some personal lobbying that finally resulted in the establishment of a working group in the Planning Commission to study the cost effectiveness of non- conventional energy for the electrification of the remaining non- electrified villages.', 'The working group was established in November 1999.', 'A summary of the conclusions of the draft report is to be circulated for wider discussion and reaction.', 'The MNES lacks leadership today.', 'It is a ministry that has been hijacked by technocrats who still believe that the answer to electrification is improved and better technology.', 'It does not believe in demystification and handing over the control, the fabrication, the installation, the repair and the maintenance to the rural community.', 'Where the potential for electrifying villages by solar photovoltaics is by far the greatest, the suspicion is the most against community based organisations.', 'It is for this reason that funds are not released in time.', 'There is mistrust and they are guilty until they prove their innocence.', 'With a mindset like this, how can the MNES tackle the vast and exciting challenge facing it today?', 'There are graveyards of street lighting systems all over the country that convey a sorry picture because the MNES thinks that providing technology is enough.', 'By using the \"barefoot\" approach and following the decentralised village focussed system of providing lighting, there is a potential of providing 50,000 unemployed poor rural youth jobs - to install, repair and maintain solar home lighting systems.', 'Each of these non-electrified villages could be self-sufficient.', 'But the role of various stakeholders has to be fully understood.', 'This includes the role of government, financial institutions, village panchayats and community based organisations.', 'The thrust should be towards decentralisation in the village even at the household level as in the six States with financial support from the United Nations Development Programme (UNDP) and the European Union.', 'With a subsidy for home lighting systems and the solar lanterns from the MNES, the combination can bring down the cost of a solar lantern to Rs.', '1,800 and fixed home lighting systems to Rs.', '7,000.', 'It should be possible to buy it off the shelf with a two-year guarantee for solar lanterns and a seven-year guarantee for fixed systems.', 'This is possible at the village level.', 'At this cost it should be possible to replace the 100 million kerosene lamps in remote villages that use fossil fuels and pollute the environment.', 'The marketing outlets of private entrepreneurs, business houses and cooperatives could be mobilised to achieve this.', 'Given enough tax incentives, the possibility of franchising vast areas of non-electrified villages to organisations with the capacity to do so (community based organisations, business houses, cooperatives and trade unions) is well within our reach.', 'It could be achieved within a decade.', 'What needs to be done is to carve out an organisation from within an existing organisation with a mandate to carry out this task in a professional manner.', 'There are rumours that the MNES thinks it has the capacity to carry out this task.', 'It does not have the vision, the institutional building capacity, the skills to deal with village communities, the openness to interact with private entrepreneurs and alas, the credibility to deliver and deal with the various stakeholders it has worked with in the past.', 'Obviously a political decision at a higher level needs to be taken.', \"A meeting needs to be called with the Deputy Chairman, Planning Commission with the Ministry of Power, the Council for People's Action in the Advancement of Rural Technology (CAPART), the Ministry of Rural Development, the MNES and the REC/SEBs to take a collective decision in a transparent manner.\", 'As I said it is too big an issue to be taken by bureaucrats/ technocrats alone.', \"The community of users, (Gandhiji's Last Man) must have the last word.\"]\n"
     ]
    }
   ],
   "source": [
    "print (reqTokens)\n",
    "print (reqSentences)"
   ]
  },
  {
   "cell_type": "code",
   "execution_count": 54,
   "metadata": {},
   "outputs": [],
   "source": [
    "from nltk.corpus import stopwords\n",
    "from string import punctuation"
   ]
  },
  {
   "cell_type": "code",
   "execution_count": 70,
   "metadata": {},
   "outputs": [],
   "source": [
    "oneSetOfStopWords = set(stopwords.words('english')+list(punctuation)+['\"'])"
   ]
  },
  {
   "cell_type": "code",
   "execution_count": 73,
   "metadata": {},
   "outputs": [
    {
     "name": "stdout",
     "output_type": "stream",
     "text": [
      "['In', 'case', 'PNB', 'checks', 'done', 'banks', 'also', 'counterparty', 'lenders', 'overseas', 'raising', 'doubts', 'number', 'people', 'may', 'helped', 'Modi', 'keep', 'scheme', 'going', 'seven', 'years', 'India', 'world\\xe2\\x80\\x99s', 'largest', 'manufacturer', 'polished', 'diamonds', 'importing', 'average', '16', 'billion', 'polished', 'diamonds', 'year']\n"
     ]
    }
   ],
   "source": [
    "cleanWords = []\n",
    "for x in reqTokens:\n",
    "    if x not in oneSetOfStopWords:\n",
    "        cleanWords.append(x)\n",
    "print(cleanWords)"
   ]
  },
  {
   "cell_type": "code",
   "execution_count": 74,
   "metadata": {},
   "outputs": [
    {
     "data": {
      "text/plain": [
       "'I lit a smoke on smoking night when I was in the mood to smoke because I was surrounded by friends who were smokers and were smoking'"
      ]
     },
     "execution_count": 74,
     "metadata": {},
     "output_type": "execute_result"
    }
   ],
   "source": [
    "reqText2 = \"I lit a smoke on smoking night when I was in the mood to smoke because I was surrounded by friends who were smokers and were smoking\"\n",
    "reqText2"
   ]
  },
  {
   "cell_type": "code",
   "execution_count": 75,
   "metadata": {},
   "outputs": [
    {
     "name": "stdout",
     "output_type": "stream",
     "text": [
      "['i', 'lit', 'a', 'smok', 'on', 'smok', 'night', 'when', 'i', 'was', 'in', 'the', 'mood', 'to', 'smok', 'becaus', 'i', 'was', 'surround', 'by', 'friend', 'who', 'wer', 'smok', 'and', 'wer', 'smok']\n"
     ]
    }
   ],
   "source": [
    "from nltk.stem.lancaster import LancasterStemmer\n",
    "\n",
    "st = LancasterStemmer()\n",
    "reqStemmedWords = [st.stem(word) for word in word_tokenize(reqText2)]\n",
    "print (reqStemmedWords)"
   ]
  },
  {
   "cell_type": "code",
   "execution_count": 77,
   "metadata": {},
   "outputs": [
    {
     "data": {
      "text/plain": [
       "[('I', 'PRP'),\n",
       " ('lit', 'VBD'),\n",
       " ('a', 'DT'),\n",
       " ('smoke', 'NN'),\n",
       " ('on', 'IN'),\n",
       " ('smoking', 'VBG'),\n",
       " ('night', 'NN'),\n",
       " ('when', 'WRB'),\n",
       " ('I', 'PRP'),\n",
       " ('was', 'VBD'),\n",
       " ('in', 'IN'),\n",
       " ('the', 'DT'),\n",
       " ('mood', 'NN'),\n",
       " ('to', 'TO'),\n",
       " ('smoke', 'VB'),\n",
       " ('because', 'IN'),\n",
       " ('I', 'PRP'),\n",
       " ('was', 'VBD'),\n",
       " ('surrounded', 'VBN'),\n",
       " ('by', 'IN'),\n",
       " ('friends', 'NNS'),\n",
       " ('who', 'WP'),\n",
       " ('were', 'VBD'),\n",
       " ('smokers', 'NNS'),\n",
       " ('and', 'CC'),\n",
       " ('were', 'VBD'),\n",
       " ('smoking', 'VBG')]"
      ]
     },
     "execution_count": 77,
     "metadata": {},
     "output_type": "execute_result"
    }
   ],
   "source": [
    "# Speech Tagging\n",
    "nltk.pos_tag(word_tokenize(reqText2))"
   ]
  },
  {
   "cell_type": "code",
   "execution_count": 78,
   "metadata": {},
   "outputs": [
    {
     "name": "stdout",
     "output_type": "stream",
     "text": [
      " Volume in drive C has no label.\n",
      " Volume Serial Number is DCBA-281F\n",
      "\n",
      " Directory of C:\\Users\\user\\Desktop\n",
      "\n",
      "05/26/2018  04:03 PM    <DIR>          .\n",
      "05/26/2018  04:03 PM    <DIR>          ..\n",
      "05/20/2018  11:59 AM    <DIR>          akka\n",
      "04/27/2018  03:14 PM            27,884 Amita Ashok Dhainje - UpdatedResume.docx\n",
      "05/06/2018  10:20 PM            27,868 Amita Ashok Dhainje_UpdatedResume.docx\n",
      "05/15/2018  06:20 PM            20,977 AmitaDhainje_UpdatedResume.docx\n",
      "05/23/2018  01:31 PM           192,268 AmitaDhainje-AadharCard.jpg\n",
      "05/23/2018  01:32 PM           245,066 AmitaDhainje-PanCard.jpg\n",
      "05/23/2018  01:33 PM           450,169 AmitaDhainje-PassportCopy-1.jpg\n",
      "05/23/2018  01:32 PM           311,032 AmitaDhainje-PassportCopy-2.jpg\n",
      "07/23/2017  09:35 PM             1,823 Anaconda Navigator (2).lnk\n",
      "11/14/2017  07:27 AM           343,110 BeautyPlus_20171112103754_save.jpg\n",
      "05/12/2018  03:22 PM         1,557,737 crimedata.csv\n",
      "04/26/2018  01:18 PM         5,842,217 Data Science from Scratch- First Principles with Python.pdf\n",
      "04/26/2018  01:16 PM         6,216,449 Data Science from Scratch.pdf\n",
      "05/06/2018  10:20 PM    <DIR>          DesktopData\n",
      "04/02/2018  10:34 AM             4,301 DS1.arff\n",
      "10/15/2014  09:59 AM           104,413 heart.jpg\n",
      "11/19/2017  02:33 PM         3,370,175 IMG_2184.JPG\n",
      "11/19/2017  02:33 PM         4,797,817 IMG_2193.JPG\n",
      "11/19/2017  02:36 PM         1,430,382 IMG_2199.JPG\n",
      "05/26/2018  04:03 PM               235 index.html\n",
      "03/05/2018  09:44 PM    <DIR>          Loan Details\n",
      "05/12/2018  06:21 PM            11,959 ML_MiniProjects.docx\n",
      "04/28/2018  10:48 AM         4,230,442 MLSALT4-AW2-models.pdf\n",
      "05/26/2018  02:55 PM            11,138 NLTK.docx\n",
      "05/26/2018  03:39 PM               320 nltk_mumbai.py\n",
      "04/27/2018  02:56 PM    <DIR>          NPTEL\n",
      "05/26/2018  03:35 PM               340 OurText.txt\n",
      "06/06/2015  06:44 PM               363 RecentPlaces.lnk\n",
      "05/07/2018  08:34 PM         1,536,530 svfx9r4helwy.png\n",
      "11/11/2014  08:04 PM           129,629 Untitled-1 copy.jpg\n",
      "05/16/2018  08:17 PM             1,878 Zoom.lnk\n",
      "              27 File(s)     30,866,522 bytes\n",
      "               6 Dir(s)  32,035,319,808 bytes free\n"
     ]
    }
   ],
   "source": [
    "ls"
   ]
  },
  {
   "cell_type": "code",
   "execution_count": 79,
   "metadata": {},
   "outputs": [
    {
     "data": {
      "text/plain": [
       "'<html><heading style=\"font-size:20px\"><i>This is the title<br><br></i></heading>\\n     <body><b>This is the body</b><p id=\"para1\">This is para1<a href=\"www.google.com\">Google</a></p>\\n     <p id=\"para2\">This is para 2</p></body></html>'"
      ]
     },
     "execution_count": 79,
     "metadata": {},
     "output_type": "execute_result"
    }
   ],
   "source": [
    "reqHTMLText = open('index.html','r').read()\n",
    "reqHTMLText"
   ]
  },
  {
   "cell_type": "code",
   "execution_count": 80,
   "metadata": {
    "collapsed": true
   },
   "outputs": [],
   "source": [
    "from bs4 import BeautifulSoup"
   ]
  },
  {
   "cell_type": "code",
   "execution_count": 81,
   "metadata": {},
   "outputs": [
    {
     "name": "stdout",
     "output_type": "stream",
     "text": [
      "Pretty printing has been turned OFF\n"
     ]
    }
   ],
   "source": [
    "pprint(reqHTMLText)"
   ]
  },
  {
   "cell_type": "code",
   "execution_count": 116,
   "metadata": {},
   "outputs": [
    {
     "name": "stdout",
     "output_type": "stream",
     "text": [
      "('Number of Words - ', 2009)\n",
      "('Number of Sentences - ', 86)\n"
     ]
    }
   ],
   "source": [
    "print (\"Number of Words - \", len(reqTokens))\n",
    "print (\"Number of Sentences - \",len(reqSentences))\n"
   ]
  },
  {
   "cell_type": "code",
   "execution_count": 120,
   "metadata": {
    "collapsed": true
   },
   "outputs": [],
   "source": [
    "oneSetOfStopWords = set(stopwords.words('english')+list(punctuation)+['\"','``', \"''\",'...'])"
   ]
  },
  {
   "cell_type": "code",
   "execution_count": 121,
   "metadata": {},
   "outputs": [
    {
     "name": "stdout",
     "output_type": "stream",
     "text": [
      "['The', 'obscure', 'definition', 'village', 'deemed', 'electricity', 'little', 'show', 'rural', 'India', 'still', 'functions', 'without', 'power', 'In', 'move', 'must', 'encouraged', 'communities', 'especially', 'remote', 'areas', 'come', 'solution', 'harnessing', 'non-conventional', 'energy', 'sources', 'says', 'BUNKER', 'ROY', 'NO', 'one', 'knows', 'precisely', 'many', 'villages', 'electricity', 'even', 'three', 'decades', 'planning', 'Whatever', 'figures', 'available', 'Rural', 'Electrification', 'Corporation', 'REC', 'State', 'Electricity', 'Boards', 'SEBs', 'unreliable', 'The', 'Ministry', 'Power', 'claims', '5,06,916', 'villages', 'total', '587,258', 'villages', 'electrified', 'March', '2000', 'Since', 'comprehensive', 'professional', 'survey', 'conducted', 'house', 'guess', 'estimate', 'REC', 'SEBs', 'combined', 'Providing', 'electricity', 'grid', 'system', 'vital', 'monopoly', 'REC/SEBs', 'one', 'bothered', 'carry', 'village', 'level', 'survey', 'The', 'planners', 'left', 'technocrats', 'provide', 'magic', 'figure', 'Everyone', 'knowledge', 'electrified', 'villages', 'knows', 'fabricated', 'But', 'arrogance', 'authorities', 'refuse', 'provide', 'correct', 'figures', 'spite', 'repeated', 'requests', 'Ministries', 'like', 'Ministry', 'Non-Conventional', 'Energy', 'Sources', 'MNES', 'experienced', 'believed', 'But', 'Planning', 'Commission', 'downwards', 'pampered', 'lot', 'till', 'alternatives', 'According', 'REC/SEBs', '80,000', 'villages', 'remain', 'electrified', 'High-powered', 'committees', 'countless', 'bureaucrats/technocrats', 'put', 'heads', 'together', 'agreed', 'low', 'powered', 'definition', 'electrified', 'village', 'borders', 'farcical', 'A', 'village', 'deemed', 'electrified', 'electricity', 'used', 'inhabited', 'locality', 'within', 'revenue', 'boundary', 'village', 'purpose', 'whatsoever', 'This', 'suits', 'technocrat', 'lighting', 'well', 'power', 'village', 'considered', 'electrified', 'paper', 'This', 'suits', 'politicians/planners', 'claim', '83.6', 'per', 'cent', 'villages', 'electrified', 'This', 'suits', 'contractors', 'supply', 'diesel', 'generating', 'sets', 'transmission', 'lines', 'poles', 'wires', 'transformers', 'construct', 'power', 'stations', 'endless', 'demand', 'make', 'criminal', 'profits', 'Why', 'Because', 'greed', 'corruption', 'play', 'important', 'part', 'decision', 'making', 'service', 'commitment', 'quality', 'always', 'suffers', 'The', 'person', 'affected', 'cares', 'consumer', 'pay', 'nose', 'power', 'never', 'reaches', 'village', 'house', 'pumpset', 'industry', 'This', 'obscure', 'definition', 'deemed', 'electrified', 'village', 'never', 'shared', 'village', 'panchayats', 'community', 'large', 'The', 'reason', 'offered', 'responsible', 'senior', 'technocrats', 'matter', 'technical', 'The', 'reason', 'made', 'public', 'ordinary', 'people', 'village', 'municipality', 'hamlets', 'read', 'REC/SEBs', 'also', 'Planning', 'Commission', 'would', 'ridiculed', 'accepted', 'absurd', 'definition', 'Today', 'alternatives', 'providing', 'lighting', 'several', 'thousand', 'non-electrified', 'villages', 'With', '73rd', 'amendment', 'Panchayati', 'Raj', 'Act', 'technocrats', 'never', 'heard', '11th', 'schedule', 'identified', 'rural', 'electrification', 'one', 'responsibilities', 'village', 'panchayat', 'They', 'involved', 'new', 'definition', 'deemed', 'electrified', 'village', 'Technocrats', 'stupid', 'outdated', 'still', 'think', 'man/woman', 'village', 'intelligence', 'common', 'sense', 'What', 'even', 'critical', 'involvement', 'survey', 'conducted', 'status', 'electrification', 'country', 'They', 'need', 'consulted', 'options', 'available', 'solar', 'hydel', 'bio-gas', 'wind', 'right', 'choose', 'Just', 'war', 'big', 'issue', 'left', 'generals', 'issue', 'electricity', 'lighting', 'critical', 'issue', 'left', 'engineers', 'bureaucrats', 'decide', 'Where', 'communities', 'involved', 'beginning', 'planning', 'implementation', 'process', 'performed', 'miracles', 'Over', 'last', 'five', 'years', 'adopting', 'barefoot', 'approach', 'reaching', 'solar', 'lighting', 'remote', 'non-electrified', 'villages', 'yielded', 'results', 'Remote', 'village', 'communities', 'likely', 'receive', 'conventional', 'grid', 'power', 'next', '20', 'years', 'selected', 'unemployed', 'unemployable', 'boys', 'girls', 'barely', 'done', 'six', '10', 'years', 'schooling', 'trained', 'barefoot', 'solar', 'engineers', 'In', 'villages', 'Jammu', 'Kashmir', 'Ladakh', 'Himachal', 'Pradesh', 'Lahaul', 'Spiti', 'Bihar', 'Champaran', 'Madhya', 'Pradesh', 'Jhabua', 'Assam', 'Kokrajhar', 'Sikkim', 'North', 'Sikkim', 'Uttaranchal', 'Pithoragarh', 'trained', 'fabricate', 'install', 'repair', 'maintain', 'fixed', 'solar', 'units', 'solar', 'lanterns', 'without', 'help', 'assistance', 'paper', 'qualified', 'solar', 'engineer', 'Where', 'government', 'failed', 'miserably', 'collect', 'revenue', 'providing', 'power', 'privatisation', 'people', 'willingly', 'paid', 'Rs', '20', 'Rs', '100', 'month', 'solar', 'lighting', 'systems', 'Remember', 'Mahatma', 'Gandhi', 'said', 'India', \"'s\", 'solution', 'future', 'mass', 'production', 'production', 'masses', 'He', 'referring', 'village', 'cottage', 'industries', 'equally', 'applicable', 'far', 'lighting', 'concerned', 'The', 'future', 'lie', 'centralised', 'mass', 'production', 'power', 'distribution', 'community', 'end', 'users', 'totally', 'dependent', 'engineer', 'The', 'future', 'lies', 'decentralised', 'system', 'right', 'household', 'level', 'Since', 'early', '1990s', '1,500', 'remote', 'houses', 'Ladakh', 'repaired', 'maintained', '19', 'barefoot', 'solar', 'engineers', 'Every', 'user', 'willingly', 'pays', 'maintenance', 'systems', 'amount', 'decided', 'consultation', 'village', 'committee', 'For', 'remaining', 'non-electrified', 'villages', 'mountains', 'deserts', 'islands', 'tribal', 'areas', 'coastal', 'regions', 'distance', '3', 'kilometres', 'mountains', '5', 'km', 'plains', 'nearest', 'grid', 'covered', 'electrified', 'village', 'alternative', 'use', 'wider', 'application', 'non-', 'conventional', 'energy', 'The', 'market', 'rate', 'extending', 'grid', 'electrify', 'villages', 'ranges', 'Rs', '12', 'lakhs', 'Rs', '25', 'lakhs/kilometre', 'depending', 'whether', 'mountains', 'plains', 'This', 'taking', 'account', 'cost', 'wastage', 'poor', 'quality', 'construction', 'losses', 'corruption', 'over-staffing', 'pilferage', 'poor', 'management', 'While', 'potential', 'cost', 'effective', 'non-conventional', 'alternatives', 'immense', 'MNES', 'hopelessly', 'unprepared', 'challenge', 'I', 'interacted', 'five', 'years', 'I', 'know', 'A', 'national', 'dialogue', 'issue', 'initiated', 'MNES', 'ages', 'ago', 'quite', 'satisfied', 'modest', 'paragraphs', 'mentioned', 'Planning', 'Commission', 'documents', 'need', 'expand', 'use', 'non-conventional', 'energy', 'When', 'vision', 'aggressive', 'lobbying', 'required', 'MNES', 'feel', 'urgency', 'conveying', 'crucial', 'message', 'It', 'outcome', 'personal', 'lobbying', 'finally', 'resulted', 'establishment', 'working', 'group', 'Planning', 'Commission', 'study', 'cost', 'effectiveness', 'non-', 'conventional', 'energy', 'electrification', 'remaining', 'non-', 'electrified', 'villages', 'The', 'working', 'group', 'established', 'November', '1999', 'A', 'summary', 'conclusions', 'draft', 'report', 'circulated', 'wider', 'discussion', 'reaction', 'The', 'MNES', 'lacks', 'leadership', 'today', 'It', 'ministry', 'hijacked', 'technocrats', 'still', 'believe', 'answer', 'electrification', 'improved', 'better', 'technology', 'It', 'believe', 'demystification', 'handing', 'control', 'fabrication', 'installation', 'repair', 'maintenance', 'rural', 'community', 'Where', 'potential', 'electrifying', 'villages', 'solar', 'photovoltaics', 'far', 'greatest', 'suspicion', 'community', 'based', 'organisations', 'It', 'reason', 'funds', 'released', 'time', 'There', 'mistrust', 'guilty', 'prove', 'innocence', 'With', 'mindset', 'like', 'MNES', 'tackle', 'vast', 'exciting', 'challenge', 'facing', 'today', 'There', 'graveyards', 'street', 'lighting', 'systems', 'country', 'convey', 'sorry', 'picture', 'MNES', 'thinks', 'providing', 'technology', 'enough', 'By', 'using', 'barefoot', 'approach', 'following', 'decentralised', 'village', 'focussed', 'system', 'providing', 'lighting', 'potential', 'providing', '50,000', 'unemployed', 'poor', 'rural', 'youth', 'jobs', 'install', 'repair', 'maintain', 'solar', 'home', 'lighting', 'systems', 'Each', 'non-electrified', 'villages', 'could', 'self-sufficient', 'But', 'role', 'various', 'stakeholders', 'fully', 'understood', 'This', 'includes', 'role', 'government', 'financial', 'institutions', 'village', 'panchayats', 'community', 'based', 'organisations', 'The', 'thrust', 'towards', 'decentralisation', 'village', 'even', 'household', 'level', 'six', 'States', 'financial', 'support', 'United', 'Nations', 'Development', 'Programme', 'UNDP', 'European', 'Union', 'With', 'subsidy', 'home', 'lighting', 'systems', 'solar', 'lanterns', 'MNES', 'combination', 'bring', 'cost', 'solar', 'lantern', 'Rs', '1,800', 'fixed', 'home', 'lighting', 'systems', 'Rs', '7,000', 'It', 'possible', 'buy', 'shelf', 'two-year', 'guarantee', 'solar', 'lanterns', 'seven-year', 'guarantee', 'fixed', 'systems', 'This', 'possible', 'village', 'level', 'At', 'cost', 'possible', 'replace', '100', 'million', 'kerosene', 'lamps', 'remote', 'villages', 'use', 'fossil', 'fuels', 'pollute', 'environment', 'The', 'marketing', 'outlets', 'private', 'entrepreneurs', 'business', 'houses', 'cooperatives', 'could', 'mobilised', 'achieve', 'Given', 'enough', 'tax', 'incentives', 'possibility', 'franchising', 'vast', 'areas', 'non-electrified', 'villages', 'organisations', 'capacity', 'community', 'based', 'organisations', 'business', 'houses', 'cooperatives', 'trade', 'unions', 'well', 'within', 'reach', 'It', 'could', 'achieved', 'within', 'decade', 'What', 'needs', 'done', 'carve', 'organisation', 'within', 'existing', 'organisation', 'mandate', 'carry', 'task', 'professional', 'manner', 'There', 'rumours', 'MNES', 'thinks', 'capacity', 'carry', 'task', 'It', 'vision', 'institutional', 'building', 'capacity', 'skills', 'deal', 'village', 'communities', 'openness', 'interact', 'private', 'entrepreneurs', 'alas', 'credibility', 'deliver', 'deal', 'various', 'stakeholders', 'worked', 'past', 'Obviously', 'political', 'decision', 'higher', 'level', 'needs', 'taken', 'A', 'meeting', 'needs', 'called', 'Deputy', 'Chairman', 'Planning', 'Commission', 'Ministry', 'Power', 'Council', 'People', \"'s\", 'Action', 'Advancement', 'Rural', 'Technology', 'CAPART', 'Ministry', 'Rural', 'Development', 'MNES', 'REC/SEBs', 'take', 'collective', 'decision', 'transparent', 'manner', 'As', 'I', 'said', 'big', 'issue', 'taken', 'bureaucrats/', 'technocrats', 'alone', 'The', 'community', 'users', 'Gandhiji', \"'s\", 'Last', 'Man', 'must', 'last', 'word']\n",
      "999\n"
     ]
    }
   ],
   "source": [
    "reqCleanWords = []\n",
    "for x in reqTokens:\n",
    "    if x not in oneSetOfStopWords:\n",
    "        reqCleanWords.append(x)\n",
    "print(reqCleanWords)\n",
    "print (len(reqCleanWords))"
   ]
  },
  {
   "cell_type": "code",
   "execution_count": 125,
   "metadata": {},
   "outputs": [
    {
     "name": "stdout",
     "output_type": "stream",
     "text": [
      "13\n"
     ]
    }
   ],
   "source": [
    "from collections import Counter\n",
    "\n",
    "requiredCounts = Counter(reqCleanWords)\n",
    "numberOfRequiredCounts = requiredCounts.most_common()\n",
    "#print (numberOfRequiredCounts)\n",
    "finalWords = [x for x in numberOfRequiredCounts if x[1] > 5]\n",
    "print (len(finalWords))"
   ]
  },
  {
   "cell_type": "code",
   "execution_count": 126,
   "metadata": {},
   "outputs": [
    {
     "name": "stdout",
     "output_type": "stream",
     "text": [
      "[('Over the last five years, adopting the \"barefoot\" approach to reaching solar lighting to remote non-electrified villages has yielded results.', 73), ('The Ministry of Power claims that 5,06,916 villages out of a total of 587,258 villages have been \"electrified\" by March 2000.', 63), ('Today there are alternatives to providing lighting in several thousand non-electrified villages.', 60), ('This suits the technocrat because if there is lighting or a well has power that village is considered \"electrified\" (on paper).', 58), ('Where the potential for electrifying villages by solar photovoltaics is by far the greatest, the suspicion is the most against community based organisations.', 58), ('The market rate of extending the grid to electrify villages ranges from Rs.', 58), ('It was the outcome of some personal lobbying that finally resulted in the establishment of a working group in the Planning Commission to study the cost effectiveness of non- conventional energy for the electrification of the remaining non- electrified villages.', 56), ('This suits the politicians/planners because they can claim that 83.6 per cent of the villages have been \"electrified\".', 56), ('Given enough tax incentives, the possibility of franchising vast areas of non-electrified villages to organisations with the capacity to do so (community based organisations, business houses, cooperatives and trade unions) is well within our reach.', 56), ('By using the \"barefoot\" approach and following the decentralised village focussed system of providing lighting, there is a potential of providing 50,000 unemployed poor rural youth jobs - to install, repair and maintain solar home lighting systems.', 53), ('In villages in Jammu and Kashmir (Ladakh), Himachal Pradesh (Lahaul and Spiti), Bihar (Champaran), Madhya Pradesh (Jhabua), Assam (Kokrajhar), Sikkim (North Sikkim), and Uttaranchal (Pithoragarh) they are to be trained on how to fabricate, install, repair and maintain fixed solar units and solar lanterns without the help and assistance of any (paper qualified) solar engineer.', 51), ('For the remaining \"non-electrified\" villages in mountains, deserts, islands, tribal areas and coastal regions where the distance is more than 3 kilometres in the mountains and 5 km in the plains from the nearest grid covered \"electrified\" village, the only alternative is the use and wider application of non- conventional energy.', 49), ('Everyone with any knowledge of \"electrified\" villages knows it has been fabricated.', 49), ('Each of these non-electrified villages could be self-sufficient.', 49), ('According to the REC/SEBs, only 80,000 villages remain to be \"electrified\".', 49), ('They have to be involved in the new definition of what is deemed an \"electrified\" village.', 47), ('This obscure definition of what is deemed to be an \"electrified\" village has never been shared with village panchayats or the community at large.', 47), ('With a subsidy for home lighting systems and the solar lanterns from the MNES, the combination can bring down the cost of a solar lantern to Rs.', 47), ('The obscure definition of when a village is deemed to have electricity does little but to show that most of rural India still functions without power.', 43), ('There are graveyards of street lighting systems all over the country that convey a sorry picture because the MNES thinks that providing technology is enough.', 42), ('Remote village communities which are not likely to receive conventional grid power over to the next 20 years have selected unemployed and unemployable boys and girls, who have barely done six to 10 years of schooling, to be trained as \"barefoot\" solar engineers.', 42), ('\"High-powered\" committees and countless bureaucrats/technocrats put their heads together and agreed on a \"low powered\" definition of what an \"electrified village\" is - it borders on the farcical.', 40), ('At this cost it should be possible to replace the 100 million kerosene lamps in remote villages that use fossil fuels and pollute the environment.', 38), ('NO one knows precisely how many villages have electricity even after three decades of planning.', 38), ('The other reason is that if this was made public and if \"ordinary\" people in the village, municipality and hamlets had read it, not only the REC/SEBs but also the Planning Commission would have been ridiculed for having accepted such an absurd definition.', 36), ('The thrust should be towards decentralisation in the village even at the household level as in the six States with financial support from the United Nations Development Programme (UNDP) and the European Union.', 36), ('This includes the role of government, financial institutions, village panchayats and community based organisations.', 36), ('He was referring to village and cottage industries, but this is equally applicable as far as lighting is concerned.', 33), ('A village is deemed \"electrified\" \"... if electricity is used in the inhabited locality within the revenue boundary of the village for any purpose whatsoever\".', 33), ('100 a month for solar lighting systems.', 31), ('Every user willingly pays for the maintenance of the systems and the amount is decided in consultation with the village committee.', 29), ('It does not have the vision, the institutional building capacity, the skills to deal with village communities, the openness to interact with private entrepreneurs and alas, the credibility to deliver and deal with the various stakeholders it has worked with in the past.', 29), ('This is possible at the village level.', 29), ('is the consumer who has to pay through his nose for power that never reaches his village, house, pumpset or industry.', 29), ('The future does not lie in the centralised mass production of power and distribution where the community and end users are totally dependent on the engineer.', 28), ('They need to be consulted on the options available (solar, hydel, bio-gas, wind) and they have the right to choose.', 27), ('It should be possible to buy it off the shelf with a two-year guarantee for solar lanterns and a seven-year guarantee for fixed systems.', 27), ('1,800 and fixed home lighting systems to Rs.', 24), ('There are rumours that the MNES thinks it has the capacity to carry out this task.', 24), ('The MNES lacks leadership today.', 24), ('With the 73rd amendment of the Panchayati Raj Act (the technocrats have never heard of it) the 11th schedule has identified rural electrification as one of the responsibilities of a village panchayat.', 22), ('Providing electricity through the grid system is a vital monopoly of the REC/SEBs, no one has bothered to carry out a village level survey.', 22), ('Technocrats are stupid and outdated if they still think a man/woman in the village has no intelligence and common sense.', 22), (\"The community of users, (Gandhiji's Last Man) must have the last word.\", 21), ('The future lies in a decentralised system right down to the household level.', 14), ('This suits the contractors who supply diesel generating sets, transmission lines, poles, wires, transformers and construct the power stations: they will be in endless demand and make criminal profits from it.', 14), ('The reason offered by responsible senior technocrats is that this is a matter that is too technical.', 14), ('The person most affected (who cares?)', 14), ('The planners have left it to the technocrats to provide a magic figure.', 14), ('It does not believe in demystification and handing over the control, the fabrication, the installation, the repair and the maintenance to the rural community.', 14), ('The working group was established in November 1999.', 14), ('The marketing outlets of private entrepreneurs, business houses and cooperatives could be mobilised to achieve this.', 14), ('There is mistrust and they are guilty until they prove their innocence.', 14), ('Where the government has failed miserably to collect any revenue for providing power (before privatisation) people have willingly paid Rs.', 13), ('Since the early 1990s, more than 1,500 remote houses in Ladakh are being repaired and maintained by 19 \"barefoot\" solar engineers.', 13), ('Just as war is too big an issue to be left to the generals, the issue of electricity and lighting is too critical an issue to be left to engineers and bureaucrats to decide.', 11), ('While the potential for cost effective non-conventional alternatives is immense, the MNES is hopelessly unprepared for this challenge.', 10), (\"A meeting needs to be called with the Deputy Chairman, Planning Commission with the Ministry of Power, the Council for People's Action in the Advancement of Rural Technology (CAPART), the Ministry of Rural Development, the MNES and the REC/SEBs to take a collective decision in a transparent manner.\", 10), ('When vision and aggressive lobbying was required by the MNES it did not feel the urgency of conveying such a crucial message.', 10), ('But the arrogance with which the authorities refuse to provide correct figures in spite of repeated requests from other Ministries (like the Ministry of Non-Conventional Energy Sources - MNES) has to be experienced to be believed.', 10), ('A national dialogue on this issue should have been initiated by the MNES ages ago but they were quite satisfied with modest paragraphs being mentioned in Planning Commission documents about the need to expand the use of non-conventional energy.', 10), ('With a mindset like this, how can the MNES tackle the vast and exciting challenge facing it today?', 10), ('This is taking into account the cost of wastage, poor quality construction, losses, corruption, over-staffing, pilferage and poor management.', 7), ('It is for this reason that funds are not released in time.', 7), ('It could be achieved within a decade.', 7), ('It is a ministry that has been hijacked by technocrats who still believe that the answer to electrification is improved and better technology.', 7), ('20 to Rs.', 6), ('12 lakhs to Rs.', 6), ('Since no comprehensive professional survey has been conducted, it is an in house \"guess estimate\" by the REC and SEBs combined.', 0), ('\"India\\'s solution for the future is not mass production but production by the masses.', 0), ('Obviously a political decision at a higher level needs to be taken.', 0), ('Because where greed and corruption play a more important part in decision making (than service and commitment), quality always suffers.', 0), ('But the role of various stakeholders has to be fully understood.', 0), ('Why?', 0), ('Where the communities have been involved from the very beginning in the planning and implementation process they have performed miracles.', 0), ('Whatever figures are available through the Rural Electrification Corporation (REC) and the State Electricity Boards (SEBs) are unreliable.', 0), ('But from the Planning Commission downwards they are a pampered lot because, till now, there were no alternatives.', 0), ('Remember what Mahatma Gandhi said?', 0), ('What needs to be done is to carve out an organisation from within an existing organisation with a mandate to carry out this task in a professional manner.', 0), ('7,000.', 0), ('What is even more critical is their involvement in the survey to be conducted on the status of electrification in this country.', 0), ('In a move that must be encouraged, communities, especially in remote areas, have come up with a solution - harnessing non-conventional energy sources, says BUNKER ROY.', 0), ('A summary of the conclusions of the draft report is to be circulated for wider discussion and reaction.', 0), ('I have interacted with them for over five years: I should know.', 0), ('As I said it is too big an issue to be taken by bureaucrats/ technocrats alone.', 0), ('25 lakhs/kilometre depending on whether it is in the mountains or in the plains.', 0)]\n"
     ]
    }
   ],
   "source": [
    "d = {}\n",
    "for s in reqSentences:\n",
    "    score = 0\n",
    "    for w in finalWords:\n",
    "        if w[0] in s:\n",
    "            score = score + w[1]\n",
    "    d[s] = score\n",
    "\n",
    "import operator\n",
    "sorted_d = sorted(d.items(), key=operator.itemgetter(1), reverse=True)\n",
    "print (sorted_d.join)"
   ]
  },
  {
   "cell_type": "code",
   "execution_count": null,
   "metadata": {
    "collapsed": true
   },
   "outputs": [],
   "source": []
  }
 ],
 "metadata": {
  "kernelspec": {
   "display_name": "Python 2",
   "language": "python",
   "name": "python2"
  },
  "language_info": {
   "codemirror_mode": {
    "name": "ipython",
    "version": 2
   },
   "file_extension": ".py",
   "mimetype": "text/x-python",
   "name": "python",
   "nbconvert_exporter": "python",
   "pygments_lexer": "ipython2",
   "version": "2.7.14"
  }
 },
 "nbformat": 4,
 "nbformat_minor": 2
}
