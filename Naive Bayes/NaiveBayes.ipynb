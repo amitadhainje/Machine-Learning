{
  "cells": [
    {
      "metadata": {
        "_uuid": "316dadcb36f55cb649c0aab9c09d5260ae4a1dfa"
      },
      "cell_type": "markdown",
      "source": "# Apply Naive Bayes for classification for breast cancer dataset"
    },
    {
      "metadata": {
        "_uuid": "8f2839f25d086af736a60e9eeb907d3b93b6e0e5",
        "_cell_guid": "b1076dfc-b9ad-4769-8c92-a6c4dae69d19",
        "trusted": true,
        "scrolled": false
      },
      "cell_type": "code",
      "source": "import numpy as np\nimport pandas as pd\nimport matplotlib.pyplot as plt\nfrom sklearn.datasets import load_breast_cancer\nfrom sklearn.model_selection import train_test_split\nplt.style.use('ggplot')\n\n# Breast cancer dataset for classification\ndata = load_breast_cancer()\nprint (data.feature_names)",
      "execution_count": 61,
      "outputs": [
        {
          "output_type": "stream",
          "text": "['mean radius' 'mean texture' 'mean perimeter' 'mean area'\n 'mean smoothness' 'mean compactness' 'mean concavity'\n 'mean concave points' 'mean symmetry' 'mean fractal dimension'\n 'radius error' 'texture error' 'perimeter error' 'area error'\n 'smoothness error' 'compactness error' 'concavity error'\n 'concave points error' 'symmetry error' 'fractal dimension error'\n 'worst radius' 'worst texture' 'worst perimeter' 'worst area'\n 'worst smoothness' 'worst compactness' 'worst concavity'\n 'worst concave points' 'worst symmetry' 'worst fractal dimension']\n",
          "name": "stdout"
        }
      ]
    },
    {
      "metadata": {
        "_cell_guid": "79c7e3d0-c299-4dcb-8224-4455121ee9b0",
        "collapsed": true,
        "_uuid": "d629ff2d2480ee46fbb7e2d37f6b5fab8052498a",
        "trusted": false
      },
      "cell_type": "markdown",
      "source": "# Displaying the target names in the dataset"
    },
    {
      "metadata": {
        "trusted": true,
        "_uuid": "49614a3adb3f94c92a04b4c5bb3330899f873c51"
      },
      "cell_type": "code",
      "source": "data.target_names",
      "execution_count": 62,
      "outputs": [
        {
          "output_type": "execute_result",
          "execution_count": 62,
          "data": {
            "text/plain": "array(['malignant', 'benign'],\n      dtype='<U9')"
          },
          "metadata": {}
        }
      ]
    },
    {
      "metadata": {
        "trusted": true,
        "_uuid": "4764069f6034962e98df8ae881f2a833f2afadce",
        "collapsed": true
      },
      "cell_type": "code",
      "source": "from sklearn.naive_bayes import GaussianNB\nfrom matplotlib.colors import ListedColormap, BoundaryNorm\nX_train, X_test, y_train, y_test = train_test_split(X_cancer, y_cancer, random_state = 0)",
      "execution_count": 63,
      "outputs": []
    },
    {
      "metadata": {
        "trusted": true,
        "_uuid": "44750e5381d34079fe1d44bcabc88150c759ce6c"
      },
      "cell_type": "code",
      "source": "nbclf = GaussianNB().fit(X_train, y_train)\nprint('Breast cancer dataset')\nprint('Accuracy of GaussianNB classifier on training set: {:.2f}'.format(nbclf.score(X_train, y_train)))\nprint('Accuracy of GaussianNB classifier on test set: {:.2f}'.format(nbclf.score(X_test, y_test)))",
      "execution_count": 64,
      "outputs": [
        {
          "output_type": "stream",
          "text": "Breast cancer dataset\nAccuracy of GaussianNB classifier on training set: 0.95\nAccuracy of GaussianNB classifier on test set: 0.94\n",
          "name": "stdout"
        }
      ]
    },
    {
      "metadata": {
        "trusted": true,
        "collapsed": true,
        "_uuid": "30f260ead175b85803503b647a818439d982b637"
      },
      "cell_type": "code",
      "source": "",
      "execution_count": null,
      "outputs": []
    }
  ],
  "metadata": {
    "kernelspec": {
      "display_name": "Python 3",
      "language": "python",
      "name": "python3"
    },
    "language_info": {
      "name": "python",
      "version": "3.6.5",
      "mimetype": "text/x-python",
      "codemirror_mode": {
        "name": "ipython",
        "version": 3
      },
      "pygments_lexer": "ipython3",
      "nbconvert_exporter": "python",
      "file_extension": ".py"
    }
  },
  "nbformat": 4,
  "nbformat_minor": 1
}