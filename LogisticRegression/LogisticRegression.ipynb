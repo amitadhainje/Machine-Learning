{
  "cells": [
    {
      "metadata": {
        "_cell_guid": "8020780c-fb7f-40d6-a1e5-bc692dbe5281",
        "_uuid": "b4fca9fd02d900d76ade4a717b31e9aa9f4af8b9",
        "trusted": true
      },
      "cell_type": "code",
      "source": "# Normal Logistic Regression\nfrom pandas import read_csv\nfrom sklearn.model_selection import train_test_split,KFold, cross_val_score\nfrom sklearn.linear_model import LogisticRegression\nfilename = 'pima-indians-diabetes.data.csv'\nfilename = '../input/pima-indians-diabetes-database/diabetes.csv'\ndataframe = read_csv(filename)\narray = dataframe.values\nX = array[:,0:8]\nY = array[:,8]\ntest_size = 0.33\nseed = 7\nX_train, X_test, Y_train, Y_test = train_test_split(X, Y, test_size=test_size,\nrandom_state=seed)\nmodel = LogisticRegression()\nmodel.fit(X_train, Y_train)\npredictions  = model.predict(X_test)\nresult = model.score(X_test, Y_test)\nfinalResult = result*100\nprint(\"The Accuracy - {} \". format(finalResult))",
      "execution_count": 19,
      "outputs": [
        {
          "output_type": "stream",
          "text": "The Accuracy - 75.59055118110236 \n",
          "name": "stdout"
        }
      ]
    },
    {
      "metadata": {
        "trusted": true,
        "_uuid": "1b5cedb8e9ad17bac3b2dd1a42edaf8af9fd2355"
      },
      "cell_type": "code",
      "source": "# KFold Cross-Validation\nprint(\"KFold Cross-Validation \")\nnum_folds = 10\nseed = 7\nkfold = KFold(n_splits=num_folds, random_state=seed)\ncross_model = LogisticRegression()\ncross_results = cross_val_score(cross_model, X, Y, cv=kfold)\nprint(\"The Accuracy - %.3f%% (%.3f%%) \" % (cross_results.mean()*100.0, cross_results.std()*100.0))",
      "execution_count": 27,
      "outputs": [
        {
          "output_type": "stream",
          "text": "The Accuracy - 76.951% (4.841%) \n",
          "name": "stdout"
        }
      ]
    }
  ],
  "metadata": {
    "language_info": {
      "name": "python",
      "version": "3.6.4",
      "mimetype": "text/x-python",
      "codemirror_mode": {
        "name": "ipython",
        "version": 3
      },
      "pygments_lexer": "ipython3",
      "nbconvert_exporter": "python",
      "file_extension": ".py"
    },
    "kernelspec": {
      "display_name": "Python 3",
      "language": "python",
      "name": "python3"
    }
  },
  "nbformat": 4,
  "nbformat_minor": 1
}