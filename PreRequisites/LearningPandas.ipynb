{
  "cells": [
    {
      "metadata": {
        "_cell_guid": "ac6f46b0-b62c-44b3-b296-cfa0135b2d23",
        "_uuid": "85cfe6623d95c9d48cacce94ab90c69d128ef52b",
        "trusted": false,
        "collapsed": true
      },
      "cell_type": "code",
      "source": "# Pandas was named after 'Panel-Data' and was created by Wes Mckinney \nimport numpy as np\nimport pandas as pd\n\n# Read the whole CSV file and take the selected columns\nX = pd.read_csv(\"../input/NSEI-2.csv\", usecols=['Open','High','Low','Close'])\n# Read only 10 CSV file and take the selected columns\nY = pd.read_csv(\"../input/NSEI-2.csv\", usecols=['Open','High','Low','Close'], \n               skip_blank_lines=True,nrows=10)\n\n# Get the type of the object\nprint(type(X))\n# Get the information of the Object\nprint (X.info())\n#To get the preview of the Dataframe use = \"head\" function\n# By Default it prints first 5 rows of the dataframe\n# we can pass the number of rows to be displayed\nprint(X.head())\n# Convert the dataframe into matrix\nM = X.as_matrix()\n#Check the type of the matrix\nprint (type(M))\nprint(\"\\n Remove the null entries and change the datatype to float or Data Cleaning\")\nX.drop(X[X.Open == 'null'].index, inplace=True)\nX.astype(float)",
      "execution_count": null,
      "outputs": []
    },
    {
      "metadata": {
        "_cell_guid": "c06ed117-6266-45fc-8ab6-5e66d2f60e94",
        "_uuid": "260a95a6e63829a5b70e5bb7ea682859d81f9700",
        "trusted": false,
        "collapsed": true
      },
      "cell_type": "code",
      "source": "# Creating the test Objects\nTestDf = pd.DataFrame(np.random.rand(10,5))\nprint(TestDf.head())\n\nprint('\\n Get the last 10 Elements')\nprint(TestDf.tail(10))\n\nprint('\\n Get the information - ')\nprint(TestDf.info())\n\nprint('\\n Get the Summary statistics for numerical columns - ')\nprint(TestDf.describe())\n\nprint(\"\\n The 0th Column - \")\nprint(TestDf[0])\n\nprint(\"\\n Print the 0th row\")\nprint(TestDf.iloc[0])\nprint(TestDf.loc[0])\n\nprint(\"\\n Rename the columns\")\nTestDf.columns = ['A','B','C','D','E']\nprint(TestDf.columns)\nprint(TestDf.head())",
      "execution_count": null,
      "outputs": []
    },
    {
      "metadata": {
        "_cell_guid": "e83b7ac8-12dc-4407-9c8c-1adcee298426",
        "_uuid": "5f72f52152be74aa4e45956aa5d4896b8148a4ec",
        "trusted": false,
        "collapsed": true
      },
      "cell_type": "code",
      "source": "print (\"\\n Conditional Selection - \")\nprint (\"\\n Boolean DataFrame - \")\nbooleanDf = TestDf > 0\nprint (booleanDf)\nprint (\"\\n DataFrame Values less than 0.5 - \")\nprint (TestDf[TestDf['A'] < 0.5])\nprint (\"\\n Apply() Function for Dataframe - \")\nTestDf = TestDf.apply(lambda x: x + 90)\nprint(TestDf)\nprint (\"\\n Reset Index\")\nprint(TestDf.reset_index())\nprint (\"\\n Set New Index\")\nnewIndex = np.arange(11,21)\nTestDf.set_index(newIndex)\nprint(TestDf)\nprint(\"Check if there are any null values\")\nprint(TestDf.isnull())\n\nprint(\"Sort the values\")\nprint(TestDf.sort_values('A'))",
      "execution_count": null,
      "outputs": []
    },
    {
      "metadata": {
        "scrolled": true,
        "collapsed": true,
        "_cell_guid": "283e112f-d6cc-46d5-b607-116ab4e5016d",
        "_uuid": "d60ed44725f497d4df659975949f99cafba59e11",
        "trusted": false
      },
      "cell_type": "code",
      "source": "",
      "execution_count": null,
      "outputs": []
    },
    {
      "metadata": {
        "_cell_guid": "ef5aa74b-9700-4cdd-8952-b801c96c4e48",
        "_uuid": "ea666ed588cf2049ed87e59c9d64039db9d90a9a",
        "trusted": false,
        "collapsed": true
      },
      "cell_type": "code",
      "source": "# Group By Function\ndf1 = pd.DataFrame( { \n    \"Name\" : [\"Alice\", \"Bob\", \"Mallory\", \"Mallory\", \"Bob\" , \"Mallory\"] , \n    \"City\" : [\"Seattle\", \"Seattle\", \"Portland\", \"Seattle\", \"Seattle\", \"Portland\"] } )\nprint(df1)\nprint(\"\\n\")\nprint (df1.groupby([\"Name\", \"City\"]).size().reset_index(name='count'))\n",
      "execution_count": null,
      "outputs": []
    },
    {
      "metadata": {
        "_cell_guid": "133b8dd4-d90a-4598-a221-001ffef1d83d",
        "_uuid": "efdcdd2d22a274a662aec357b7b3552a95ce1c69",
        "trusted": false,
        "collapsed": true
      },
      "cell_type": "code",
      "source": "#Apply the function np.mean() across each column\nprint(Y)\nprint(Y.apply(np.mean))",
      "execution_count": null,
      "outputs": []
    },
    {
      "metadata": {
        "collapsed": true,
        "_cell_guid": "eb8f9c54-574d-4312-940e-548684658240",
        "_uuid": "d85ca41d4ec39294d61e2958ea3e578296954754",
        "trusted": false
      },
      "cell_type": "code",
      "source": "",
      "execution_count": null,
      "outputs": []
    }
  ],
  "metadata": {
    "kernelspec": {
      "display_name": "Python 3",
      "language": "python",
      "name": "python3"
    },
    "language_info": {
      "nbconvert_exporter": "python",
      "name": "python",
      "codemirror_mode": {
        "name": "ipython",
        "version": 3
      },
      "mimetype": "text/x-python",
      "pygments_lexer": "ipython3",
      "file_extension": ".py",
      "version": "3.6.4"
    }
  },
  "nbformat": 4,
  "nbformat_minor": 1
}