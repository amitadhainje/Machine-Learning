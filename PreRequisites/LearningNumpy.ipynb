{
  "cells": [
    {
      "metadata": {
        "_uuid": "fd63b7d0376055bde9f1ff08dc64a7ea4762eef5",
        "_cell_guid": "32493ea0-f4f3-41fd-bb3a-7bddac4915da",
        "trusted": true
      },
      "cell_type": "code",
      "source": "# Numpy - Numerical Python \n# Faster than Python Lists\nimport numpy as np\nnpArr = np.array([1,2,3])\n\n#Check the Type of the Object\nprint(type(npArr))\n\n# Difference between List and numpy array\nprint (\"The Numpy Array - \")\nprint(npArr)\n\n# Numpy Version of \"range\" function\nprint(\"Using ARange function with numpy\")\nprint(np.arange(0,5))\n# 0 =  starting point , 11 = End Point , 2 = Step size\nprint(np.arange(0,20,5))\n# I want 3 linearly spaced numbers between 0 to 10\nprint(\"Linearly spaced numbers between 0 to 10\")\nprint(np.linspace(0,10,50))\n\n# ADDITION WITH NUMPY ARRAYS\nprint (\"Addition with Numpy Arrays\")\nprint (npArr + 2)\nprint (npArr + npArr)\n\n# MULTIPLICATION OF NUMPY ARRAYS\nprint (\"Multiplication of Numpy Arrays - \")\nprint(npArr**2)\n\n#SQUARE ROOT OF NUMPY ARRAY\nprint(\"Square Root of Numpy array\")\nprint (np.sqrt(npArr))\n# LOG OF THE NUMPY ARRAY\nprint(\"Log of Numpy Array\")\nprint(np.log(npArr))\n# EXPONENTIAL OF A NUMPY ARRAY\nprint(\"Exponential of Numpy Array\")\nprint(np.exp(npArr))\n\n# IMPORTANT - If you want to perform all of the above functions with a List , you need to use a for loop\n# which is slow and hence numpy array are more  convenient\n\n",
      "execution_count": 2,
      "outputs": [
        {
          "output_type": "stream",
          "text": "<class 'numpy.ndarray'>\nThe Numpy Array - \n[1 2 3]\nUsing ARange function with numpy\n[0 1 2 3 4]\n[ 0  5 10 15]\nLinearly spaced numbers between 0 to 10\n[  0.           0.20408163   0.40816327   0.6122449    0.81632653\n   1.02040816   1.2244898    1.42857143   1.63265306   1.83673469\n   2.04081633   2.24489796   2.44897959   2.65306122   2.85714286\n   3.06122449   3.26530612   3.46938776   3.67346939   3.87755102\n   4.08163265   4.28571429   4.48979592   4.69387755   4.89795918\n   5.10204082   5.30612245   5.51020408   5.71428571   5.91836735\n   6.12244898   6.32653061   6.53061224   6.73469388   6.93877551\n   7.14285714   7.34693878   7.55102041   7.75510204   7.95918367\n   8.16326531   8.36734694   8.57142857   8.7755102    8.97959184\n   9.18367347   9.3877551    9.59183673   9.79591837  10.        ]\nAddition with Numpy Arrays\n[3 4 5]\n[2 4 6]\nMultiplication of Numpy Arrays - \n[1 4 9]\nSquare Root of Numpy array\n[ 1.          1.41421356  1.73205081]\nLog of Numpy Array\n[ 0.          0.69314718  1.09861229]\nExponential of Numpy Array\n[  2.71828183   7.3890561   20.08553692]\n",
          "name": "stdout"
        }
      ]
    },
    {
      "metadata": {
        "_uuid": "2cbd5e0c444026006bdb59320e9c8b76a559da06",
        "_cell_guid": "6138c666-a6b3-4341-b80d-1729b8992922",
        "trusted": true
      },
      "cell_type": "code",
      "source": "# Calculate the dot product with numpy\nA = np.array([1,2,3,4,5])\nB = np.array([7,8,9,10,11])\n\n# Using the following three ways we can calculate the dot product of numpy arrays\nprint(\"Dot product of the two arrays - \")\nprint(np.sum(A*B))\nprint((A*B).sum())\n# Numpy has an in-built function for the dot product of array\nprint(np.dot(A,B))\n# dot function is an instance method of numpy array. Hence we can use the given method also\nprint(A.dot(B))",
      "execution_count": 3,
      "outputs": [
        {
          "output_type": "stream",
          "text": "Dot product of the two arrays - \n145\n145\n145\n145\n",
          "name": "stdout"
        }
      ]
    },
    {
      "metadata": {
        "_uuid": "5c9fa4d9d05659c8fdc28158769a3e9fc565fdf1",
        "_cell_guid": "18848074-2a17-405b-96af-01628cdb29e2",
        "trusted": true
      },
      "cell_type": "code",
      "source": "# Find out the cosine between two vectors\nmagnitude = np.sqrt( (A*A).sum())\nprint (magnitude)\nprint (np.linalg.norm(A))\n\ncosangle = A.dot(B) / ( np.linalg.norm(A) * np.linalg.norm(B))\nprint (cosangle)\n\nangle = np.arccos(cosangle)\nprint (angle)",
      "execution_count": 4,
      "outputs": [
        {
          "output_type": "stream",
          "text": "7.4161984871\n7.4161984871\n0.959759918866\n0.284650285298\n",
          "name": "stdout"
        }
      ]
    },
    {
      "metadata": {
        "_uuid": "c3afb7519f580c6af32d337af14e0ee5d5f2d80c",
        "_cell_guid": "71ac080e-142c-4aa2-97b3-6100257e9d24",
        "trusted": true
      },
      "cell_type": "code",
      "source": "# Matrix is a 2-dimensional Array\n# First index of both the lists is a row and second is the column\nM = np.array([[1,2], [3,4]])\n\n# Printing the elements of the 2-D Numpy Array\nprint (M[0,0])\n\n# Declare a matrix\nM2 = np.matrix([ [1,2], [3,4]])\nprint (M2)\nA1 = np.array(M2)\nprint (A1)\n#Declare an Identity Matrix\nprint(np.eye(3))",
      "execution_count": 5,
      "outputs": [
        {
          "output_type": "stream",
          "text": "1\n[[1 2]\n [3 4]]\n[[1 2]\n [3 4]]\n[[ 1.  0.  0.]\n [ 0.  1.  0.]\n [ 0.  0.  1.]]\n",
          "name": "stdout"
        }
      ]
    },
    {
      "metadata": {
        "_uuid": "03b451f5f988939fb80629301d5bc17b80980f0f",
        "_cell_guid": "af9e5bf1-490c-483b-b51a-2ea614af44fb",
        "trusted": true
      },
      "cell_type": "code",
      "source": "# Create an vector of lenght = 10 and containing all zeros\nprint (np.zeros(10))\n\n# Create an 2D matrix of zeros\nprint (np.zeros((10,10)))\n\n# Create an 2D matrix of ones\nprint (np.ones((10,10)))\n\n# Create an 2D matrix of random numbers\n# This \"random\" function gives us uniformly distributed values between '0' and '1'\nprint (np.random.random((10,10)))\n\n# Create an 2D matrix of random numbers using gaussian distribution\n# These numbers have mean = 0 and variance = 1\nG = np.random.randn(10,10)\nprint(G)\nprint (\"The mean - \")\nprint(G.mean())\nprint (\"The variance - \")\nprint(G.var())\n",
      "execution_count": 6,
      "outputs": [
        {
          "output_type": "stream",
          "text": "[ 0.  0.  0.  0.  0.  0.  0.  0.  0.  0.]\n[[ 0.  0.  0.  0.  0.  0.  0.  0.  0.  0.]\n [ 0.  0.  0.  0.  0.  0.  0.  0.  0.  0.]\n [ 0.  0.  0.  0.  0.  0.  0.  0.  0.  0.]\n [ 0.  0.  0.  0.  0.  0.  0.  0.  0.  0.]\n [ 0.  0.  0.  0.  0.  0.  0.  0.  0.  0.]\n [ 0.  0.  0.  0.  0.  0.  0.  0.  0.  0.]\n [ 0.  0.  0.  0.  0.  0.  0.  0.  0.  0.]\n [ 0.  0.  0.  0.  0.  0.  0.  0.  0.  0.]\n [ 0.  0.  0.  0.  0.  0.  0.  0.  0.  0.]\n [ 0.  0.  0.  0.  0.  0.  0.  0.  0.  0.]]\n[[ 1.  1.  1.  1.  1.  1.  1.  1.  1.  1.]\n [ 1.  1.  1.  1.  1.  1.  1.  1.  1.  1.]\n [ 1.  1.  1.  1.  1.  1.  1.  1.  1.  1.]\n [ 1.  1.  1.  1.  1.  1.  1.  1.  1.  1.]\n [ 1.  1.  1.  1.  1.  1.  1.  1.  1.  1.]\n [ 1.  1.  1.  1.  1.  1.  1.  1.  1.  1.]\n [ 1.  1.  1.  1.  1.  1.  1.  1.  1.  1.]\n [ 1.  1.  1.  1.  1.  1.  1.  1.  1.  1.]\n [ 1.  1.  1.  1.  1.  1.  1.  1.  1.  1.]\n [ 1.  1.  1.  1.  1.  1.  1.  1.  1.  1.]]\n[[ 0.84394088  0.649796    0.98338538  0.12631841  0.97723155  0.37552882\n   0.11606952  0.62384787  0.11802751  0.9492893 ]\n [ 0.90361512  0.59723203  0.88639234  0.9952918   0.91624078  0.86239685\n   0.23346641  0.61886394  0.6301452   0.62505942]\n [ 0.41434155  0.98493016  0.40599131  0.43432349  0.14614427  0.59309758\n   0.72979114  0.91216758  0.72520134  0.18857858]\n [ 0.53397834  0.70150346  0.49843844  0.16226248  0.4611922   0.70048575\n   0.41333475  0.69045243  0.34171398  0.22360964]\n [ 0.45752888  0.84299578  0.30165589  0.2035976   0.7724186   0.05949424\n   0.32090525  0.28077246  0.18515495  0.9912039 ]\n [ 0.95646225  0.05737738  0.91612591  0.36225016  0.34834498  0.59994169\n   0.90671846  0.78176735  0.56860535  0.04452766]\n [ 0.28874163  0.11105627  0.35515966  0.09228935  0.24583679  0.15158195\n   0.11513866  0.21922785  0.80795049  0.61223821]\n [ 0.01416124  0.87663589  0.59629823  0.03126661  0.86250666  0.1747649\n   0.66270055  0.81706386  0.43740547  0.48251291]\n [ 0.70315849  0.39854099  0.0350641   0.40709874  0.22206347  0.62765146\n   0.99229201  0.79673904  0.73288626  0.13007267]\n [ 0.58621745  0.22263742  0.38713489  0.34833978  0.80806624  0.82901142\n   0.92660824  0.66959934  0.68072184  0.64788522]]\n[[ 0.127522   -1.09002097 -0.14166657  0.83054048  0.80291641 -0.36285871\n   0.73587261  1.04540899  1.54626652  0.81836985]\n [ 1.11038654 -0.52557133  0.37107137 -0.57200611  0.06587933  1.05568769\n  -0.9303705   0.48095411 -0.19994495  0.60188863]\n [ 0.42055839 -1.24331355 -0.14192051  0.68360003  0.00602896 -0.28703248\n   0.90253687  0.24934446  0.58707878  0.57772912]\n [ 1.10890342  0.62165528 -1.77629326 -1.9918888  -0.65063672 -1.87974943\n   1.09855413  0.18508783  2.34758003 -0.95389651]\n [-0.88962222 -0.30100903 -0.37633202 -1.29284248  0.06766514  0.56072768\n  -1.12988797  0.814488    0.47423682  0.60406023]\n [-0.35440945 -1.19974391 -1.67792542  1.60271888  1.75512803  0.06916982\n  -0.04607093  0.86290312 -0.35818976 -0.38181277]\n [ 2.34799545 -2.0104855  -0.17976987  0.46660586  0.75828943  0.72901781\n  -1.05755015  0.26034317 -0.55220602 -1.56996787]\n [ 0.49281406 -0.43670374  0.94903419  0.98625777 -1.85432303  0.73069607\n   0.07190568  0.12588715  1.54375628 -2.11692634]\n [ 0.1257941  -0.31705161  0.12858308  1.30603636  0.84785379 -0.70276472\n  -0.34152153  1.62444982 -1.47032557 -0.35158074]\n [ 0.91250681  1.05165935  0.04532815  0.25685752 -0.92543897 -0.33482844\n  -0.95772969 -0.2109261   0.02549076 -0.78859124]]\nThe mean - \n0.0404597471316\nThe variance - \n0.933030599113\n",
          "name": "stdout"
        }
      ]
    },
    {
      "metadata": {
        "_uuid": "8581771ef1fd505fdd92613bb956838ac82f30b7",
        "_cell_guid": "f86e763e-b573-48f9-9b52-b81baa5ecd5f",
        "trusted": true
      },
      "cell_type": "code",
      "source": "# Calculate a Matrix Inverse\n#A2 = np.array([[1,2,3],[4,5,6],[7,8,9]])\n#A2 = np.array([[10,12],[13,14]])\nA2 = np.array([[1,2],[3,4]])\nAInv = np.linalg.inv(A2)\nprint(AInv)\n\n# Get the Identity Matrix\nIdentityMat = A2.dot(AInv) \nprint(IdentityMat)\n\n# get a determinant of a matrix\nMatDet = np.linalg.det(A2)\nprint (MatDet)\n\n# Get the diagonal elements of matrix\nprint(np.diag(A2))\n\n# Get daigonal elements of a vector\nprint(np.diag([1,2]))",
      "execution_count": 7,
      "outputs": [
        {
          "output_type": "stream",
          "text": "[[-2.   1. ]\n [ 1.5 -0.5]]\n[[  1.00000000e+00   1.11022302e-16]\n [  0.00000000e+00   1.00000000e+00]]\n-2.0\n[1 4]\n[[1 0]\n [0 2]]\n",
          "name": "stdout"
        }
      ]
    },
    {
      "metadata": {
        "_uuid": "8988f1362c7efc1081acbfa5b8cabc2f173ffe94",
        "_cell_guid": "29669f88-5733-4a1d-931a-5a645f2c9d6a",
        "trusted": true
      },
      "cell_type": "code",
      "source": "C = np.array([10,11])\nD = np.array([12,13])\n\n# The outer product of above two vectors is as follows:\nMatOuter = np.outer(C,D)\nprint(np.outer(C,D))\n\n# The inner product\nprint(np.inner(C,D))\n\n# Matrix Trace - Sum of the diagonal elements of a matrix\nprint(np.diag(MatOuter).sum())\nprint(np.trace(MatOuter))",
      "execution_count": 8,
      "outputs": [
        {
          "output_type": "stream",
          "text": "[[120 130]\n [132 143]]\n263\n263\n263\n",
          "name": "stdout"
        }
      ]
    },
    {
      "metadata": {
        "_uuid": "971f403a8fadce7daf30f7fca03b0d8f99fdfb5a",
        "_cell_guid": "0f1c6933-e92f-4907-8330-36513b3adb50",
        "trusted": true
      },
      "cell_type": "code",
      "source": "# EigenValues and EigenVectors\n# the given array has 100 samples and 3 features\nX = np.random.randn(100,3)\n\n# Covariance of X\ncov = np.cov(X.T)\nprint(cov.shape)\nprint(cov)\n\n# Find Eigenvalues and EigenVectors\nprint(np.linalg.eigh(cov))\nprint(np.linalg.eig(cov))",
      "execution_count": 9,
      "outputs": [
        {
          "output_type": "stream",
          "text": "(3, 3)\n[[ 1.14733487 -0.04973489 -0.02068318]\n [-0.04973489  0.9914336   0.03474246]\n [-0.02068318  0.03474246  1.07535974]]\n(array([ 0.96942857,  1.07334344,  1.1713562 ]), array([[ 0.23144226,  0.36705188, -0.90094805],\n       [ 0.93688189,  0.16539193,  0.30805493],\n       [-0.26208168,  0.91537884,  0.30560558]]))\n(array([ 1.1713562 ,  0.96942857,  1.07334344]), array([[-0.90094805,  0.23144226,  0.36705188],\n       [ 0.30805493,  0.93688189,  0.16539193],\n       [ 0.30560558, -0.26208168,  0.91537884]]))\n",
          "name": "stdout"
        }
      ]
    },
    {
      "metadata": {
        "_uuid": "45aacdf44eabdb6b9fa29506bd218e00b802ca5f",
        "_cell_guid": "d47167da-111f-4d90-925e-a06132360b4b",
        "trusted": true
      },
      "cell_type": "code",
      "source": "# Solving a Linear System\n# Ax = b , where A = Matrix , x= column vector and b = vector of numbers\nA3 = np.array([[1,2],[3,4]])\nB3 = np.array([1,2])\n\n# Solution is as follows\nprint(np.linalg.solve(A3 , B3))",
      "execution_count": 10,
      "outputs": [
        {
          "output_type": "stream",
          "text": "[ 0.   0.5]\n",
          "name": "stdout"
        }
      ]
    },
    {
      "metadata": {
        "_uuid": "cb1330c42fff8845ffc7e0b37732b372aca674bf",
        "_cell_guid": "34c01adc-45d6-4337-86c5-6753975d2e54",
        "trusted": true
      },
      "cell_type": "code",
      "source": "# The admission fee at a samll fair is $1.50 for children and $4.00 for adult. One a day , 2200 people\n#visisted the fair and $5050 amount was collected. How many childrena and how many adults?\n# X1 = number of children and X2 = number of adults\n# X1 + X2 = 2200\n# 1.5X1 + 4X2 = 5050\n# Lets solve using numpy \nAD = np.array([[1,1], [1.5,4]])\nCD = np.array([2200,5050])\n\nprint(np.linalg.solve(AD, CD))\n# 1500 children\n# 700 Adults",
      "execution_count": 11,
      "outputs": [
        {
          "output_type": "stream",
          "text": "[ 1500.   700.]\n",
          "name": "stdout"
        }
      ]
    },
    {
      "metadata": {
        "_uuid": "e10ad6ed7d9cfa4dff53fe4fa8785ae78dde7dc4",
        "_cell_guid": "3041f1c5-c980-4b13-b4f2-2e477f919639",
        "trusted": true
      },
      "cell_type": "code",
      "source": "# Reshape the Array\nX = np.arange(25)\nprint (X)\nprint (X.reshape(5,5))\n#Max number in array\nprint (\"The max in the array and the index\")\nprint (X.max())\nprint (X.argmax())\n\n#Max number in array\nprint (\"The min in the array and the index\")\nprint (X.min())\nprint (X.argmin())",
      "execution_count": 12,
      "outputs": [
        {
          "output_type": "stream",
          "text": "[ 0  1  2  3  4  5  6  7  8  9 10 11 12 13 14 15 16 17 18 19 20 21 22 23 24]\n[[ 0  1  2  3  4]\n [ 5  6  7  8  9]\n [10 11 12 13 14]\n [15 16 17 18 19]\n [20 21 22 23 24]]\nThe max in the array and the index\n24\n24\nThe min in the array and the index\n0\n0\n",
          "name": "stdout"
        }
      ]
    },
    {
      "metadata": {
        "_uuid": "8bb444fc8c0314bb61c32380851f819275c5bcf8",
        "collapsed": true,
        "_cell_guid": "7375fe62-da57-4535-a342-5e3d05fa0034",
        "trusted": false
      },
      "cell_type": "code",
      "source": "",
      "execution_count": null,
      "outputs": []
    }
  ],
  "metadata": {
    "language_info": {
      "name": "python",
      "version": "3.6.4",
      "mimetype": "text/x-python",
      "codemirror_mode": {
        "name": "ipython",
        "version": 3
      },
      "pygments_lexer": "ipython3",
      "nbconvert_exporter": "python",
      "file_extension": ".py"
    },
    "kernelspec": {
      "display_name": "Python 3",
      "language": "python",
      "name": "python3"
    }
  },
  "nbformat": 4,
  "nbformat_minor": 1
}