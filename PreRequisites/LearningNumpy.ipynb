{
  "cells": [
    {
      "metadata": {
        "_uuid": "fd63b7d0376055bde9f1ff08dc64a7ea4762eef5",
        "_cell_guid": "32493ea0-f4f3-41fd-bb3a-7bddac4915da",
        "trusted": true
      },
      "cell_type": "code",
      "source": "# Numpy - Numerical Python \n# Faster than Python Lists\nimport numpy as np\nnpArr = np.array([1,2,3])\n\n#Check the Type of the Object\nprint(type(npArr))\n\n# Difference between List and numpy array\nprint (\"The Numpy Array - \")\nprint(npArr)\n\n# Numpy Version of \"range\" function\nprint(\"Using ARange function with numpy\")\nprint(np.arange(0,5))\n# 0 =  starting point , 11 = End Point , 2 = Step size\nprint(np.arange(0,20,5))\n# I want 3 linearly spaced numbers between 0 to 10\nprint(\"Linearly spaced numbers between 0 to 10\")\nprint(np.linspace(0,10,50))\n\n# ADDITION WITH NUMPY ARRAYS\nprint (\"Addition with Numpy Arrays\")\nprint (npArr + 2)\nprint (npArr + npArr)\n\n# MULTIPLICATION OF NUMPY ARRAYS\nprint (\"Multiplication of Numpy Arrays - \")\nprint(npArr**2)\n\n#SQUARE ROOT OF NUMPY ARRAY\nprint(\"Square Root of Numpy array\")\nprint (np.sqrt(npArr))\n# LOG OF THE NUMPY ARRAY\nprint(\"Log of Numpy Array\")\nprint(np.log(npArr))\n# EXPONENTIAL OF A NUMPY ARRAY\nprint(\"Exponential of Numpy Array\")\nprint(np.exp(npArr))\n\n# IMPORTANT - If you want to perform all of the above functions with a List , you need to use a for loop\n# which is slow and hence numpy array are more  convenient\n\n",
      "execution_count": 1,
      "outputs": [
        {
          "output_type": "stream",
          "text": "<class 'numpy.ndarray'>\nThe Numpy Array - \n[1 2 3]\nUsing ARange function with numpy\n[0 1 2 3 4]\n[ 0  5 10 15]\nLinearly spaced numbers between 0 to 10\n[  0.           0.20408163   0.40816327   0.6122449    0.81632653\n   1.02040816   1.2244898    1.42857143   1.63265306   1.83673469\n   2.04081633   2.24489796   2.44897959   2.65306122   2.85714286\n   3.06122449   3.26530612   3.46938776   3.67346939   3.87755102\n   4.08163265   4.28571429   4.48979592   4.69387755   4.89795918\n   5.10204082   5.30612245   5.51020408   5.71428571   5.91836735\n   6.12244898   6.32653061   6.53061224   6.73469388   6.93877551\n   7.14285714   7.34693878   7.55102041   7.75510204   7.95918367\n   8.16326531   8.36734694   8.57142857   8.7755102    8.97959184\n   9.18367347   9.3877551    9.59183673   9.79591837  10.        ]\nAddition with Numpy Arrays\n[3 4 5]\n[2 4 6]\nMultiplication of Numpy Arrays - \n[1 4 9]\nSquare Root of Numpy array\n[ 1.          1.41421356  1.73205081]\nLog of Numpy Array\n[ 0.          0.69314718  1.09861229]\nExponential of Numpy Array\n[  2.71828183   7.3890561   20.08553692]\n",
          "name": "stdout"
        }
      ]
    },
    {
      "metadata": {
        "_uuid": "2cbd5e0c444026006bdb59320e9c8b76a559da06",
        "_cell_guid": "6138c666-a6b3-4341-b80d-1729b8992922",
        "trusted": true
      },
      "cell_type": "code",
      "source": "# Calculate the dot product with numpy\nA = np.array([1,2,3,4,5])\nB = np.array([7,8,9,10,11])\n\n# Using the following three ways we can calculate the dot product of numpy arrays\nprint(\"Dot product of the two arrays - \")\nprint(np.sum(A*B))\nprint((A*B).sum())\n# Numpy has an in-built function for the dot product of array\nprint(np.dot(A,B))\n# dot function is an instance method of numpy array. Hence we can use the given method also\nprint(A.dot(B))",
      "execution_count": 2,
      "outputs": [
        {
          "output_type": "stream",
          "text": "Dot product of the two arrays - \n145\n145\n145\n145\n",
          "name": "stdout"
        }
      ]
    },
    {
      "metadata": {
        "_uuid": "5c9fa4d9d05659c8fdc28158769a3e9fc565fdf1",
        "_cell_guid": "18848074-2a17-405b-96af-01628cdb29e2",
        "trusted": true
      },
      "cell_type": "code",
      "source": "# Find out the cosine between two vectors\nmagnitude = np.sqrt( (A*A).sum())\nprint (magnitude)\nprint (np.linalg.norm(A))\n\ncosangle = A.dot(B) / ( np.linalg.norm(A) * np.linalg.norm(B))\nprint (cosangle)\n\nangle = np.arccos(cosangle)\nprint (angle)",
      "execution_count": 3,
      "outputs": [
        {
          "output_type": "stream",
          "text": "7.4161984871\n7.4161984871\n0.959759918866\n0.284650285298\n",
          "name": "stdout"
        }
      ]
    },
    {
      "metadata": {
        "_uuid": "c3afb7519f580c6af32d337af14e0ee5d5f2d80c",
        "_cell_guid": "71ac080e-142c-4aa2-97b3-6100257e9d24",
        "trusted": true
      },
      "cell_type": "code",
      "source": "# Matrix is a 2-dimensional Array\n# First index of both the lists is a row and second is the column\nM = np.array([[1,2], [3,4]])\n\n# Printing the elements of the 2-D Numpy Array\nprint (M[0,0])\n\n# Declare a matrix\nM2 = np.matrix([ [1,2], [3,4]])\nprint (M2)\nA1 = np.array(M2)\nprint (A1)\n#Declare an Identity Matrix\nprint(np.eye(3))",
      "execution_count": 4,
      "outputs": [
        {
          "output_type": "stream",
          "text": "1\n[[1 2]\n [3 4]]\n[[1 2]\n [3 4]]\n[[ 1.  0.  0.]\n [ 0.  1.  0.]\n [ 0.  0.  1.]]\n",
          "name": "stdout"
        }
      ]
    },
    {
      "metadata": {
        "_uuid": "03b451f5f988939fb80629301d5bc17b80980f0f",
        "_cell_guid": "af9e5bf1-490c-483b-b51a-2ea614af44fb",
        "trusted": true
      },
      "cell_type": "code",
      "source": "# Create an vector of lenght = 10 and containing all zeros\nprint (np.zeros(10))\n\n# Create an 2D matrix of zeros\nprint (np.zeros((10,10)))\n\n# Create an 2D matrix of ones\nprint (np.ones((10,10)))\n\n# Create an 2D matrix of random numbers\n# This \"random\" function gives us uniformly distributed values between '0' and '1'\nprint (np.random.random((10,10)))\n\n# Create an 2D matrix of random numbers using gaussian distribution\n# These numbers have mean = 0 and variance = 1\nG = np.random.randn(10,10)\nprint(G)\nprint (\"The mean - \")\nprint(G.mean())\nprint (\"The variance - \")\nprint(G.var())\n",
      "execution_count": 5,
      "outputs": [
        {
          "output_type": "stream",
          "text": "[ 0.  0.  0.  0.  0.  0.  0.  0.  0.  0.]\n[[ 0.  0.  0.  0.  0.  0.  0.  0.  0.  0.]\n [ 0.  0.  0.  0.  0.  0.  0.  0.  0.  0.]\n [ 0.  0.  0.  0.  0.  0.  0.  0.  0.  0.]\n [ 0.  0.  0.  0.  0.  0.  0.  0.  0.  0.]\n [ 0.  0.  0.  0.  0.  0.  0.  0.  0.  0.]\n [ 0.  0.  0.  0.  0.  0.  0.  0.  0.  0.]\n [ 0.  0.  0.  0.  0.  0.  0.  0.  0.  0.]\n [ 0.  0.  0.  0.  0.  0.  0.  0.  0.  0.]\n [ 0.  0.  0.  0.  0.  0.  0.  0.  0.  0.]\n [ 0.  0.  0.  0.  0.  0.  0.  0.  0.  0.]]\n[[ 1.  1.  1.  1.  1.  1.  1.  1.  1.  1.]\n [ 1.  1.  1.  1.  1.  1.  1.  1.  1.  1.]\n [ 1.  1.  1.  1.  1.  1.  1.  1.  1.  1.]\n [ 1.  1.  1.  1.  1.  1.  1.  1.  1.  1.]\n [ 1.  1.  1.  1.  1.  1.  1.  1.  1.  1.]\n [ 1.  1.  1.  1.  1.  1.  1.  1.  1.  1.]\n [ 1.  1.  1.  1.  1.  1.  1.  1.  1.  1.]\n [ 1.  1.  1.  1.  1.  1.  1.  1.  1.  1.]\n [ 1.  1.  1.  1.  1.  1.  1.  1.  1.  1.]\n [ 1.  1.  1.  1.  1.  1.  1.  1.  1.  1.]]\n[[ 0.18573809  0.72885182  0.05743494  0.7271146   0.11929232  0.35767458\n   0.10191229  0.47477293  0.81132953  0.9151904 ]\n [ 0.10368872  0.8542095   0.58326953  0.35402069  0.19184466  0.60550445\n   0.07542459  0.81143268  0.64256012  0.9939766 ]\n [ 0.34259417  0.12119365  0.37153032  0.88026445  0.08922675  0.59181303\n   0.56271079  0.98787587  0.47555286  0.34447884]\n [ 0.58870974  0.76249683  0.8751424   0.69449333  0.16865893  0.72197876\n   0.6810037   0.10485659  0.03051136  0.66105134]\n [ 0.7478055   0.98241382  0.58190444  0.77847275  0.62141736  0.6624792\n   0.85197933  0.03755642  0.55343594  0.54056267]\n [ 0.55732289  0.71913566  0.88750275  0.4085306   0.73711516  0.04474521\n   0.16814126  0.88033603  0.30883541  0.05764818]\n [ 0.56254097  0.15152914  0.09014446  0.10457696  0.71495421  0.65141725\n   0.92109359  0.05346574  0.76247376  0.56192582]\n [ 0.22197593  0.57173435  0.27628293  0.35746021  0.27063416  0.08223558\n   0.36261187  0.95524816  0.92861412  0.13048162]\n [ 0.36143635  0.76763902  0.077341    0.85448671  0.58722352  0.24785239\n   0.85616795  0.66646518  0.73567864  0.34497753]\n [ 0.1082137   0.39333711  0.9307314   0.68776687  0.24913275  0.41833229\n   0.48103829  0.52480977  0.16110557  0.55432708]]\n[[-0.68206001  0.82526982  0.03149136 -0.10068972  0.58529364  0.96599565\n  -1.34253353 -1.05205709 -0.94010104  0.94481691]\n [-1.88473837  1.26328814 -0.44968747  0.83923599  0.58445914 -0.40896917\n  -0.81265412  1.31595576 -0.72633857  0.88500789]\n [-0.03259612 -2.26479385  0.57227979 -1.59327413  1.68670161 -0.09940663\n   0.95072982 -0.87955652 -0.90244718  1.00788383]\n [ 0.12355052  0.44507704  0.7457949   1.02949321 -0.82032724  0.25727212\n   1.06012901  0.73741696 -0.18056028 -0.39187577]\n [-1.36713289  1.00365702  1.33149257 -0.18215585 -0.44380594 -0.29062766\n  -1.71557431  0.23916344  0.50891439 -2.73932685]\n [ 1.17743243  0.2861669   1.73009331  0.07779958  1.28916308  0.46328914\n   1.28082204  1.42264493 -1.02872153 -0.31562201]\n [ 0.74873741 -0.93210669 -1.34325335 -0.51953381 -0.5368271  -1.40239344\n   1.26679986 -0.01864012 -0.09565564 -1.21049427]\n [-1.2820994   0.75472439 -0.96017714  0.25111878  0.05134788 -1.1543648\n  -1.87510249 -1.03279427 -0.5363885  -0.25903635]\n [-0.41861514 -0.69958694  0.62074186  2.4175971  -0.34254671  0.59027742\n  -0.92421774  0.51994271 -1.53403574 -0.84463326]\n [ 0.70777695  1.09461232 -2.212401   -0.18524514 -0.44972417  0.00531993\n   0.19416214 -0.69033161  1.19164233 -0.42209026]]\nThe mean - \n-0.0744734589331\nThe variance - \n1.01309355584\n",
          "name": "stdout"
        }
      ]
    },
    {
      "metadata": {
        "_uuid": "8581771ef1fd505fdd92613bb956838ac82f30b7",
        "_cell_guid": "f86e763e-b573-48f9-9b52-b81baa5ecd5f",
        "trusted": true
      },
      "cell_type": "code",
      "source": "# Calculate a Matrix Inverse\n#A2 = np.array([[1,2,3],[4,5,6],[7,8,9]])\n#A2 = np.array([[10,12],[13,14]])\nA2 = np.array([[1,2],[3,4]])\nAInv = np.linalg.inv(A2)\nprint(AInv)\n\n# Get the Identity Matrix\nIdentityMat = A2.dot(AInv) \nprint(IdentityMat)\n\n# get a determinant of a matrix\nMatDet = np.linalg.det(A2)\nprint (MatDet)\n\n# Get the diagonal elements of matrix\nprint(np.diag(A2))\n\n# Get daigonal elements of a vector\nprint(np.diag([1,2]))",
      "execution_count": 6,
      "outputs": [
        {
          "output_type": "stream",
          "text": "[[-2.   1. ]\n [ 1.5 -0.5]]\n[[  1.00000000e+00   1.11022302e-16]\n [  0.00000000e+00   1.00000000e+00]]\n-2.0\n[1 4]\n[[1 0]\n [0 2]]\n",
          "name": "stdout"
        }
      ]
    },
    {
      "metadata": {
        "_uuid": "8988f1362c7efc1081acbfa5b8cabc2f173ffe94",
        "_cell_guid": "29669f88-5733-4a1d-931a-5a645f2c9d6a",
        "trusted": true
      },
      "cell_type": "code",
      "source": "C = np.array([10,11])\nD = np.array([12,13])\n\n# The outer product of above two vectors is as follows:\nMatOuter = np.outer(C,D)\nprint(np.outer(C,D))\n\n# The inner product\nprint(np.inner(C,D))\n\n# Matrix Trace - Sum of the diagonal elements of a matrix\nprint(np.diag(MatOuter).sum())\nprint(np.trace(MatOuter))",
      "execution_count": 7,
      "outputs": [
        {
          "output_type": "stream",
          "text": "[[120 130]\n [132 143]]\n263\n263\n263\n",
          "name": "stdout"
        }
      ]
    },
    {
      "metadata": {
        "_uuid": "971f403a8fadce7daf30f7fca03b0d8f99fdfb5a",
        "_cell_guid": "0f1c6933-e92f-4907-8330-36513b3adb50",
        "trusted": true
      },
      "cell_type": "code",
      "source": "# EigenValues and EigenVectors\n# the given array has 100 samples and 3 features\nX = np.random.randn(100,3)\n\n# Covariance of X\ncov = np.cov(X.T)\nprint(cov.shape)\nprint(cov)\n\n# Find Eigenvalues and EigenVectors\nprint(np.linalg.eigh(cov))\nprint(np.linalg.eig(cov))",
      "execution_count": 8,
      "outputs": [
        {
          "output_type": "stream",
          "text": "(3, 3)\n[[ 0.86929866 -0.14594762  0.09357235]\n [-0.14594762  1.04311799  0.14672593]\n [ 0.09357235  0.14672593  1.19421479]]\n(array([ 0.73306884,  1.08981579,  1.2837468 ]), array([[ 0.78626459, -0.61777263,  0.01204028],\n       [ 0.52460607,  0.6777296 ,  0.51523883],\n       [-0.3264605 , -0.39879765,  0.85696206]]))\n(array([ 0.73306884,  1.08981579,  1.2837468 ]), array([[-0.78626459, -0.61777263,  0.01204028],\n       [-0.52460607,  0.6777296 ,  0.51523883],\n       [ 0.3264605 , -0.39879765,  0.85696206]]))\n",
          "name": "stdout"
        }
      ]
    },
    {
      "metadata": {
        "_uuid": "45aacdf44eabdb6b9fa29506bd218e00b802ca5f",
        "_cell_guid": "d47167da-111f-4d90-925e-a06132360b4b",
        "trusted": true
      },
      "cell_type": "code",
      "source": "# Solving a Linear System\n# Ax = b , where A = Matrix , x= column vector and b = vector of numbers\nA3 = np.array([[1,2],[3,4]])\nB3 = np.array([1,2])\n\n# Solution is as follows\nprint(np.linalg.solve(A3 , B3))",
      "execution_count": 9,
      "outputs": [
        {
          "output_type": "stream",
          "text": "[ 0.   0.5]\n",
          "name": "stdout"
        }
      ]
    },
    {
      "metadata": {
        "_uuid": "cb1330c42fff8845ffc7e0b37732b372aca674bf",
        "_cell_guid": "34c01adc-45d6-4337-86c5-6753975d2e54",
        "trusted": true
      },
      "cell_type": "code",
      "source": "# The admission fee at a samll fair is $1.50 for children and $4.00 for adult. One a day , 2200 people\n#visisted the fair and $5050 amount was collected. How many childrena and how many adults?\n# X1 = number of children and X2 = number of adults\n# X1 + X2 = 2200\n# 1.5X1 + 4X2 = 5050\n# Lets solve using numpy \nAD = np.array([[1,1], [1.5,4]])\nCD = np.array([2200,5050])\n\nprint(np.linalg.solve(AD, CD))\n# 1500 children\n# 700 Adults",
      "execution_count": 10,
      "outputs": [
        {
          "output_type": "stream",
          "text": "[ 1500.   700.]\n",
          "name": "stdout"
        }
      ]
    },
    {
      "metadata": {
        "_uuid": "e10ad6ed7d9cfa4dff53fe4fa8785ae78dde7dc4",
        "collapsed": true,
        "_cell_guid": "3041f1c5-c980-4b13-b4f2-2e477f919639",
        "trusted": false
      },
      "cell_type": "code",
      "source": "",
      "execution_count": null,
      "outputs": []
    }
  ],
  "metadata": {
    "kernelspec": {
      "display_name": "Python 3",
      "language": "python",
      "name": "python3"
    },
    "language_info": {
      "name": "python",
      "version": "3.6.4",
      "mimetype": "text/x-python",
      "codemirror_mode": {
        "name": "ipython",
        "version": 3
      },
      "pygments_lexer": "ipython3",
      "nbconvert_exporter": "python",
      "file_extension": ".py"
    }
  },
  "nbformat": 4,
  "nbformat_minor": 1
}