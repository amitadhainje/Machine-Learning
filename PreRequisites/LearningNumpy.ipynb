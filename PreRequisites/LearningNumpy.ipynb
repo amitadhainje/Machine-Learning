{
  "cells": [
    {
      "metadata": {
        "_uuid": "fd63b7d0376055bde9f1ff08dc64a7ea4762eef5",
        "_cell_guid": "32493ea0-f4f3-41fd-bb3a-7bddac4915da",
        "trusted": false,
        "collapsed": true
      },
      "cell_type": "code",
      "source": "# Numpy - Numerical Python \n# Faster than Python Lists\nimport numpy as np\nnpArr = np.array([1,2,3])\n\n#Check the Type of the Object\nprint(type(npArr))\n\n# Difference between List and numpy array\nprint (\"The Numpy Array - \")\nprint(npArr)\n\n# Numpy Version of \"range\" function\nprint(\"Using ARange function with numpy\")\nprint(np.arange(0,5))\n# 0 =  starting point , 11 = End Point , 2 = Step size\nprint(np.arange(0,20,5))\n# I want 3 linearly spaced numbers between 0 to 10\nprint(\"Linearly spaced numbers between 0 to 10\")\nprint(np.linspace(0,10,50))\n\n# ADDITION WITH NUMPY ARRAYS\nprint (\"Addition with Numpy Arrays\")\nprint (npArr + 2)\nprint (npArr + npArr)\n\n# MULTIPLICATION OF NUMPY ARRAYS\nprint (\"Multiplication of Numpy Arrays - \")\nprint(npArr**2)\n\n#SQUARE ROOT OF NUMPY ARRAY\nprint(\"Square Root of Numpy array\")\nprint (np.sqrt(npArr))\n# LOG OF THE NUMPY ARRAY\nprint(\"Log of Numpy Array\")\nprint(np.log(npArr))\n# EXPONENTIAL OF A NUMPY ARRAY\nprint(\"Exponential of Numpy Array\")\nprint(np.exp(npArr))\n\n# IMPORTANT - If you want to perform all of the above functions with a List , you need to use a for loop\n# which is slow and hence numpy array are more  convenient\n\n",
      "execution_count": null,
      "outputs": []
    },
    {
      "metadata": {
        "_uuid": "2cbd5e0c444026006bdb59320e9c8b76a559da06",
        "_cell_guid": "6138c666-a6b3-4341-b80d-1729b8992922",
        "trusted": false,
        "collapsed": true
      },
      "cell_type": "code",
      "source": "# Calculate the dot product with numpy\nA = np.array([1,2,3,4,5])\nB = np.array([7,8,9,10,11])\n\n# Using the following three ways we can calculate the dot product of numpy arrays\nprint(\"Dot product of the two arrays - \")\nprint(np.sum(A*B))\nprint((A*B).sum())\n# Numpy has an in-built function for the dot product of array\nprint(np.dot(A,B))\n# dot function is an instance method of numpy array. Hence we can use the given method also\nprint(A.dot(B))",
      "execution_count": null,
      "outputs": []
    },
    {
      "metadata": {
        "_uuid": "5c9fa4d9d05659c8fdc28158769a3e9fc565fdf1",
        "_cell_guid": "18848074-2a17-405b-96af-01628cdb29e2",
        "trusted": false,
        "collapsed": true
      },
      "cell_type": "code",
      "source": "# Find out the cosine between two vectors\nmagnitude = np.sqrt( (A*A).sum())\nprint (magnitude)\nprint (np.linalg.norm(A))\n\ncosangle = A.dot(B) / ( np.linalg.norm(A) * np.linalg.norm(B))\nprint (cosangle)\n\nangle = np.arccos(cosangle)\nprint (angle)",
      "execution_count": null,
      "outputs": []
    },
    {
      "metadata": {
        "_uuid": "c3afb7519f580c6af32d337af14e0ee5d5f2d80c",
        "_cell_guid": "71ac080e-142c-4aa2-97b3-6100257e9d24",
        "trusted": false,
        "collapsed": true
      },
      "cell_type": "code",
      "source": "# Matrix is a 2-dimensional Array\n# First index of both the lists is a row and second is the column\nM = np.array([[1,2], [3,4]])\n\n# Printing the elements of the 2-D Numpy Array\nprint (M[0,0])\n\n# Declare a matrix\nM2 = np.matrix([ [1,2], [3,4]])\nprint (M2)\nA1 = np.array(M2)\nprint (A1)\n#Declare an Identity Matrix\nprint(np.eye(3))",
      "execution_count": null,
      "outputs": []
    },
    {
      "metadata": {
        "_uuid": "03b451f5f988939fb80629301d5bc17b80980f0f",
        "_cell_guid": "af9e5bf1-490c-483b-b51a-2ea614af44fb",
        "trusted": false,
        "collapsed": true
      },
      "cell_type": "code",
      "source": "# Create an vector of lenght = 10 and containing all zeros\nprint (np.zeros(10))\n\n# Create an 2D matrix of zeros\nprint (np.zeros((10,10)))\n\n# Create an 2D matrix of ones\nprint (np.ones((10,10)))\n\n# Create an 2D matrix of random numbers\n# This \"random\" function gives us uniformly distributed values between '0' and '1'\nprint (np.random.random((10,10)))\n\n# Create an 2D matrix of random numbers using gaussian distribution\n# These numbers have mean = 0 and variance = 1\nG = np.random.randn(10,10)\nprint(G)\nprint (\"The mean - \")\nprint(G.mean())\nprint (\"The variance - \")\nprint(G.var())\n",
      "execution_count": null,
      "outputs": []
    },
    {
      "metadata": {
        "_uuid": "8581771ef1fd505fdd92613bb956838ac82f30b7",
        "_cell_guid": "f86e763e-b573-48f9-9b52-b81baa5ecd5f",
        "trusted": false,
        "collapsed": true
      },
      "cell_type": "code",
      "source": "# Calculate a Matrix Inverse\n#A2 = np.array([[1,2,3],[4,5,6],[7,8,9]])\n#A2 = np.array([[10,12],[13,14]])\nA2 = np.array([[1,2],[3,4]])\nAInv = np.linalg.inv(A2)\nprint(AInv)\n\n# Get the Identity Matrix\nIdentityMat = A2.dot(AInv) \nprint(IdentityMat)\n\n# get a determinant of a matrix\nMatDet = np.linalg.det(A2)\nprint (MatDet)\n\n# Get the diagonal elements of matrix\nprint(np.diag(A2))\n\n# Get daigonal elements of a vector\nprint(np.diag([1,2]))",
      "execution_count": null,
      "outputs": []
    },
    {
      "metadata": {
        "_uuid": "8988f1362c7efc1081acbfa5b8cabc2f173ffe94",
        "_cell_guid": "29669f88-5733-4a1d-931a-5a645f2c9d6a",
        "trusted": false,
        "collapsed": true
      },
      "cell_type": "code",
      "source": "C = np.array([10,11])\nD = np.array([12,13])\n\n# The outer product of above two vectors is as follows:\nMatOuter = np.outer(C,D)\nprint(np.outer(C,D))\n\n# The inner product\nprint(np.inner(C,D))\n\n# Matrix Trace - Sum of the diagonal elements of a matrix\nprint(np.diag(MatOuter).sum())\nprint(np.trace(MatOuter))",
      "execution_count": null,
      "outputs": []
    },
    {
      "metadata": {
        "_uuid": "971f403a8fadce7daf30f7fca03b0d8f99fdfb5a",
        "_cell_guid": "0f1c6933-e92f-4907-8330-36513b3adb50",
        "trusted": false,
        "collapsed": true
      },
      "cell_type": "code",
      "source": "# EigenValues and EigenVectors\n# the given array has 100 samples and 3 features\nX = np.random.randn(100,3)\n\n# Covariance of X\ncov = np.cov(X.T)\nprint(cov.shape)\nprint(cov)\n\n# Find Eigenvalues and EigenVectors\nprint(np.linalg.eigh(cov))\nprint(np.linalg.eig(cov))",
      "execution_count": null,
      "outputs": []
    },
    {
      "metadata": {
        "_uuid": "45aacdf44eabdb6b9fa29506bd218e00b802ca5f",
        "_cell_guid": "d47167da-111f-4d90-925e-a06132360b4b",
        "trusted": false,
        "collapsed": true
      },
      "cell_type": "code",
      "source": "# Solving a Linear System\n# Ax = b , where A = Matrix , x= column vector and b = vector of numbers\nA3 = np.array([[1,2],[3,4]])\nB3 = np.array([1,2])\n\n# Solution is as follows\nprint(np.linalg.solve(A3 , B3))",
      "execution_count": null,
      "outputs": []
    },
    {
      "metadata": {
        "_uuid": "cb1330c42fff8845ffc7e0b37732b372aca674bf",
        "_cell_guid": "34c01adc-45d6-4337-86c5-6753975d2e54",
        "trusted": false,
        "collapsed": true
      },
      "cell_type": "code",
      "source": "# The admission fee at a samll fair is $1.50 for children and $4.00 for adult. One a day , 2200 people\n#visisted the fair and $5050 amount was collected. How many childrena and how many adults?\n# X1 = number of children and X2 = number of adults\n# X1 + X2 = 2200\n# 1.5X1 + 4X2 = 5050\n# Lets solve using numpy \nAD = np.array([[1,1], [1.5,4]])\nCD = np.array([2200,5050])\n\nprint(np.linalg.solve(AD, CD))\n# 1500 children\n# 700 Adults",
      "execution_count": null,
      "outputs": []
    },
    {
      "metadata": {
        "_uuid": "e10ad6ed7d9cfa4dff53fe4fa8785ae78dde7dc4",
        "_cell_guid": "3041f1c5-c980-4b13-b4f2-2e477f919639",
        "trusted": false,
        "collapsed": true
      },
      "cell_type": "code",
      "source": "# Reshape the Array\nX = np.arange(25)\nprint (X)\nprint (X.reshape(5,5))\n#Max number in array\nprint (\"The max in the array and the index\")\nprint (X.max())\nprint (X.argmax())\n\n#Max number in array\nprint (\"The min in the array and the index\")\nprint (X.min())\nprint (X.argmin())",
      "execution_count": null,
      "outputs": []
    },
    {
      "metadata": {
        "_cell_guid": "7375fe62-da57-4535-a342-5e3d05fa0034",
        "_uuid": "8bb444fc8c0314bb61c32380851f819275c5bcf8",
        "collapsed": true,
        "trusted": false
      },
      "cell_type": "code",
      "source": "",
      "execution_count": null,
      "outputs": []
    }
  ],
  "metadata": {
    "kernelspec": {
      "display_name": "Python 3",
      "language": "python",
      "name": "python3"
    },
    "language_info": {
      "mimetype": "text/x-python",
      "file_extension": ".py",
      "version": "3.6.4",
      "name": "python",
      "codemirror_mode": {
        "version": 3,
        "name": "ipython"
      },
      "pygments_lexer": "ipython3",
      "nbconvert_exporter": "python"
    }
  },
  "nbformat": 4,
  "nbformat_minor": 1
}