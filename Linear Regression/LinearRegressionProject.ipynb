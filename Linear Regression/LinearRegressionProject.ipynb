{
  "cells": [
    {
      "metadata": {
        "_cell_guid": "b1076dfc-b9ad-4769-8c92-a6c4dae69d19",
        "_uuid": "8f2839f25d086af736a60e9eeb907d3b93b6e0e5",
        "trusted": true
      },
      "cell_type": "code",
      "source": "# Linear Regression for Boston house prices\nimport numpy\nimport pandas as pd\nfrom sklearn.model_selection import train_test_split, KFold, cross_val_score\nfrom sklearn.linear_model import LogisticRegression, LinearRegression\n\nfilename = '../input/boston-house-prices/housing.csv'\nnames = ['CRIM', 'ZN', 'INDUS', 'CHAS', 'NOX', 'RM', 'AGE', 'DIS', 'RAD', 'TAX', 'PTRATIO',\n'B', 'LSTAT', 'MEDV']\ndataset = pd.read_csv(filename, delim_whitespace=True, names=names)\narray = dataset.values\nX = array[:,0:13]\nY = array[:,13]\ntest_size = 0.33\nseed = 7\nX_train, X_test, Y_train, Y_test = train_test_split(X, Y, test_size=test_size,\nrandom_state=seed)\nmodel = LinearRegression()\nmodel.fit(X_train, Y_train)\nresult = model.score(X_test, Y_test)\nfinalResult = result*100\nprint(\"The Actual result  - {}\". format(result))\nprint(finalResult)",
      "execution_count": 16,
      "outputs": [
        {
          "name": "stdout",
          "output_type": "stream",
          "text": "The Actual result  - 0.6663089606572575\n66.6308960657\n"
        }
      ]
    },
    {
      "metadata": {
        "trusted": true,
        "_uuid": "a4adf6e74b4dc29c2363fa4406fd6fc279d1ccf4"
      },
      "cell_type": "code",
      "source": "# K-Fold Cross Validation for Linear Regression\n\nkfold = KFold(n_splits=10, random_state=7)\nmodel = LinearRegression()\nscoring = 'neg_mean_squared_error'\nresults = cross_val_score(model, X, Y, cv=kfold, scoring=scoring)\nprint(\"MAE: %.3f (%.3f) \" % (results.mean(), results.std()))\nprint(\"The Actual result  - {}\". format(results))",
      "execution_count": 19,
      "outputs": [
        {
          "name": "stdout",
          "output_type": "stream",
          "text": "MAE: -34.705 (45.574) \nThe Actual result  - [  -9.28694671  -14.15128316  -14.07360615  -35.20692433  -31.88511666\n  -19.83587796   -9.94726918 -168.37537954  -33.32974507  -10.96041068]\n"
        }
      ]
    }
  ],
  "metadata": {
    "kernelspec": {
      "display_name": "Python 3",
      "language": "python",
      "name": "python3"
    },
    "language_info": {
      "codemirror_mode": {
        "name": "ipython",
        "version": 3
      },
      "file_extension": ".py",
      "mimetype": "text/x-python",
      "name": "python",
      "nbconvert_exporter": "python",
      "pygments_lexer": "ipython3",
      "version": "3.6.4"
    }
  },
  "nbformat": 4,
  "nbformat_minor": 1
}